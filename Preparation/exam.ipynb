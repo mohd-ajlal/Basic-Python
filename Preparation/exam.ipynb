{
 "cells": [
  {
   "cell_type": "code",
   "execution_count": 1,
   "metadata": {},
   "outputs": [
    {
     "name": "stdout",
     "output_type": "stream",
     "text": [
      "{'a': 2, 'j': 1, 'l': 2}\n"
     ]
    }
   ],
   "source": [
    "st = input()\n",
    "d1 = {i: st.count(i) for i in st}\n",
    "print(d1)"
   ]
  },
  {
   "cell_type": "code",
   "execution_count": 2,
   "metadata": {},
   "outputs": [
    {
     "name": "stdout",
     "output_type": "stream",
     "text": [
      "{'b': 1, 'a': 3, 'n': 2}\n"
     ]
    }
   ],
   "source": [
    "st = input()\n",
    "d = {i: st.count(i) for i in st}\n",
    "print(d)"
   ]
  },
  {
   "cell_type": "code",
   "execution_count": 7,
   "metadata": {},
   "outputs": [
    {
     "name": "stdout",
     "output_type": "stream",
     "text": [
      "{'a': 2, 'j': 1, 'l': 2}\n"
     ]
    }
   ],
   "source": [
    "st = input()\n",
    "d = {i: st.count(i) for i in st}\n",
    "print(d)"
   ]
  },
  {
   "cell_type": "code",
   "execution_count": 6,
   "metadata": {},
   "outputs": [
    {
     "name": "stdout",
     "output_type": "stream",
     "text": [
      "Hello\n",
      "Python\n",
      "None <class 'NoneType'>\n"
     ]
    }
   ],
   "source": [
    "out = print('Hello') or print('Python')\n",
    "print(out, type(out))"
   ]
  },
  {
   "cell_type": "code",
   "execution_count": 9,
   "metadata": {},
   "outputs": [
    {
     "name": "stdout",
     "output_type": "stream",
     "text": [
      "Hello\n",
      "None <class 'NoneType'>\n"
     ]
    }
   ],
   "source": [
    "out = print('Hello') and print('Python')\n",
    "print(out, type(out))"
   ]
  },
  {
   "cell_type": "code",
   "execution_count": 21,
   "metadata": {},
   "outputs": [
    {
     "name": "stdout",
     "output_type": "stream",
     "text": [
      "Not prime\n"
     ]
    }
   ],
   "source": [
    "# prime no. using while loop\n",
    "\n",
    "n = int(input('Enter a no.: '))\n",
    "i = 2\n",
    "if n == 1 or n == 0:\n",
    "    print('Not prime')\n",
    "else:\n",
    "    while i < n:\n",
    "        if n % i == 0:\n",
    "            print('Not prime')\n",
    "            break\n",
    "        i += 1\n",
    "    else:\n",
    "        print('Prime')\n"
   ]
  },
  {
   "cell_type": "code",
   "execution_count": null,
   "metadata": {},
   "outputs": [],
   "source": [
    "n = int(input('Enter a no.: '))\n",
    "i = 2\n",
    "if n == 0 or n == 1:\n",
    "    print('Not prime')\n",
    "else:\n",
    "    while i < n:\n",
    "        if n%i == 0:\n",
    "            print('Not prime')\n",
    "            break\n",
    "        i += 1\n",
    "    else:\n",
    "        print('Prime')"
   ]
  },
  {
   "cell_type": "code",
   "execution_count": 25,
   "metadata": {},
   "outputs": [
    {
     "name": "stdout",
     "output_type": "stream",
     "text": [
      "Not prime\n"
     ]
    }
   ],
   "source": [
    "n = int(input('Enter a no.: '))\n",
    "if n == 0 or n == 1:\n",
    "    print('Not prime')\n",
    "else:\n",
    "    for i in range(2,n):\n",
    "        if n%i == 0:\n",
    "            print('Not prime')\n",
    "            break\n",
    "    else:\n",
    "        print('Prime')"
   ]
  },
  {
   "cell_type": "code",
   "execution_count": 4,
   "metadata": {},
   "outputs": [
    {
     "name": "stdout",
     "output_type": "stream",
     "text": [
      "2\n"
     ]
    }
   ],
   "source": [
    "# polycap\n",
    "\n",
    "l1 = list(map(int, input().split()))\n",
    "l2 = list(map(lambda x: l1.count(x), l1))\n",
    "print(max(l2))"
   ]
  },
  {
   "cell_type": "code",
   "execution_count": 39,
   "metadata": {},
   "outputs": [
    {
     "name": "stdout",
     "output_type": "stream",
     "text": [
      "3\n"
     ]
    }
   ],
   "source": [
    "l1 = list(map(int, input().split()))\n",
    "l = []\n",
    "for i in l1:\n",
    "    l.append(l1.count(i))\n",
    "print(max(l))"
   ]
  },
  {
   "cell_type": "code",
   "execution_count": null,
   "metadata": {},
   "outputs": [],
   "source": [
    "l1 = list(map(int, input().split()))\n",
    "l2 = list(map(lambda x: l1.count(x), l1))\n",
    "print(max(l2))"
   ]
  },
  {
   "cell_type": "code",
   "execution_count": null,
   "metadata": {},
   "outputs": [],
   "source": [
    "l1 = list(map(int, input().split()))\n",
    "l2 = list(map(lambda x: l1.count(x), l1))\n",
    "print(max(l2))"
   ]
  },
  {
   "cell_type": "code",
   "execution_count": 43,
   "metadata": {},
   "outputs": [
    {
     "name": "stdout",
     "output_type": "stream",
     "text": [
      "3\n"
     ]
    }
   ],
   "source": [
    "a = int(input())\n",
    "b = int(input())\n",
    "c = int(input())\n",
    "if a >= b and a >= c:\n",
    "    print(a)\n",
    "elif b >= a and b >= c:\n",
    "    print(b)\n",
    "else:\n",
    "    print(c)"
   ]
  },
  {
   "cell_type": "code",
   "execution_count": 45,
   "metadata": {},
   "outputs": [
    {
     "name": "stdout",
     "output_type": "stream",
     "text": [
      "[2, 4]\n"
     ]
    }
   ],
   "source": [
    "lt = list(map(int, input().split()))\n",
    "l1 = list(filter(lambda x: x%2 == 0, lt))\n",
    "print(l1)"
   ]
  },
  {
   "cell_type": "code",
   "execution_count": 46,
   "metadata": {},
   "outputs": [
    {
     "name": "stdout",
     "output_type": "stream",
     "text": [
      "[2, 4]\n"
     ]
    }
   ],
   "source": [
    "lis1 = [1, 2, 3, 4, 5]\n",
    "def even(x): return x % 2 == 0\n",
    "lis2 = list(filter(even, lis1))\n",
    "print(lis2)"
   ]
  },
  {
   "cell_type": "code",
   "execution_count": 47,
   "metadata": {},
   "outputs": [
    {
     "name": "stdout",
     "output_type": "stream",
     "text": [
      "[2, 4, 6]\n"
     ]
    }
   ],
   "source": [
    "lt = list(map(int, input().split()))\n",
    "l1 = list(filter(lambda x: x%2 == 0, lt))\n",
    "print(l1)"
   ]
  },
  {
   "cell_type": "code",
   "execution_count": 48,
   "metadata": {},
   "outputs": [
    {
     "name": "stdout",
     "output_type": "stream",
     "text": [
      "Ajlal\n",
      "Anas\n",
      "Abu\n"
     ]
    }
   ],
   "source": [
    "f = open(\"sample.txt\", 'r')\n",
    "data = f.readlines()\n",
    "for i in data:\n",
    "    if i[0] == 'a' or i[0] == 'A':\n",
    "        print(i, end='')\n",
    "f.close()"
   ]
  },
  {
   "cell_type": "code",
   "execution_count": 26,
   "metadata": {},
   "outputs": [
    {
     "name": "stdout",
     "output_type": "stream",
     "text": [
      "21\n",
      "Ajlal\n",
      "Anas\n",
      "Abu\n"
     ]
    }
   ],
   "source": [
    "f = open(\"sample.txt\", 'r')\n",
    "data = f.read()\n",
    "count = 0\n",
    "lt = list((data.split('\\n')))\n",
    "for i in lt:\n",
    "    for j in i:\n",
    "        if j.isalpha():\n",
    "            count += 1\n",
    "print(count)\n",
    "for i in lt:\n",
    "    if i[0] in 'aeiouAEIOU':\n",
    "        print(i)\n",
    "f.close()"
   ]
  },
  {
   "cell_type": "code",
   "execution_count": 62,
   "metadata": {},
   "outputs": [
    {
     "name": "stdout",
     "output_type": "stream",
     "text": [
      "[35, 0]\n"
     ]
    }
   ],
   "source": [
    "def sumsquare(lt):\n",
    "    l1 = []\n",
    "    l2 = []\n",
    "    for i in lt:\n",
    "        if i%2 == 0:\n",
    "            l1.append(i)\n",
    "        else:\n",
    "            l2.append(i)\n",
    "    a = 0\n",
    "    b = 0\n",
    "    for i in l1:\n",
    "        a += i**2\n",
    "    for i in l2:\n",
    "        b += i**2\n",
    "    return [b, a]\n",
    "\n",
    "lt = list(map(int, input().split()))\n",
    "data = sumsquare(lt)\n",
    "print(data)"
   ]
  },
  {
   "cell_type": "code",
   "execution_count": 65,
   "metadata": {},
   "outputs": [
    {
     "name": "stdout",
     "output_type": "stream",
     "text": [
      "[35, 0]\n"
     ]
    }
   ],
   "source": [
    "def sumsquare(lt):\n",
    "    l1 = list(filter(lambda x: x%2 == 0, lt))\n",
    "    l2 = list(filter(lambda x: x%2 != 0, lt))\n",
    "    l3 = list(map(lambda x: x**2, l1))\n",
    "    l4 = list(map(lambda x: x**2, l2))\n",
    "    return [sum(l4), sum(l3)]\n",
    "\n",
    "lt = list(map(int, input().split()))\n",
    "print(sumsquare(lt))"
   ]
  },
  {
   "cell_type": "code",
   "execution_count": 63,
   "metadata": {},
   "outputs": [
    {
     "name": "stdout",
     "output_type": "stream",
     "text": [
      "outer Exception handled\n"
     ]
    }
   ],
   "source": [
    "try:\n",
    "    try:\n",
    "        raise TypeError\n",
    "    except ValueError:\n",
    "        print(\"inner Exception handled \")\n",
    "    print(\"next command\")\n",
    "except TypeError:\n",
    "    print(\"outer Exception handled\")\n",
    "else:\n",
    "    print(\"no Exceptions\")"
   ]
  },
  {
   "cell_type": "code",
   "execution_count": 67,
   "metadata": {},
   "outputs": [
    {
     "name": "stdout",
     "output_type": "stream",
     "text": [
      "{'b': 1, 'a': 3, 'm': 2}\n"
     ]
    }
   ],
   "source": [
    "st = input()\n",
    "dt = {i: st.count(i) for i in st}\n",
    "print(dt)"
   ]
  },
  {
   "cell_type": "code",
   "execution_count": 1,
   "metadata": {},
   "outputs": [
    {
     "name": "stdout",
     "output_type": "stream",
     "text": [
      "{'a': 2, 'j': 1, 'l': 2}\n"
     ]
    }
   ],
   "source": [
    "st = input()\n",
    "d = {i: st.count(i) for i in st}\n",
    "print(d)"
   ]
  },
  {
   "cell_type": "code",
   "execution_count": 36,
   "metadata": {},
   "outputs": [
    {
     "name": "stdout",
     "output_type": "stream",
     "text": [
      "[[ 6 12 18]\n",
      " [ 6 12 18]\n",
      " [ 6 12 18]]\n",
      "6 12 18\n",
      "6 12 18\n",
      "6 12 18\n"
     ]
    }
   ],
   "source": [
    "import numpy as np\n",
    "\n",
    "n = int(input())\n",
    "l1 = []\n",
    "l2 = []\n",
    "for i in range(n):\n",
    "    m1 = list(map(int, input().split()))\n",
    "    l1.append(m1)\n",
    "\n",
    "for i in range(n):\n",
    "    m2 = list(map(int, input().split()))\n",
    "    l2.append(m2)\n",
    "\n",
    "mul = np.dot(l1, l2)\n",
    "print(mul)\n",
    "for i in mul:\n",
    "    print(*i)"
   ]
  },
  {
   "cell_type": "code",
   "execution_count": 7,
   "metadata": {},
   "outputs": [
    {
     "name": "stdout",
     "output_type": "stream",
     "text": [
      "{1: 2, 3: 4, 5: 6}\n"
     ]
    }
   ],
   "source": [
    "lt = [(1,2), (3,4), (5,6)]\n",
    "dt = dict(lt)\n",
    "print(dt)"
   ]
  },
  {
   "cell_type": "code",
   "execution_count": 8,
   "metadata": {},
   "outputs": [
    {
     "name": "stdout",
     "output_type": "stream",
     "text": [
      "One Four Three "
     ]
    }
   ],
   "source": [
    "num = int(input())\n",
    "dt = {1: \"One\", 2: \"Two\", 3: \"Three\", 4: \"Four\", 5: \"Five\", 6: \"Six\", 7: \"Seven\", 8: \"Eight\", 9: \"Nine\", 0: \"Zero\"}\n",
    "for i in str(num):\n",
    "    print(dt.get(int(i)), end=' ')"
   ]
  },
  {
   "cell_type": "code",
   "execution_count": 8,
   "metadata": {},
   "outputs": [
    {
     "name": "stdout",
     "output_type": "stream",
     "text": [
      "Lorem ipsum dolor sit amet consectetur adipisicing elit. Alias commodi culpa reprehenderit iste perferendis officiis\n",
      "laborum iusto! Tempore, perspiciatis, aliquam pariatur facere deserunt repellendus error quas culpa quae cupiditate\n",
      "ipsam odit blanditiis, corrupti quo doloremque animi non nemo sunt! Sint nostrum, tenetur ducimus necessitatibus saepe\n",
      "esse iste dolore fuga eveniet! necessitatibup\n",
      "necessitatibus\n",
      "necessitatibup\n"
     ]
    }
   ],
   "source": [
    "f = open('demo.txt')\n",
    "data = f.read()\n",
    "print(data)\n",
    "lt = data.split()\n",
    "lt1 = sorted(lt, key=len)\n",
    "a = lt1[-1]\n",
    "# print(a)\n",
    "for i in lt1:\n",
    "    if len(i) == len(a):\n",
    "        print(i)\n",
    "f.close()\n"
   ]
  },
  {
   "cell_type": "code",
   "execution_count": 21,
   "metadata": {},
   "outputs": [
    {
     "name": "stdout",
     "output_type": "stream",
     "text": [
      "ipsam odit blanditiis, corrupti quo doloremque animi non nemo sunt! Sint nostrum, tenetur ducimus necessitatibus saepe\n"
     ]
    }
   ],
   "source": [
    "f = open('demo.txt')\n",
    "data = f.read()\n",
    "lt = data.split('\\n')\n",
    "lt1 = sorted(lt, key=len)\n",
    "a = lt1[-1]\n",
    "for i in lt1:\n",
    "    if len(i) == len(a):\n",
    "        print(i)\n",
    "\n",
    "f.close()"
   ]
  },
  {
   "cell_type": "code",
   "execution_count": 23,
   "metadata": {},
   "outputs": [],
   "source": [
    "f1 = open('demo.txt')\n",
    "f2 = open('sample.txt')\n",
    "out = open('output.txt', 'w')\n",
    "data1 = f1.read()\n",
    "data2 = f2.read()\n",
    "out.write(data1)\n",
    "out.write(data2)\n",
    "f1.close()\n",
    "f2.close()\n",
    "out.close()"
   ]
  },
  {
   "cell_type": "code",
   "execution_count": 25,
   "metadata": {},
   "outputs": [
    {
     "name": "stdout",
     "output_type": "stream",
     "text": [
      "[35, 0]\n"
     ]
    }
   ],
   "source": [
    "def apna(lt):\n",
    "    l1 = list(filter(lambda x: x%2 == 0, lt))\n",
    "    l2 = list(filter(lambda x: x%2 != 0, lt))\n",
    "    l3 = list(map(lambda x: x**2, l1))\n",
    "    l4 = list(map(lambda x: x**2, l2))\n",
    "    return [sum(l4), sum(l3)]\n",
    "\n",
    "lt = list(map(int, input().split()))\n",
    "print(apna(lt))"
   ]
  },
  {
   "cell_type": "code",
   "execution_count": 28,
   "metadata": {},
   "outputs": [
    {
     "name": "stdout",
     "output_type": "stream",
     "text": [
      "None\n"
     ]
    }
   ],
   "source": [
    "a = {1: 2, 3: 4, 5: 6}\n",
    "print(a.get(8))"
   ]
  },
  {
   "cell_type": "code",
   "execution_count": 35,
   "metadata": {},
   "outputs": [
    {
     "name": "stdout",
     "output_type": "stream",
     "text": [
      "5\n",
      "5\n"
     ]
    }
   ],
   "source": [
    "import random\n",
    "\n",
    "a = [1, 2, 3, 4, 5]\n",
    "s = random.getstate()\n",
    "m = random.choice(a)\n",
    "print(m)\n",
    "random.setstate(s)\n",
    "n = random.choice(a)\n",
    "print(n)"
   ]
  },
  {
   "cell_type": "code",
   "execution_count": 38,
   "metadata": {},
   "outputs": [
    {
     "name": "stdout",
     "output_type": "stream",
     "text": [
      "[[2, 4, 6], [8, 10, 12], [14, 16, 18]]\n",
      "2 4 6\n",
      "8 10 12\n",
      "14 16 18\n"
     ]
    }
   ],
   "source": [
    "m1 = [[1, 2, 3], [4, 5, 6], [7, 8, 9]]\n",
    "m2 = [[1, 2, 3], [4, 5, 6], [7, 8, 9]]\n",
    "add = [[m1[i][j]+m2[i][j] for j in range(len(m1[0]))]for i in range(len(l1))]\n",
    "print(add)\n",
    "for i in add:\n",
    "    print(*i)"
   ]
  },
  {
   "cell_type": "code",
   "execution_count": 46,
   "metadata": {},
   "outputs": [
    {
     "name": "stdout",
     "output_type": "stream",
     "text": [
      "[[47 48 23]\n",
      " [59 60 25]\n",
      " [40 36 20]]\n",
      "[[ 9  5  6]\n",
      " [20 15 32]\n",
      " [12 20  0]]\n",
      "47 48 23\n",
      "59 60 25\n",
      "40 36 20\n",
      "9 5 6\n",
      "20 15 32\n",
      "12 20 0\n"
     ]
    }
   ],
   "source": [
    "import numpy as np\n",
    "\n",
    "mat1 = [[3, 5, 6], [5,5,8],[4,4,4]]\n",
    "mat2 = [[3, 1, 1], [4, 3, 4], [3, 5, 0]]\n",
    "\n",
    "mul = np.dot(mat1, mat2)\n",
    "mul2 = np.multiply(mat1, mat2)\n",
    "print(mul)\n",
    "print(mul2)\n",
    "for i in mul:\n",
    "    print(*i)\n",
    "for i in mul2:\n",
    "    print(*i)"
   ]
  },
  {
   "cell_type": "code",
   "execution_count": 48,
   "metadata": {},
   "outputs": [
    {
     "name": "stdout",
     "output_type": "stream",
     "text": [
      "Friend 2\n"
     ]
    }
   ],
   "source": [
    "Enemy, Friend = 5, 2\n",
    "st = 'No Better Friend No Worse Enemy'.split()\n",
    "re = st[Enemy%20] and None if Enemy + Friend < len(st) else st[Friend%20]\n",
    "print(re, eval(re))"
   ]
  },
  {
   "cell_type": "code",
   "execution_count": 49,
   "metadata": {},
   "outputs": [
    {
     "name": "stdout",
     "output_type": "stream",
     "text": [
      "HEllo\n",
      "Hi\n",
      "None <class 'NoneType'>\n"
     ]
    }
   ],
   "source": [
    "a = print('HEllo') or print('Hi')\n",
    "print(a, type(a))"
   ]
  },
  {
   "cell_type": "code",
   "execution_count": 50,
   "metadata": {},
   "outputs": [
    {
     "name": "stdout",
     "output_type": "stream",
     "text": [
      "2\n"
     ]
    }
   ],
   "source": [
    "l1 = list(map(int, input().split()))\n",
    "l2 = list(map(lambda x: l1.count(x), l1))\n",
    "print(max(l2))"
   ]
  },
  {
   "cell_type": "code",
   "execution_count": 51,
   "metadata": {},
   "outputs": [
    {
     "name": "stdout",
     "output_type": "stream",
     "text": [
      "[2, 4, 6, 8]\n"
     ]
    }
   ],
   "source": [
    "l1 = [1, 2, 3, 4, 5, 6, 7, 8, 9]\n",
    "l2 = list(filter(lambda x: x%2 == 0, l1))\n",
    "print(l2)"
   ]
  },
  {
   "cell_type": "code",
   "execution_count": null,
   "metadata": {},
   "outputs": [],
   "source": [
    "n = int(input('Enter no of rows: '))\n",
    "l1 = []\n",
    "l2 = []\n",
    "for i in range(l1):\n",
    "    m1 = list(map(int, input().split()))\n",
    "    l1.append(m1)\n"
   ]
  },
  {
   "cell_type": "code",
   "execution_count": 52,
   "metadata": {},
   "outputs": [
    {
     "name": "stdout",
     "output_type": "stream",
     "text": [
      "Ajlal\n",
      "Anas\n",
      "Abu\n"
     ]
    }
   ],
   "source": [
    "f = open('sample.txt')\n",
    "data = f.read()\n",
    "lt = data.split('\\n')\n",
    "for i in lt:\n",
    "    if i[0] == 'A':\n",
    "        print(i)\n",
    "f.close()"
   ]
  },
  {
   "cell_type": "code",
   "execution_count": 53,
   "metadata": {},
   "outputs": [
    {
     "name": "stdout",
     "output_type": "stream",
     "text": [
      "360\n",
      "ipsam odit blanditiis, corrupti quo doloremque animi non nemo sunt! Sint nostrum, tenetur ducimus necessitatibus saepe\n",
      "esse iste dolore fuga eveniet! necessitatibupAjlal\n",
      "Anas\n",
      "Abu\n"
     ]
    }
   ],
   "source": [
    "f = open('output.txt')\n",
    "data = f.read()\n",
    "l = []\n",
    "for i in data:\n",
    "    if i.isalpha():\n",
    "        l.append(i)\n",
    "print(len(l))\n",
    "lt = data.split('\\n')\n",
    "for i in lt:\n",
    "    if i[0] in 'AEIOUaeiou':\n",
    "        print(i)"
   ]
  },
  {
   "cell_type": "code",
   "execution_count": 54,
   "metadata": {},
   "outputs": [
    {
     "name": "stdout",
     "output_type": "stream",
     "text": [
      "[35, 0]\n"
     ]
    }
   ],
   "source": [
    "def sumsquare(lt):\n",
    "    even = list(filter(lambda x: x%2==0, lt))\n",
    "    odd = list(filter(lambda x: x%2!=0, lt))\n",
    "    l1 = sum(list(map(lambda x: x**2, even)))\n",
    "    l2 = sum(list(map(lambda x: x**2, odd)))\n",
    "    return [l2, l1]\n",
    "\n",
    "# main\n",
    "lt = list(map(int, input().split()))\n",
    "out = sumsquare(lt)\n",
    "print(out)"
   ]
  },
  {
   "cell_type": "code",
   "execution_count": 70,
   "metadata": {},
   "outputs": [
    {
     "ename": "ValueError",
     "evalue": "invalid literal for int() with base 10: 'a'",
     "output_type": "error",
     "traceback": [
      "\u001b[1;31m---------------------------------------------------------------------------\u001b[0m",
      "\u001b[1;31mValueError\u001b[0m                                Traceback (most recent call last)",
      "Cell \u001b[1;32mIn [70], line 1\u001b[0m\n\u001b[1;32m----> 1\u001b[0m \u001b[39mint\u001b[39;49m(\u001b[39m'\u001b[39;49m\u001b[39ma\u001b[39;49m\u001b[39m'\u001b[39;49m)\n",
      "\u001b[1;31mValueError\u001b[0m: invalid literal for int() with base 10: 'a'"
     ]
    }
   ],
   "source": [
    "int('a')"
   ]
  },
  {
   "cell_type": "code",
   "execution_count": 80,
   "metadata": {},
   "outputs": [
    {
     "name": "stdout",
     "output_type": "stream",
     "text": [
      "{'a': 2, 'j': 1, 'l': 2}\n"
     ]
    }
   ],
   "source": [
    "st = input()\n",
    "d = {i: st.count(i) for i in st}\n",
    "print(d)"
   ]
  },
  {
   "cell_type": "code",
   "execution_count": 82,
   "metadata": {},
   "outputs": [
    {
     "ename": "ValueError",
     "evalue": "invalid literal for int() with base 10: 'dsc'",
     "output_type": "error",
     "traceback": [
      "\u001b[1;31m---------------------------------------------------------------------------\u001b[0m",
      "\u001b[1;31mValueError\u001b[0m                                Traceback (most recent call last)",
      "Cell \u001b[1;32mIn [82], line 1\u001b[0m\n\u001b[1;32m----> 1\u001b[0m a \u001b[39m=\u001b[39m \u001b[39mint\u001b[39;49m(\u001b[39minput\u001b[39;49m())\n",
      "\u001b[1;31mValueError\u001b[0m: invalid literal for int() with base 10: 'dsc'"
     ]
    }
   ],
   "source": [
    "a = int(input())"
   ]
  },
  {
   "cell_type": "code",
   "execution_count": 6,
   "metadata": {},
   "outputs": [
    {
     "name": "stdout",
     "output_type": "stream",
     "text": [
      "Not Prime\n"
     ]
    }
   ],
   "source": [
    "a = int(input())\n",
    "i = 2\n",
    "while i<=2:\n",
    "    if a%i == 0:\n",
    "        print('Not Prime')\n",
    "        break\n",
    "    i += 1\n",
    "else:\n",
    "    print('Prime')\n",
    "        "
   ]
  },
  {
   "cell_type": "code",
   "execution_count": null,
   "metadata": {},
   "outputs": [],
   "source": [
    "a = int(input())\n",
    "i = 2\n",
    "while i<=2:\n",
    "    if a%i ==0:\n",
    "        print('Not Prime')\n",
    "        break\n",
    "    i += 1\n",
    "else:\n",
    "    print('Prime')"
   ]
  },
  {
   "cell_type": "code",
   "execution_count": 1,
   "metadata": {},
   "outputs": [
    {
     "name": "stdout",
     "output_type": "stream",
     "text": [
      "(1+2j)\n"
     ]
    }
   ],
   "source": [
    "import cmath\n",
    "\n",
    "n = complex(input())\n",
    "print(n)"
   ]
  },
  {
   "cell_type": "code",
   "execution_count": 32,
   "metadata": {},
   "outputs": [
    {
     "name": "stdout",
     "output_type": "stream",
     "text": [
      "[['Tina', 37.2], ['Harry', 37.21], ['Berry', 37.21], ['Harsh', 39], ['Akriti', 41]]\n"
     ]
    }
   ],
   "source": [
    "l =  [['Harry', 37.21], ['Berry', 37.21], ['Tina', 37.2], ['Akriti', 41], ['Harsh', 39]]\n",
    "s = sorted(l, key=lambda x: x[1])\n",
    "print(s)"
   ]
  },
  {
   "cell_type": "code",
   "execution_count": 34,
   "metadata": {},
   "outputs": [
    {
     "name": "stdout",
     "output_type": "stream",
     "text": [
      "[['dc', 12], ['dcs', 12], ['dc', 54]]\n",
      "[['dc', 12], ['dcs', 12], ['dc', 54]]\n",
      "dc\n",
      "dcs\n"
     ]
    }
   ],
   "source": [
    "n = int(input())\n",
    "l = []\n",
    "for i in range(n):\n",
    "    a = input()\n",
    "    num = eval(input())\n",
    "    lt = [a, num]\n",
    "    l.append(lt)\n",
    "print(l)\n",
    "s = sorted(l, key=lambda x: x[1])\n",
    "print(s)\n",
    "l = 1\n",
    "print(s[0][0])\n",
    "for i in range(len(s)):\n",
    "    if s[0][1]==s[l][1]:\n",
    "        print(s[l][0])\n",
    "        l= l+1\n"
   ]
  },
  {
   "cell_type": "code",
   "execution_count": 42,
   "metadata": {},
   "outputs": [
    {
     "name": "stdout",
     "output_type": "stream",
     "text": [
      "[['ajlal', 100], ['anas', 100], ['ankit', 90], ['vibhanshu', 90], ['as', 54]]\n",
      "[['as', 54], ['ankit', 90], ['vibhanshu', 90], ['ajlal', 100], ['anas', 100]]\n",
      "['vibhanshu']\n"
     ]
    }
   ],
   "source": [
    "n = int(input())\n",
    "l = []\n",
    "for i in range(n):\n",
    "    a = input()\n",
    "    num = eval(input())\n",
    "    lt = [a, num]\n",
    "    l.append(lt)\n",
    "# print(l)\n",
    "s = sorted(l, key=lambda x: x[1])\n",
    "# print(s)\n",
    "l = 1\n",
    "lt2 = []\n",
    "if s[0][1] != s[l][1]:   \n",
    "    lt2.append(s[l][0])\n",
    "    l = l+1\n",
    "for i in range(len(s)-1):\n",
    "    if s[l-1][1]==s[l][1]:\n",
    "        lt2.append(s[l][0])\n",
    "        l= l+1\n",
    "        \n",
    "lt2.sort()\n",
    "for i in lt2:\n",
    "    print(lt2)\n"
   ]
  }
 ],
 "metadata": {
  "kernelspec": {
   "display_name": "Python 3",
   "language": "python",
   "name": "python3"
  },
  "language_info": {
   "codemirror_mode": {
    "name": "ipython",
    "version": 3
   },
   "file_extension": ".py",
   "mimetype": "text/x-python",
   "name": "python",
   "nbconvert_exporter": "python",
   "pygments_lexer": "ipython3",
   "version": "3.10.7"
  },
  "orig_nbformat": 4,
  "vscode": {
   "interpreter": {
    "hash": "30c9f151d170d064f054e7769e6cc33a781cb713a9712292b110ae53e4c3962f"
   }
  }
 },
 "nbformat": 4,
 "nbformat_minor": 2
}
