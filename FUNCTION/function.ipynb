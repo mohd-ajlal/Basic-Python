{
 "cells": [
  {
   "cell_type": "code",
   "execution_count": 4,
   "metadata": {},
   "outputs": [
    {
     "name": "stdout",
     "output_type": "stream",
     "text": [
      "0b10111\n",
      "0x17\n",
      "23.0\n"
     ]
    }
   ],
   "source": [
    "# built in functions\n",
    "\n",
    "num = 23\n",
    "out = bin(num)\n",
    "he = hex(num)\n",
    "fl = float(num)\n",
    "print(out)\n",
    "print(he)\n",
    "print(fl)"
   ]
  },
  {
   "cell_type": "code",
   "execution_count": 8,
   "metadata": {},
   "outputs": [
    {
     "name": "stdout",
     "output_type": "stream",
     "text": [
      "[1, 4, 12, 45, 78]\n"
     ]
    }
   ],
   "source": [
    "ls = [12, 45, 78, 4, 1]\n",
    "\n",
    "out = sorted(ls)\n",
    "print(out)"
   ]
  },
  {
   "cell_type": "code",
   "execution_count": 10,
   "metadata": {},
   "outputs": [
    {
     "name": "stdout",
     "output_type": "stream",
     "text": [
      "['e', 'h', 'l', 'l', 'o']\n"
     ]
    }
   ],
   "source": [
    "st = 'hello'\n",
    "\n",
    "out = sorted(st)\n",
    "print(out)"
   ]
  },
  {
   "cell_type": "code",
   "execution_count": 2,
   "metadata": {},
   "outputs": [
    {
     "name": "stdout",
     "output_type": "stream",
     "text": [
      "False\n"
     ]
    }
   ],
   "source": [
    "def is_leap(year):\n",
    "    \n",
    "    \n",
    "    if((year % 400 == 0) or  (year % 100 != 0) and  (year % 4 == 0)): \n",
    "        leap = True\n",
    "    else:\n",
    "        leap = False\n",
    "    \n",
    "    return leap\n",
    "\n",
    "year = int(input())\n",
    "print(is_leap(year))"
   ]
  }
 ],
 "metadata": {
  "kernelspec": {
   "display_name": "Python 3.10.7 64-bit",
   "language": "python",
   "name": "python3"
  },
  "language_info": {
   "codemirror_mode": {
    "name": "ipython",
    "version": 3
   },
   "file_extension": ".py",
   "mimetype": "text/x-python",
   "name": "python",
   "nbconvert_exporter": "python",
   "pygments_lexer": "ipython3",
   "version": "3.10.7"
  },
  "orig_nbformat": 4,
  "vscode": {
   "interpreter": {
    "hash": "30c9f151d170d064f054e7769e6cc33a781cb713a9712292b110ae53e4c3962f"
   }
  }
 },
 "nbformat": 4,
 "nbformat_minor": 2
}
