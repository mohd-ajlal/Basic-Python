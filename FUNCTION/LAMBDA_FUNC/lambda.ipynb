{
 "cells": [
  {
   "cell_type": "code",
   "execution_count": 1,
   "metadata": {},
   "outputs": [
    {
     "name": "stdout",
     "output_type": "stream",
     "text": [
      "15\n"
     ]
    }
   ],
   "source": [
    "x = lambda a: a+10\n",
    "print(x(5))"
   ]
  },
  {
   "cell_type": "code",
   "execution_count": 12,
   "metadata": {},
   "outputs": [
    {
     "name": "stdout",
     "output_type": "stream",
     "text": [
      "5\n",
      "10\n",
      "15\n",
      "20\n",
      "25\n"
     ]
    }
   ],
   "source": [
    "\n",
    "for i in range(1, 6):\n",
    "    a = lambda x: x * i\n",
    "    print(a(5))"
   ]
  },
  {
   "cell_type": "code",
   "execution_count": 36,
   "metadata": {},
   "outputs": [
    {
     "name": "stdout",
     "output_type": "stream",
     "text": [
      "5*1 =  5\t\n",
      "5*2 =  10\t\n",
      "5*3 =  15\t\n",
      "5*4 =  20\t\n",
      "5*5 =  25\t\n",
      "5*6 =  30\t\n",
      "5*7 =  35\t\n",
      "5*8 =  40\t\n",
      "5*9 =  45\t\n",
      "5*10 =  50\t\n"
     ]
    }
   ],
   "source": [
    "b = 1\n",
    "\n",
    "while b<=10:\n",
    "\n",
    "    x = lambda a, b: a*b\n",
    "    print(f\"{i}*{b} = \", x(5, b) ,end = \"\\t\")\n",
    "    # print(x(5, b))\n",
    "    print()\n",
    "\n",
    "    b+=1"
   ]
  }
 ],
 "metadata": {
  "kernelspec": {
   "display_name": "Python 3.10.7 64-bit",
   "language": "python",
   "name": "python3"
  },
  "language_info": {
   "codemirror_mode": {
    "name": "ipython",
    "version": 3
   },
   "file_extension": ".py",
   "mimetype": "text/x-python",
   "name": "python",
   "nbconvert_exporter": "python",
   "pygments_lexer": "ipython3",
   "version": "3.10.7"
  },
  "orig_nbformat": 4,
  "vscode": {
   "interpreter": {
    "hash": "30c9f151d170d064f054e7769e6cc33a781cb713a9712292b110ae53e4c3962f"
   }
  }
 },
 "nbformat": 4,
 "nbformat_minor": 2
}
