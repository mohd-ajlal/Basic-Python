{
 "cells": [
  {
   "cell_type": "code",
   "execution_count": null,
   "metadata": {},
   "outputs": [],
   "source": [
    "# scope of variable\n",
    "\n",
    "'''\n",
    "A variable is only available from inside the region it is created. This is called scope.\n",
    "\n",
    "1. Local Scope\n",
    "2. Global Scope\n",
    "3. Built-in Scope'''"
   ]
  },
  {
   "cell_type": "code",
   "execution_count": 1,
   "metadata": {},
   "outputs": [
    {
     "name": "stdout",
     "output_type": "stream",
     "text": [
      "10\n"
     ]
    }
   ],
   "source": [
    "a = 10\n",
    "def add():\n",
    "    pass\n",
    "add()\n",
    "print(a)"
   ]
  },
  {
   "cell_type": "code",
   "execution_count": 12,
   "metadata": {},
   "outputs": [
    {
     "name": "stdout",
     "output_type": "stream",
     "text": [
      "10\n",
      "10\n"
     ]
    }
   ],
   "source": [
    "a = 10 # global scope\n",
    "def add():\n",
    "    a = 20  # local scope\n",
    "    print(a)\n",
    "# a = 10 # global scope\n",
    "add()\n",
    "print(a)"
   ]
  },
  {
   "cell_type": "code",
   "execution_count": 18,
   "metadata": {},
   "outputs": [
    {
     "name": "stdout",
     "output_type": "stream",
     "text": [
      "20\n"
     ]
    },
    {
     "ename": "NameError",
     "evalue": "name 'c' is not defined",
     "output_type": "error",
     "traceback": [
      "\u001b[1;31m---------------------------------------------------------------------------\u001b[0m",
      "\u001b[1;31mNameError\u001b[0m                                 Traceback (most recent call last)",
      "Cell \u001b[1;32mIn [18], line 7\u001b[0m\n\u001b[0;32m      5\u001b[0m     \u001b[39mprint\u001b[39m(c)\n\u001b[0;32m      6\u001b[0m b()\n\u001b[1;32m----> 7\u001b[0m \u001b[39mprint\u001b[39m(c)\n",
      "\u001b[1;31mNameError\u001b[0m: name 'c' is not defined"
     ]
    }
   ],
   "source": [
    "# we can't use local scope variable outside the function\n",
    "\n",
    "def b():\n",
    "    c = 20  # local scope\n",
    "    print(c)\n",
    "b()\n",
    "print(c)\n",
    "\n",
    "# name 'c' is not defined in global scope"
   ]
  },
  {
   "cell_type": "code",
   "execution_count": 20,
   "metadata": {},
   "outputs": [
    {
     "name": "stdout",
     "output_type": "stream",
     "text": [
      "10\n",
      "10\n"
     ]
    }
   ],
   "source": [
    "a = 10 # global scope\n",
    "def add():\n",
    "    print(a)\n",
    "\n",
    "add()\n",
    "print(a)\n",
    "\n",
    "# we can use global scope variable inside the function\n",
    "# only tells the value of a is 10   # global scope"
   ]
  },
  {
   "cell_type": "code",
   "execution_count": 22,
   "metadata": {},
   "outputs": [
    {
     "ename": "UnboundLocalError",
     "evalue": "local variable 'a' referenced before assignment",
     "output_type": "error",
     "traceback": [
      "\u001b[1;31m---------------------------------------------------------------------------\u001b[0m",
      "\u001b[1;31mUnboundLocalError\u001b[0m                         Traceback (most recent call last)",
      "Cell \u001b[1;32mIn [22], line 6\u001b[0m\n\u001b[0;32m      3\u001b[0m     \u001b[39mprint\u001b[39m(a)\n\u001b[0;32m      4\u001b[0m     a \u001b[39m=\u001b[39m \u001b[39m0\u001b[39m\n\u001b[1;32m----> 6\u001b[0m add()\n\u001b[0;32m      7\u001b[0m \u001b[39mprint\u001b[39m(a)\n",
      "Cell \u001b[1;32mIn [22], line 3\u001b[0m, in \u001b[0;36madd\u001b[1;34m()\u001b[0m\n\u001b[0;32m      2\u001b[0m \u001b[39mdef\u001b[39;00m \u001b[39madd\u001b[39m():\n\u001b[1;32m----> 3\u001b[0m     \u001b[39mprint\u001b[39m(a)\n\u001b[0;32m      4\u001b[0m     a \u001b[39m=\u001b[39m \u001b[39m0\u001b[39m\n",
      "\u001b[1;31mUnboundLocalError\u001b[0m: local variable 'a' referenced before assignment"
     ]
    }
   ],
   "source": [
    "a = 10 # global scope\n",
    "def add():\n",
    "    print(a)\n",
    "    a = 0\n",
    "\n",
    "add()\n",
    "print(a)\n",
    "\n",
    "# local variable 'a' referenced before assignment\n",
    "# UnboundLocalError"
   ]
  },
  {
   "cell_type": "code",
   "execution_count": 28,
   "metadata": {},
   "outputs": [
    {
     "name": "stdout",
     "output_type": "stream",
     "text": [
      "25\n"
     ]
    }
   ],
   "source": [
    "# we can change the value of global variable inside the function\n",
    "# but we have to use global keyword\n",
    "# global keyword is used to create global variable inside the function\n",
    "\n",
    "def add():\n",
    "    global a \n",
    "    \n",
    "    a =25\n",
    "\n",
    "a = 10 # global scope\n",
    "add()\n",
    "print(a)\n"
   ]
  },
  {
   "cell_type": "code",
   "execution_count": 29,
   "metadata": {},
   "outputs": [
    {
     "name": "stdout",
     "output_type": "stream",
     "text": [
      "10\n",
      "25\n"
     ]
    }
   ],
   "source": [
    "def add():\n",
    "    global a \n",
    "    print(a)\n",
    "    a =25\n",
    "\n",
    "a = 10 # global scope\n",
    "add()\n",
    "print(a)"
   ]
  },
  {
   "cell_type": "code",
   "execution_count": 39,
   "metadata": {},
   "outputs": [
    {
     "name": "stdout",
     "output_type": "stream",
     "text": [
      "200\n",
      "200\n",
      "200\n",
      "200\n",
      "200\n",
      "100\n"
     ]
    }
   ],
   "source": [
    "# non local variable\n",
    "# we can use non local variable inside the function\n",
    "# but we have to use non local keyword\n",
    "# non local keyword is used to create non local variable inside the function\n",
    "\n",
    "def add():\n",
    "    def fun1():\n",
    "        a = 2\n",
    "        \n",
    "    \n",
    "    def fun2():\n",
    "        a = 24\n",
    "    \n",
    "    def fun3():\n",
    "        a = 29\n",
    "    \n",
    "    def fun4():\n",
    "        a = 490\n",
    "    a = 0\n",
    "    print(a)\n",
    "    fun1()\n",
    "    print(a)\n",
    "    fun2()\n",
    "    print(a)\n",
    "    fun3()\n",
    "    print(a)\n",
    "    fun4()\n",
    "    print(a)\n",
    "\n",
    "a = 100 # global scope\n",
    "add()\n",
    "print(a)"
   ]
  },
  {
   "cell_type": "code",
   "execution_count": 41,
   "metadata": {},
   "outputs": [
    {
     "name": "stdout",
     "output_type": "stream",
     "text": [
      "100\n",
      "0\n",
      "24\n",
      "24\n",
      "24\n",
      "29\n"
     ]
    }
   ],
   "source": [
    "def add():\n",
    "    def fun1():\n",
    "        a = 2\n",
    "        \n",
    "    \n",
    "    def fun2():\n",
    "        nonlocal a\n",
    "        a = 24\n",
    "\n",
    "    def fun3():\n",
    "        global a\n",
    "        a = 29\n",
    "\n",
    "    def fun4():\n",
    "        a = 490\n",
    "    a = 0\n",
    "    fun1()\n",
    "    print(a)\n",
    "    fun2()\n",
    "    print(a)\n",
    "    fun3()\n",
    "    print(a)\n",
    "    fun4()\n",
    "    print(a)\n",
    "\n",
    "a = 100 # global scope\n",
    "print(a)\n",
    "add()\n",
    "print(a)"
   ]
  }
 ],
 "metadata": {
  "kernelspec": {
   "display_name": "Python 3.10.7 64-bit",
   "language": "python",
   "name": "python3"
  },
  "language_info": {
   "codemirror_mode": {
    "name": "ipython",
    "version": 3
   },
   "file_extension": ".py",
   "mimetype": "text/x-python",
   "name": "python",
   "nbconvert_exporter": "python",
   "pygments_lexer": "ipython3",
   "version": "3.10.7"
  },
  "orig_nbformat": 4,
  "vscode": {
   "interpreter": {
    "hash": "30c9f151d170d064f054e7769e6cc33a781cb713a9712292b110ae53e4c3962f"
   }
  }
 },
 "nbformat": 4,
 "nbformat_minor": 2
}
