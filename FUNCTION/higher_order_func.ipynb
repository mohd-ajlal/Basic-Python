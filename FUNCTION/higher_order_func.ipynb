{
 "cells": [
  {
   "cell_type": "code",
   "execution_count": null,
   "metadata": {},
   "outputs": [],
   "source": [
    "# higher order function\n",
    "\n"
   ]
  },
  {
   "cell_type": "code",
   "execution_count": 17,
   "metadata": {},
   "outputs": [
    {
     "name": "stdout",
     "output_type": "stream",
     "text": [
      "31\n"
     ]
    }
   ],
   "source": [
    "def fact_sum(*argv):\n",
    "    def fact(x):\n",
    "        f = 1\n",
    "        for i in range(1, x+1):\n",
    "            f *=i\n",
    "            \n",
    "        return f\n",
    "    s = 0\n",
    "    for i in argv:\n",
    "        s += fact(i)\n",
    "    return s\n",
    "\n",
    "# main\n",
    "\n",
    "n = int(input(\"Enter no. of element: \"))\n",
    "ls = []\n",
    "for i in range(n):\n",
    "    ele = int(input(f\"Enter +ve no {i+1}: \"))\n",
    "    if ele>=0:\n",
    "        ls.append(ele)\n",
    "out = fact_sum(*ls)\n",
    "print(out)"
   ]
  },
  {
   "cell_type": "code",
   "execution_count": 18,
   "metadata": {},
   "outputs": [
    {
     "name": "stdout",
     "output_type": "stream",
     "text": [
      "['abc', 'ali', 'ravi', 'shyam']\n"
     ]
    }
   ],
   "source": [
    "ls  = ['abc', 'ravi', 'shyam', 'ali']\n",
    "ls.sort()\n",
    "print(ls)"
   ]
  },
  {
   "cell_type": "code",
   "execution_count": 23,
   "metadata": {},
   "outputs": [
    {
     "name": "stdout",
     "output_type": "stream",
     "text": [
      "['ali', 'ravi', 'abcdef', 'shyamman']\n"
     ]
    }
   ],
   "source": [
    "ls  = ['abcdef', 'ravi', 'shyamman', 'ali']\n",
    "ls.sort(key=len)\n",
    "print(ls)"
   ]
  },
  {
   "cell_type": "code",
   "execution_count": 30,
   "metadata": {},
   "outputs": [
    {
     "name": "stdout",
     "output_type": "stream",
     "text": [
      "['abhishek', 'sonal', 'amit', 'raghav']\n"
     ]
    }
   ],
   "source": [
    "def apna_func(x):\n",
    "    return x[-1]\n",
    "\n",
    "ls  = ['abhishek', 'sonal', 'raghav', 'amit']\n",
    "ls.sort(key=apna_func)\n",
    "print(ls)"
   ]
  },
  {
   "cell_type": "code",
   "execution_count": 38,
   "metadata": {},
   "outputs": [
    {
     "name": "stdout",
     "output_type": "stream",
     "text": [
      "831\n"
     ]
    }
   ],
   "source": [
    "def ascii_weight(x):\n",
    "    s = 0\n",
    "    for i in x:\n",
    "        s += ord(i)\n",
    "    return s\n",
    "ls  = 'abhishek'\n",
    "\n",
    "print(ascii_weight(ls))"
   ]
  },
  {
   "cell_type": "code",
   "execution_count": 40,
   "metadata": {},
   "outputs": [
    {
     "name": "stdout",
     "output_type": "stream",
     "text": [
      "['amit', 'sonal', 'raghav', 'abhishek']\n"
     ]
    }
   ],
   "source": [
    "def ascii_weight(x):\n",
    "    s = 0\n",
    "    for i in x:\n",
    "        s += ord(i)\n",
    "    return s\n",
    "ls  = ['abhishek', 'sonal', 'raghav', 'amit']\n",
    "ls.sort(key=ascii_weight)\n",
    "print(ls)"
   ]
  }
 ],
 "metadata": {
  "kernelspec": {
   "display_name": "Python 3.10.7 64-bit",
   "language": "python",
   "name": "python3"
  },
  "language_info": {
   "codemirror_mode": {
    "name": "ipython",
    "version": 3
   },
   "file_extension": ".py",
   "mimetype": "text/x-python",
   "name": "python",
   "nbconvert_exporter": "python",
   "pygments_lexer": "ipython3",
   "version": "3.10.7"
  },
  "orig_nbformat": 4,
  "vscode": {
   "interpreter": {
    "hash": "30c9f151d170d064f054e7769e6cc33a781cb713a9712292b110ae53e4c3962f"
   }
  }
 },
 "nbformat": 4,
 "nbformat_minor": 2
}
