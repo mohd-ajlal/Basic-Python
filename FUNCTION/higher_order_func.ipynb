{
 "cells": [
  {
   "cell_type": "code",
   "execution_count": null,
   "metadata": {},
   "outputs": [],
   "source": [
    "# higher order function\n",
    "\n"
   ]
  },
  {
   "cell_type": "code",
   "execution_count": 17,
   "metadata": {},
   "outputs": [
    {
     "name": "stdout",
     "output_type": "stream",
     "text": [
      "31\n"
     ]
    }
   ],
   "source": [
    "def fact_sum(*argv):\n",
    "    def fact(x):\n",
    "        f = 1\n",
    "        for i in range(1, x+1):\n",
    "            f *=i\n",
    "            \n",
    "        return f\n",
    "    s = 0\n",
    "    for i in argv:\n",
    "        s += fact(i)\n",
    "    return s\n",
    "\n",
    "# main\n",
    "\n",
    "n = int(input(\"Enter no. of element: \"))\n",
    "ls = []\n",
    "for i in range(n):\n",
    "    ele = int(input(f\"Enter +ve no {i+1}: \"))\n",
    "    if ele>=0:\n",
    "        ls.append(ele)\n",
    "out = fact_sum(*ls)\n",
    "print(out)"
   ]
  },
  {
   "cell_type": "code",
   "execution_count": 18,
   "metadata": {},
   "outputs": [
    {
     "name": "stdout",
     "output_type": "stream",
     "text": [
      "['abc', 'ali', 'ravi', 'shyam']\n"
     ]
    }
   ],
   "source": [
    "ls  = ['abc', 'ravi', 'shyam', 'ali']\n",
    "ls.sort()\n",
    "print(ls)"
   ]
  },
  {
   "cell_type": "code",
   "execution_count": 23,
   "metadata": {},
   "outputs": [
    {
     "name": "stdout",
     "output_type": "stream",
     "text": [
      "['ali', 'ravi', 'abcdef', 'shyamman']\n"
     ]
    }
   ],
   "source": [
    "ls  = ['abcdef', 'ravi', 'shyamman', 'ali']\n",
    "ls.sort(key=len)\n",
    "print(ls)"
   ]
  },
  {
   "cell_type": "code",
   "execution_count": 30,
   "metadata": {},
   "outputs": [
    {
     "name": "stdout",
     "output_type": "stream",
     "text": [
      "['abhishek', 'sonal', 'amit', 'raghav']\n"
     ]
    }
   ],
   "source": [
    "def apna_func(x):\n",
    "    return x[-1]\n",
    "\n",
    "ls  = ['abhishek', 'sonal', 'raghav', 'amit']\n",
    "ls.sort(key=apna_func)\n",
    "print(ls)"
   ]
  },
  {
   "cell_type": "code",
   "execution_count": 38,
   "metadata": {},
   "outputs": [
    {
     "name": "stdout",
     "output_type": "stream",
     "text": [
      "831\n"
     ]
    }
   ],
   "source": [
    "def ascii_weight(x):\n",
    "    s = 0\n",
    "    for i in x:\n",
    "        s += ord(i)\n",
    "    return s\n",
    "ls  = 'abhishek'\n",
    "\n",
    "print(ascii_weight(ls))"
   ]
  },
  {
   "cell_type": "code",
   "execution_count": 40,
   "metadata": {},
   "outputs": [
    {
     "name": "stdout",
     "output_type": "stream",
     "text": [
      "['amit', 'sonal', 'raghav', 'abhishek']\n"
     ]
    }
   ],
   "source": [
    "def ascii_weight(x):\n",
    "    s = 0\n",
    "    for i in x:\n",
    "        s += ord(i)\n",
    "    return s\n",
    "ls  = ['abhishek', 'sonal', 'raghav', 'amit']\n",
    "ls.sort(key=ascii_weight)\n",
    "print(ls)"
   ]
  },
  {
   "cell_type": "code",
   "execution_count": 2,
   "metadata": {},
   "outputs": [
    {
     "name": "stdout",
     "output_type": "stream",
     "text": [
      "[4, 3, 2, 1]\n"
     ]
    }
   ],
   "source": [
    "lt = [1, 2, 3, 4]\n",
    "\n",
    "lt.reverse()\n",
    "print(lt)"
   ]
  },
  {
   "cell_type": "code",
   "execution_count": 4,
   "metadata": {},
   "outputs": [
    {
     "name": "stdout",
     "output_type": "stream",
     "text": [
      "[4, 7, 500]\n"
     ]
    }
   ],
   "source": [
    "# map function\n",
    "\n",
    "lst = ['4', '7', '500']\n",
    "out = list(map(int, lst))\n",
    "print(out)"
   ]
  },
  {
   "cell_type": "code",
   "execution_count": 39,
   "metadata": {},
   "outputs": [
    {
     "name": "stdout",
     "output_type": "stream",
     "text": [
      "[24, 120, 1]\n"
     ]
    }
   ],
   "source": [
    "def apna_func(x):\n",
    "    x = int(x)\n",
    "    f = 1\n",
    "    for i in range(1, x+1):\n",
    "        f *=i\n",
    "    return f\n",
    "\n",
    "lst = ['4', '5', '1']\n",
    "out = list(map(apna_func, lst))\n",
    "print(out)"
   ]
  },
  {
   "cell_type": "code",
   "execution_count": 14,
   "metadata": {},
   "outputs": [],
   "source": [
    "# (function)\n",
    "# next(__i: SupportsNext[_T@next], /) -> _T@next\n",
    "\n",
    "# next(__i: SupportsNext[_T@next], __default: _VT@next, /) -> (_T@next | _VT@next)\n",
    "# next(iterator[, default])\n",
    "\n",
    "# Return the next item from the iterator. If default is given and the iterator is exhausted, it is returned instead of raising StopIteration.\n",
    "\n",
    "# (function)\n",
    "# next(__i: SupportsNext[_T@next], /) -> _T@next\n",
    "\n",
    "# next(__i: SupportsNext[_T@next], __default: _VT@next, /) -> (_T@next | _VT@next)\n",
    "# next(iterator[, default])\n",
    "\n",
    "# \n"
   ]
  },
  {
   "cell_type": "code",
   "execution_count": 17,
   "metadata": {},
   "outputs": [],
   "source": [
    "# addition of 2 no.\n",
    "def add(a, b):\n",
    "    return a+b"
   ]
  },
  {
   "cell_type": "code",
   "execution_count": 18,
   "metadata": {},
   "outputs": [
    {
     "name": "stdout",
     "output_type": "stream",
     "text": [
      "8\n"
     ]
    }
   ],
   "source": [
    "out = add(3, 5)\n",
    "print(out)"
   ]
  },
  {
   "cell_type": "code",
   "execution_count": 19,
   "metadata": {},
   "outputs": [
    {
     "name": "stdout",
     "output_type": "stream",
     "text": [
      "13\n"
     ]
    }
   ],
   "source": [
    "add = lambda a,b :a+b\n",
    "\n",
    "print(add(5, 8))\n"
   ]
  },
  {
   "cell_type": "code",
   "execution_count": 23,
   "metadata": {},
   "outputs": [
    {
     "name": "stdout",
     "output_type": "stream",
     "text": [
      "30.2\n"
     ]
    }
   ],
   "source": [
    "temp = lambda a: (a * 9/5) + 32\n",
    "\n",
    "out = temp(-1)\n",
    "print(out)"
   ]
  },
  {
   "cell_type": "code",
   "execution_count": 37,
   "metadata": {},
   "outputs": [
    {
     "name": "stdout",
     "output_type": "stream",
     "text": [
      "[73.4, 109.4, 105.8, 32.0, 30.2]\n"
     ]
    }
   ],
   "source": [
    "lst = [23, 43, 41, 0, -1]\n",
    "print(list(map(lambda a: (a * 9/5) + 32, lst)))\n",
    "# print(out)"
   ]
  },
  {
   "cell_type": "code",
   "execution_count": 58,
   "metadata": {},
   "outputs": [
    {
     "name": "stdout",
     "output_type": "stream",
     "text": [
      "831\n"
     ]
    }
   ],
   "source": [
    "lst ='abhishek'\n",
    "# s = 0\n",
    "out = sum(list(map(ord, lst)))\n",
    "print(out)"
   ]
  },
  {
   "cell_type": "code",
   "execution_count": 60,
   "metadata": {},
   "outputs": [
    {
     "name": "stdout",
     "output_type": "stream",
     "text": [
      "532\n"
     ]
    }
   ],
   "source": [
    "st = 'hello'\n",
    "out = sum(list(map(ord, st)))\n",
    "print(out)"
   ]
  },
  {
   "cell_type": "code",
   "execution_count": 3,
   "metadata": {},
   "outputs": [
    {
     "name": "stdout",
     "output_type": "stream",
     "text": [
      "['ravi', 'saket']\n"
     ]
    }
   ],
   "source": [
    "lst = ['ravi', 'saket']\n",
    "lst.sort(key=lambda x: sum(list(map(ord, x))))\n",
    "print(lst)   "
   ]
  },
  {
   "cell_type": "code",
   "execution_count": 6,
   "metadata": {},
   "outputs": [
    {
     "name": "stdout",
     "output_type": "stream",
     "text": [
      "15\n"
     ]
    }
   ],
   "source": [
    "x = lambda a : a+10\n",
    "print(x(5))"
   ]
  },
  {
   "cell_type": "code",
   "execution_count": 8,
   "metadata": {},
   "outputs": [
    {
     "name": "stdout",
     "output_type": "stream",
     "text": [
      "30\n"
     ]
    }
   ],
   "source": [
    "x = lambda a, b : a*b\n",
    "print(x(5, 6))"
   ]
  }
 ],
 "metadata": {
  "kernelspec": {
   "display_name": "Python 3.10.7 64-bit",
   "language": "python",
   "name": "python3"
  },
  "language_info": {
   "codemirror_mode": {
    "name": "ipython",
    "version": 3
   },
   "file_extension": ".py",
   "mimetype": "text/x-python",
   "name": "python",
   "nbconvert_exporter": "python",
   "pygments_lexer": "ipython3",
   "version": "3.10.7"
  },
  "orig_nbformat": 4,
  "vscode": {
   "interpreter": {
    "hash": "30c9f151d170d064f054e7769e6cc33a781cb713a9712292b110ae53e4c3962f"
   }
  }
 },
 "nbformat": 4,
 "nbformat_minor": 2
}
