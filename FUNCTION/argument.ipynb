{
 "cells": [
  {
   "cell_type": "code",
   "execution_count": 4,
   "metadata": {},
   "outputs": [
    {
     "name": "stdout",
     "output_type": "stream",
     "text": [
      "\n",
      "    Name: Amit\n",
      "    Roll No. : 34\n"
     ]
    }
   ],
   "source": [
    "def stu_info(x, rl):\n",
    "    st =f'''\n",
    "    Name: {x}\n",
    "    Roll No. : {rl}'''\n",
    "    print(st)\n",
    "\n",
    "stu_info('Amit', 34)"
   ]
  },
  {
   "cell_type": "code",
   "execution_count": 5,
   "metadata": {},
   "outputs": [
    {
     "name": "stdout",
     "output_type": "stream",
     "text": [
      "\n",
      "    Name: shunham\n",
      "    Roll No. : 36\n"
     ]
    }
   ],
   "source": [
    "stu_info('shunham', 36)"
   ]
  },
  {
   "cell_type": "code",
   "execution_count": 6,
   "metadata": {},
   "outputs": [
    {
     "name": "stdout",
     "output_type": "stream",
     "text": [
      "\n",
      "    Name: Manas\n",
      "    Roll No. : 42\n",
      "None\n"
     ]
    }
   ],
   "source": [
    "out = stu_info('Manas', 42)\n",
    "print(out)"
   ]
  },
  {
   "cell_type": "code",
   "execution_count": 7,
   "metadata": {},
   "outputs": [
    {
     "name": "stdout",
     "output_type": "stream",
     "text": [
      "80\n"
     ]
    }
   ],
   "source": [
    "# with return with argument\n",
    "\n",
    "def add(a, b):\n",
    "    return a+b\n",
    "\n",
    "n1 = int(input())\n",
    "n2 = int(input())\n",
    "\n",
    "out = add(n1, n2)\n",
    "\n",
    "print(out)"
   ]
  },
  {
   "cell_type": "code",
   "execution_count": null,
   "metadata": {},
   "outputs": [],
   "source": [
    "import random\n",
    "def otp():\n",
    "    random.random()"
   ]
  },
  {
   "cell_type": "code",
   "execution_count": 13,
   "metadata": {},
   "outputs": [
    {
     "name": "stdout",
     "output_type": "stream",
     "text": [
      "0.6813030093630237\n"
     ]
    }
   ],
   "source": [
    "import random\n",
    "out = random.random()\n",
    "print(out)"
   ]
  },
  {
   "cell_type": "code",
   "execution_count": 22,
   "metadata": {},
   "outputs": [
    {
     "data": {
      "text/plain": [
       "'4589'"
      ]
     },
     "execution_count": 22,
     "metadata": {},
     "output_type": "execute_result"
    }
   ],
   "source": [
    "import random\n",
    "def otp():\n",
    "    out = str(random.random())[-4:]\n",
    "    return out\n",
    "\n",
    "otp()"
   ]
  },
  {
   "cell_type": "code",
   "execution_count": 26,
   "metadata": {},
   "outputs": [
    {
     "name": "stdout",
     "output_type": "stream",
     "text": [
      "a: 20\n",
      "b: 30\n"
     ]
    }
   ],
   "source": [
    "# positional argument\n",
    "\n",
    "def add(a,b):\n",
    "    print('a:', a)\n",
    "    print('b:', b)\n",
    "\n",
    "add(20,30)"
   ]
  },
  {
   "cell_type": "code",
   "execution_count": 27,
   "metadata": {},
   "outputs": [
    {
     "name": "stdout",
     "output_type": "stream",
     "text": [
      "a: 30\n",
      "b: 20\n"
     ]
    }
   ],
   "source": [
    "# positional argument\n",
    "\n",
    "def add(a,b):\n",
    "    print('a:', a)\n",
    "    print('b:', b)\n",
    "\n",
    "add(b=20,a=30)"
   ]
  },
  {
   "cell_type": "code",
   "execution_count": 33,
   "metadata": {},
   "outputs": [
    {
     "name": "stdout",
     "output_type": "stream",
     "text": [
      "42\n"
     ]
    }
   ],
   "source": [
    "def add(a,b):\n",
    "    return a+b\n",
    "\n",
    "x = 19\n",
    "y = 23\n",
    "out = add(x, y)\n",
    "print(out)\n"
   ]
  },
  {
   "cell_type": "code",
   "execution_count": 44,
   "metadata": {},
   "outputs": [
    {
     "name": "stdout",
     "output_type": "stream",
     "text": [
      "(32, 64, 65)\n",
      "203\n"
     ]
    }
   ],
   "source": [
    "# optional positional argument\n",
    "\n",
    "def add(a,b, *c):\n",
    "    print(c)\n",
    "    return a+b+sum(c)\n",
    "\n",
    "x = 19\n",
    "y = 23\n",
    "out = add(x, y, 32, 64, 65)\n",
    "print(out)"
   ]
  },
  {
   "cell_type": "code",
   "execution_count": 46,
   "metadata": {},
   "outputs": [
    {
     "name": "stdout",
     "output_type": "stream",
     "text": [
      "2\n"
     ]
    }
   ],
   "source": [
    "# default argument\n",
    "\n",
    "def add(a=0, b=0):\n",
    "    return a + b\n",
    "\n",
    "# main code\n",
    "\n",
    "out = add(2)\n",
    "print(out)\n"
   ]
  },
  {
   "cell_type": "code",
   "execution_count": 47,
   "metadata": {},
   "outputs": [
    {
     "name": "stdout",
     "output_type": "stream",
     "text": [
      "3 3\n"
     ]
    }
   ],
   "source": [
    "def func(x=1, y=2):\n",
    "    x = x+y\n",
    "    y+=1\n",
    "    print(x, y)\n",
    "func(y=2, x=1)"
   ]
  }
 ],
 "metadata": {
  "kernelspec": {
   "display_name": "Python 3.10.7 64-bit",
   "language": "python",
   "name": "python3"
  },
  "language_info": {
   "codemirror_mode": {
    "name": "ipython",
    "version": 3
   },
   "file_extension": ".py",
   "mimetype": "text/x-python",
   "name": "python",
   "nbconvert_exporter": "python",
   "pygments_lexer": "ipython3",
   "version": "3.10.7"
  },
  "orig_nbformat": 4,
  "vscode": {
   "interpreter": {
    "hash": "30c9f151d170d064f054e7769e6cc33a781cb713a9712292b110ae53e4c3962f"
   }
  }
 },
 "nbformat": 4,
 "nbformat_minor": 2
}
