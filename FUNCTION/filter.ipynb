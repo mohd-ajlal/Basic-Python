{
 "cells": [
  {
   "cell_type": "code",
   "execution_count": 3,
   "metadata": {},
   "outputs": [
    {
     "name": "stdout",
     "output_type": "stream",
     "text": [
      "[1, 3, 5, 7, 9]\n"
     ]
    }
   ],
   "source": [
    "lst = [3, 5, 6, 7, 9, 10, 1]\n",
    "out = []\n",
    "for i in lst:\n",
    "    if i %2 != 0:\n",
    "        out.append(i)\n",
    "out.sort()\n",
    "print(out)"
   ]
  },
  {
   "cell_type": "code",
   "execution_count": 7,
   "metadata": {},
   "outputs": [
    {
     "name": "stdout",
     "output_type": "stream",
     "text": [
      "[1, 3, 5, 7, 9]\n"
     ]
    }
   ],
   "source": [
    "def apna_fun(y):\n",
    "    return y %2 != 0\n",
    "\n",
    "lst = [3, 5, 6, 7, 9, 10, 1]\n",
    "out = list(filter(apna_fun, lst))\n",
    "out.sort()\n",
    "print(out)"
   ]
  },
  {
   "cell_type": "code",
   "execution_count": 9,
   "metadata": {},
   "outputs": [
    {
     "name": "stdout",
     "output_type": "stream",
     "text": [
      "[True, True, False, True, True, False, True]\n"
     ]
    }
   ],
   "source": [
    "lst = [3, 5, 6, 7, 9, 10, 1]\n",
    "out = list(map(lambda x: x%2 != 0, lst))\n",
    "print(out)"
   ]
  },
  {
   "cell_type": "code",
   "execution_count": 6,
   "metadata": {},
   "outputs": [
    {
     "name": "stdout",
     "output_type": "stream",
     "text": [
      "[1, 3, 5, 7, 9]\n"
     ]
    }
   ],
   "source": [
    "lst = [3, 5, 6, 7, 9, 10, 1]\n",
    "out = filter(lambda x: x%2 != 0, lst)\n",
    "out = list(out)\n",
    "out.sort()\n",
    "print(out)"
   ]
  },
  {
   "cell_type": "code",
   "execution_count": 26,
   "metadata": {},
   "outputs": [
    {
     "name": "stdout",
     "output_type": "stream",
     "text": [
      "[3, 5, 6, 7, 9, 10, 1]\n"
     ]
    }
   ],
   "source": [
    "# prime no. using filter\n",
    "def prime(num):\n",
    "    s = 0\n",
    "    for i in range(1, x+1):\n",
    "        if x % i == 0:\n",
    "            s += 1\n",
    "    if s == 2:\n",
    "        return True\n",
    "    else:\n",
    "        return False\n",
    "num = [3, 5, 6, 7, 9, 10, 1]\n",
    "out = list(filter(lambda x: prime , num))\n",
    "print(out)\n",
    "\n"
   ]
  },
  {
   "cell_type": "code",
   "execution_count": 33,
   "metadata": {},
   "outputs": [
    {
     "name": "stdout",
     "output_type": "stream",
     "text": [
      "['p', 'a', 'w', 'a', 'n', 'b', 'a', 'n', 'i', 'w', 'a', 'l', 'c', 's', 'g', 'l', 'a', 'a', 'c', 'i', 'n']\n"
     ]
    }
   ],
   "source": [
    "def apna_fun(y):\n",
    "    return y.isalpha()\n",
    "\n",
    "st = \"pawan.baniwal_cs22@gla.ac.in\"\n",
    "out = list(filter(apna_fun, st))\n",
    "print(out)\n"
   ]
  },
  {
   "cell_type": "code",
   "execution_count": 34,
   "metadata": {},
   "outputs": [
    {
     "name": "stdout",
     "output_type": "stream",
     "text": [
      "pawanbaniwalcsglaacin\n"
     ]
    }
   ],
   "source": [
    "def apna_fun(y):\n",
    "    return y.isalpha()\n",
    "\n",
    "st = \"pawan.baniwal_cs22@gla.ac.in\"\n",
    "out = \"\".join(list(filter(apna_fun, st)))\n",
    "print(out)"
   ]
  },
  {
   "cell_type": "code",
   "execution_count": 31,
   "metadata": {},
   "outputs": [
    {
     "name": "stdout",
     "output_type": "stream",
     "text": [
      "pawanbaniwalcsglaacin\n"
     ]
    }
   ],
   "source": [
    "st = \"pawan.baniwal_cs22@gla.ac.in\"\n",
    "\n",
    "# output = pawanbaniwalcs22glaacin\n",
    "\n",
    "out = ''.join(list(filter(lambda x: x.isalpha(), st)))\n",
    "print(out)\n",
    "\n"
   ]
  },
  {
   "cell_type": "code",
   "execution_count": 16,
   "metadata": {},
   "outputs": [
    {
     "name": "stdout",
     "output_type": "stream",
     "text": [
      "mynameisajlal\n"
     ]
    }
   ],
   "source": [
    "st =\" my name is ajlal\"\n",
    "\n",
    "# output = mynameisajlal\n",
    "\n",
    "out = ''.join(list(filter(lambda x: x.isalpha(), st)))\n",
    "print(out)"
   ]
  },
  {
   "cell_type": "code",
   "execution_count": 24,
   "metadata": {},
   "outputs": [
    {
     "name": "stdout",
     "output_type": "stream",
     "text": [
      "25\n"
     ]
    }
   ],
   "source": [
    "i = lambda x: x**2\n",
    "print(i(5))"
   ]
  }
 ],
 "metadata": {
  "kernelspec": {
   "display_name": "Python 3",
   "language": "python",
   "name": "python3"
  },
  "language_info": {
   "codemirror_mode": {
    "name": "ipython",
    "version": 3
   },
   "file_extension": ".py",
   "mimetype": "text/x-python",
   "name": "python",
   "nbconvert_exporter": "python",
   "pygments_lexer": "ipython3",
   "version": "3.10.7"
  },
  "orig_nbformat": 4,
  "vscode": {
   "interpreter": {
    "hash": "30c9f151d170d064f054e7769e6cc33a781cb713a9712292b110ae53e4c3962f"
   }
  }
 },
 "nbformat": 4,
 "nbformat_minor": 2
}
