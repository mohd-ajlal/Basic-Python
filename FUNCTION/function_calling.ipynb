{
 "cells": [
  {
   "cell_type": "code",
   "execution_count": 4,
   "metadata": {},
   "outputs": [],
   "source": [
    "def stuinfo(name, roll, sub, college):\n",
    "    return f'''\n",
    "    Name: {name}\n",
    "    Roll: {roll}\n",
    "    Subject: {sub}\n",
    "    College: {college}'''\n"
   ]
  },
  {
   "cell_type": "code",
   "execution_count": 7,
   "metadata": {},
   "outputs": [
    {
     "name": "stdout",
     "output_type": "stream",
     "text": [
      "\n",
      "    Name: RAvi\n",
      "    Roll: 123\n",
      "    Subject: Python\n",
      "    College: GLA University\n"
     ]
    }
   ],
   "source": [
    "# main\n",
    "x = ['RAvi', 123, 'Python', 'GLA University']\n",
    "print(stuinfo(*x))"
   ]
  },
  {
   "cell_type": "code",
   "execution_count": 5,
   "metadata": {},
   "outputs": [
    {
     "name": "stdout",
     "output_type": "stream",
     "text": [
      "\n",
      "    Name: ravi\n",
      "    Roll: 123\n",
      "    Subject: Python\n",
      "    College: GLA\n"
     ]
    }
   ],
   "source": [
    "out = stuinfo(name = \"ravi\", college=\"GLA\", roll=123, sub=\"Python\")\n",
    "print(out)"
   ]
  },
  {
   "cell_type": "code",
   "execution_count": null,
   "metadata": {},
   "outputs": [],
   "source": [
    "def myfunc():\n",
    "    x = \"John\"\n",
    "    def()"
   ]
  },
  {
   "cell_type": "code",
   "execution_count": 8,
   "metadata": {},
   "outputs": [
    {
     "name": "stdout",
     "output_type": "stream",
     "text": [
      "[12, 43]\n"
     ]
    }
   ],
   "source": [
    "num = list(map(int, input().split()))\n",
    "print(num)"
   ]
  },
  {
   "cell_type": "code",
   "execution_count": 2,
   "metadata": {},
   "outputs": [
    {
     "name": "stdout",
     "output_type": "stream",
     "text": [
      "hello\n",
      "[104, 101, 108, 108, 111]\n"
     ]
    }
   ],
   "source": [
    "# filter\n",
    "\n",
    "st = \"hello\"\n",
    "\n",
    "out = []\n",
    "for i in st:\n",
    "    out.append(ord(i))\n",
    "print(st)\n",
    "print(out)\n"
   ]
  },
  {
   "cell_type": "code",
   "execution_count": 3,
   "metadata": {},
   "outputs": [
    {
     "name": "stdout",
     "output_type": "stream",
     "text": [
      "hello\n",
      "[104, 101, 108, 108, 111]\n"
     ]
    }
   ],
   "source": [
    "st = \"hello\"\n",
    "\n",
    "out = list(map(ord, st))\n",
    "print(st)\n",
    "print(out)"
   ]
  },
  {
   "cell_type": "code",
   "execution_count": 35,
   "metadata": {},
   "outputs": [
    {
     "name": "stdout",
     "output_type": "stream",
     "text": [
      "hello\n",
      "<map object at 0x000001E678AFBD60>\n"
     ]
    }
   ],
   "source": [
    "st = \"hello\"\n",
    "\n",
    "out = (map(ord, st))\n",
    "print(st)\n",
    "print(out)"
   ]
  },
  {
   "cell_type": "code",
   "execution_count": 28,
   "metadata": {},
   "outputs": [
    {
     "data": {
      "text/plain": [
       "101"
      ]
     },
     "execution_count": 28,
     "metadata": {},
     "output_type": "execute_result"
    }
   ],
   "source": [
    "next(out)"
   ]
  },
  {
   "cell_type": "code",
   "execution_count": 29,
   "metadata": {},
   "outputs": [
    {
     "data": {
      "text/plain": [
       "[108, 108, 111]"
      ]
     },
     "execution_count": 29,
     "metadata": {},
     "output_type": "execute_result"
    }
   ],
   "source": [
    "list(out)"
   ]
  },
  {
   "cell_type": "code",
   "execution_count": 31,
   "metadata": {},
   "outputs": [
    {
     "name": "stdout",
     "output_type": "stream",
     "text": [
      "104\n",
      "108\n",
      "111\n"
     ]
    },
    {
     "ename": "StopIteration",
     "evalue": "",
     "output_type": "error",
     "traceback": [
      "\u001b[1;31m---------------------------------------------------------------------------\u001b[0m",
      "\u001b[1;31mStopIteration\u001b[0m                             Traceback (most recent call last)",
      "Cell \u001b[1;32mIn [31], line 3\u001b[0m\n\u001b[0;32m      1\u001b[0m \u001b[39mfor\u001b[39;00m i \u001b[39min\u001b[39;00m out:\n\u001b[0;32m      2\u001b[0m     \u001b[39mprint\u001b[39m(i)\n\u001b[1;32m----> 3\u001b[0m     \u001b[39mnext\u001b[39;49m(out)\n",
      "\u001b[1;31mStopIteration\u001b[0m: "
     ]
    }
   ],
   "source": [
    "for i in out:\n",
    "    print(i)\n",
    "    next(out)"
   ]
  },
  {
   "cell_type": "code",
   "execution_count": 37,
   "metadata": {},
   "outputs": [],
   "source": [
    "for i in out:\n",
    "    print(i)\n",
    "    re = list(out)\n",
    "# print(out)\n",
    "\n",
    "# first time it will print and then empty"
   ]
  },
  {
   "cell_type": "code",
   "execution_count": 42,
   "metadata": {},
   "outputs": [
    {
     "name": "stdout",
     "output_type": "stream",
     "text": [
      "[5, 7, 8, 10]\n"
     ]
    }
   ],
   "source": [
    "def inc(x):\n",
    "    return x+2\n",
    "\n",
    "lst = [3, 5, 6, 8]\n",
    "inc_lst = list(map(inc, lst))\n",
    "print(inc_lst)"
   ]
  },
  {
   "cell_type": "code",
   "execution_count": 51,
   "metadata": {},
   "outputs": [
    {
     "name": "stdout",
     "output_type": "stream",
     "text": [
      "[5, 7, 8, 10]\n"
     ]
    }
   ],
   "source": [
    "lst = [3, 5, 6, 8]\n",
    "out = list(map(lambda x: x+2, lst))\n",
    "print(out)\n"
   ]
  }
 ],
 "metadata": {
  "kernelspec": {
   "display_name": "Python 3.10.7 64-bit",
   "language": "python",
   "name": "python3"
  },
  "language_info": {
   "codemirror_mode": {
    "name": "ipython",
    "version": 3
   },
   "file_extension": ".py",
   "mimetype": "text/x-python",
   "name": "python",
   "nbconvert_exporter": "python",
   "pygments_lexer": "ipython3",
   "version": "3.10.7"
  },
  "orig_nbformat": 4,
  "vscode": {
   "interpreter": {
    "hash": "30c9f151d170d064f054e7769e6cc33a781cb713a9712292b110ae53e4c3962f"
   }
  }
 },
 "nbformat": 4,
 "nbformat_minor": 2
}
