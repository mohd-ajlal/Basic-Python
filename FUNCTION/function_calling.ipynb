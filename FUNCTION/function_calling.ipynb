{
 "cells": [
  {
   "cell_type": "code",
   "execution_count": 4,
   "metadata": {},
   "outputs": [],
   "source": [
    "def stuinfo(name, roll, sub, college):\n",
    "    return f'''\n",
    "    Name: {name}\n",
    "    Roll: {roll}\n",
    "    Subject: {sub}\n",
    "    College: {college}'''\n"
   ]
  },
  {
   "cell_type": "code",
   "execution_count": 7,
   "metadata": {},
   "outputs": [
    {
     "name": "stdout",
     "output_type": "stream",
     "text": [
      "\n",
      "    Name: RAvi\n",
      "    Roll: 123\n",
      "    Subject: Python\n",
      "    College: GLA University\n"
     ]
    }
   ],
   "source": [
    "# main\n",
    "x = ['RAvi', 123, 'Python', 'GLA University']\n",
    "print(stuinfo(*x))"
   ]
  },
  {
   "cell_type": "code",
   "execution_count": 5,
   "metadata": {},
   "outputs": [
    {
     "name": "stdout",
     "output_type": "stream",
     "text": [
      "\n",
      "    Name: ravi\n",
      "    Roll: 123\n",
      "    Subject: Python\n",
      "    College: GLA\n"
     ]
    }
   ],
   "source": [
    "out = stuinfo(name = \"ravi\", college=\"GLA\", roll=123, sub=\"Python\")\n",
    "print(out)"
   ]
  },
  {
   "cell_type": "code",
   "execution_count": null,
   "metadata": {},
   "outputs": [],
   "source": [
    "def myfunc():\n",
    "    x = \"John\"\n",
    "    def()"
   ]
  },
  {
   "cell_type": "code",
   "execution_count": 8,
   "metadata": {},
   "outputs": [
    {
     "name": "stdout",
     "output_type": "stream",
     "text": [
      "[12, 43]\n"
     ]
    }
   ],
   "source": [
    "num = list(map(int, input().split()))\n",
    "print(num)"
   ]
  }
 ],
 "metadata": {
  "kernelspec": {
   "display_name": "Python 3.10.7 64-bit",
   "language": "python",
   "name": "python3"
  },
  "language_info": {
   "codemirror_mode": {
    "name": "ipython",
    "version": 3
   },
   "file_extension": ".py",
   "mimetype": "text/x-python",
   "name": "python",
   "nbconvert_exporter": "python",
   "pygments_lexer": "ipython3",
   "version": "3.10.7"
  },
  "orig_nbformat": 4,
  "vscode": {
   "interpreter": {
    "hash": "30c9f151d170d064f054e7769e6cc33a781cb713a9712292b110ae53e4c3962f"
   }
  }
 },
 "nbformat": 4,
 "nbformat_minor": 2
}
