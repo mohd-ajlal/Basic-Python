{
 "cells": [
  {
   "cell_type": "code",
   "execution_count": 19,
   "metadata": {},
   "outputs": [],
   "source": [
    "# random module:\n",
    "# random module is used to generate random numbers.\n",
    "\n",
    "import random\n",
    "\n",
    "'''\n",
    "1. integer - randint, randrange, getrandint\n",
    "2. sequence - choices, sample, shuffle\n",
    "3. real numbers\n",
    "'''"
   ]
  },
  {
   "cell_type": "code",
   "execution_count": 48,
   "metadata": {},
   "outputs": [
    {
     "name": "stdout",
     "output_type": "stream",
     "text": [
      "3\n"
     ]
    }
   ],
   "source": [
    "# randrange(start, stop, step) : return the random integer no. within the range with step size\n",
    "# start: starting number of the sequence\n",
    "# stop: generate numbers up to stop-1\n",
    "# step: difference between each number in the sequence\n",
    "import random\n",
    "print(random.randrange(1, 6, 2))"
   ]
  },
  {
   "cell_type": "code",
   "execution_count": null,
   "metadata": {},
   "outputs": [],
   "source": [
    "import random\n",
    "print(random.random()) # generates random float number between 0 and 1"
   ]
  },
  {
   "cell_type": "code",
   "execution_count": null,
   "metadata": {},
   "outputs": [],
   "source": [
    "import random\n",
    "# random.randint(a, b) generates random integer number between a and b\n",
    "# randint() : returns the random integer within the range\n",
    "print(random.randint(1, 6)) # generates random integer number between 1 and 6"
   ]
  },
  {
   "cell_type": "code",
   "execution_count": 142,
   "metadata": {},
   "outputs": [
    {
     "name": "stdout",
     "output_type": "stream",
     "text": [
      "10\n"
     ]
    }
   ],
   "source": [
    "# getrandbits()\n",
    "# getrandbits(k) : returns the random integer with k random bits\n",
    "# 2**k - 1\n",
    "# 2**4 - 1 = 15\n",
    "# 2**8 - 1 = 255\n",
    "import random\n",
    "\n",
    "num = random.getrandbits(4)\n",
    "print(num)"
   ]
  },
  {
   "cell_type": "code",
   "execution_count": 57,
   "metadata": {},
   "outputs": [
    {
     "name": "stdout",
     "output_type": "stream",
     "text": [
      "3\n"
     ]
    }
   ],
   "source": [
    "import random\n",
    "\n",
    "# random.choice(seq) : returns a random element from the non-empty sequence\n",
    "print(random.choice([1, 2, 3, 4, 5, 6]))\n"
   ]
  },
  {
   "cell_type": "code",
   "execution_count": 77,
   "metadata": {},
   "outputs": [
    {
     "name": "stdout",
     "output_type": "stream",
     "text": [
      "3777\n"
     ]
    }
   ],
   "source": [
    "# otp generator\n",
    "\n",
    "import random\n",
    "print(random.randrange(1111, 9999))"
   ]
  },
  {
   "cell_type": "code",
   "execution_count": 110,
   "metadata": {},
   "outputs": [
    {
     "name": "stdout",
     "output_type": "stream",
     "text": [
      "Reshuffled list:  [3, 4, 1, 5, 2]\n"
     ]
    }
   ],
   "source": [
    "# random.shuffle\n",
    "# random.shuffle() : used to shuffle the elements of a list in place\n",
    "# shuffle() : used to shuffle the elements of a list in place\n",
    "\n",
    "import random\n",
    "list = [1, 2, 3, 4, 5]\n",
    "random.shuffle(list)\n",
    "print(\"Reshuffled list: \", list)"
   ]
  },
  {
   "cell_type": "code",
   "execution_count": 166,
   "metadata": {},
   "outputs": [
    {
     "name": "stdout",
     "output_type": "stream",
     "text": [
      "yash\n"
     ]
    }
   ],
   "source": [
    "# sequence\n",
    "# choice(seq) : returns a random element from the non-empty sequence\n",
    "name = [\"ajlal\", \"amir\", \"ankit\", \"vibhanshu\", \"yash\", \"dheearj\"]\n",
    "\n",
    "print(random.choice(name))"
   ]
  },
  {
   "cell_type": "code",
   "execution_count": 195,
   "metadata": {},
   "outputs": [
    {
     "name": "stdout",
     "output_type": "stream",
     "text": [
      "['amir', 'ajlal', 'amir', 'amir', 'ankit', 'amir', 'ankit', 'vibhanshu', 'ajlal', 'ankit', 'ankit', 'ajlal', 'yash', 'vibhanshu', 'yash']\n"
     ]
    }
   ],
   "source": [
    "# sequence\n",
    "# choices(seq) : returns a random element from the non-empty sequence\n",
    "name = [\"ajlal\", \"amir\", \"ankit\", \"vibhanshu\", \"yash\", \"dheearj\"]\n",
    "\n",
    "print(random.choices(name, k=15))"
   ]
  },
  {
   "cell_type": "code",
   "execution_count": 222,
   "metadata": {},
   "outputs": [
    {
     "name": "stdout",
     "output_type": "stream",
     "text": [
      "['vibhanshu', 'amir', 'ajlal', 'amir', 'amir', 'ajlal', 'dheearj', 'amir', 'vibhanshu', 'ajlal', 'yash', 'amir', 'amir', 'ankit', 'ankit']\n"
     ]
    }
   ],
   "source": [
    "# weights : it is possible to have multiple elements with the same probability of being chosen by using the weights keyword argument.\n",
    "\n",
    "name = [\"ajlal\", \"amir\", \"ankit\", \"vibhanshu\", \"yash\", \"dheearj\"]\n",
    "\n",
    "print(random.choices(name,weights=[1,5,1,1,1,1], k = 15))"
   ]
  },
  {
   "cell_type": "code",
   "execution_count": 235,
   "metadata": {},
   "outputs": [
    {
     "name": "stdout",
     "output_type": "stream",
     "text": [
      "['ankit', 'yash']\n"
     ]
    }
   ],
   "source": [
    "# sample(seq, k) : returns a k length list of unique elements chosen from the sequence seq\n",
    "import random\n",
    "name = [\"ajlal\", \"amir\", \"ankit\", \"vibhanshu\", \"yash\", \"dheearj\"]\n",
    "out = random.sample(name, k = 2)\n",
    "print(out)"
   ]
  },
  {
   "cell_type": "code",
   "execution_count": 239,
   "metadata": {},
   "outputs": [
    {
     "name": "stdout",
     "output_type": "stream",
     "text": [
      "Before Shuffle:  ['ajlal', 'amir', 'ankit', 'vibhanshu', 'yash', 'dheearj']\n",
      "After Shuffle:  ['vibhanshu', 'amir', 'yash', 'ankit', 'ajlal', 'dheearj']\n"
     ]
    }
   ],
   "source": [
    "#shuffle(): to shuffle the list itmes\n",
    "\n",
    "names = [\"ajlal\", \"amir\", \"ankit\", \"vibhanshu\", \"yash\", \"dheearj\"]\n",
    "print('Before Shuffle: ', names)\n",
    "random.shuffle(names)\n",
    "print('After Shuffle: ', names)"
   ]
  }
 ],
 "metadata": {
  "kernelspec": {
   "display_name": "Python 3",
   "language": "python",
   "name": "python3"
  },
  "language_info": {
   "codemirror_mode": {
    "name": "ipython",
    "version": 3
   },
   "file_extension": ".py",
   "mimetype": "text/x-python",
   "name": "python",
   "nbconvert_exporter": "python",
   "pygments_lexer": "ipython3",
   "version": "3.10.7 (tags/v3.10.7:6cc6b13, Sep  5 2022, 14:08:36) [MSC v.1933 64 bit (AMD64)]"
  },
  "orig_nbformat": 4,
  "vscode": {
   "interpreter": {
    "hash": "30c9f151d170d064f054e7769e6cc33a781cb713a9712292b110ae53e4c3962f"
   }
  }
 },
 "nbformat": 4,
 "nbformat_minor": 2
}
