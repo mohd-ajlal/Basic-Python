{
 "cells": [
  {
   "cell_type": "code",
   "execution_count": 19,
   "metadata": {},
   "outputs": [],
   "source": [
    "# random module:\n",
    "# random module is used to generate random numbers.\n",
    "\n",
    "import random\n",
    "\n",
    "'''\n",
    "1. integer - randint, randrange, getrandint\n",
    "2. sequence - choice, sample, shuffle, choices\n",
    "3. real values - random, uniform, trianglular\n",
    "'''"
   ]
  },
  {
   "cell_type": "code",
   "execution_count": 5,
   "metadata": {},
   "outputs": [
    {
     "name": "stdout",
     "output_type": "stream",
     "text": [
      "1\n"
     ]
    }
   ],
   "source": [
    "# randrange(start, stop, step) : return the random integer no. within the range with step size\n",
    "# start: starting number of the sequence\n",
    "# stop: generate numbers up to stop-1\n",
    "# step: difference between each number in the sequence\n",
    "import random\n",
    "print(random.randrange(1, 6, 2))"
   ]
  },
  {
   "cell_type": "code",
   "execution_count": null,
   "metadata": {},
   "outputs": [],
   "source": [
    "import random\n",
    "print(random.random()) # generates random float number between 0 and 1"
   ]
  },
  {
   "cell_type": "code",
   "execution_count": null,
   "metadata": {},
   "outputs": [],
   "source": [
    "import random\n",
    "# random.randint(a, b) generates random integer number between a and b\n",
    "# randint() : returns the random integer within the range\n",
    "print(random.randint(1, 6)) # generates random integer number between 1 and 6"
   ]
  },
  {
   "cell_type": "code",
   "execution_count": 142,
   "metadata": {},
   "outputs": [
    {
     "name": "stdout",
     "output_type": "stream",
     "text": [
      "10\n"
     ]
    }
   ],
   "source": [
    "# getrandbits()\n",
    "# getrandbits(k) : returns the random integer with k random bits\n",
    "# 2**k - 1\n",
    "# 2**4 - 1 = 15\n",
    "# 2**8 - 1 = 255\n",
    "import random\n",
    "\n",
    "num = random.getrandbits(4)\n",
    "print(num)"
   ]
  },
  {
   "cell_type": "code",
   "execution_count": 57,
   "metadata": {},
   "outputs": [
    {
     "name": "stdout",
     "output_type": "stream",
     "text": [
      "3\n"
     ]
    }
   ],
   "source": [
    "import random\n",
    "\n",
    "# random.choice(seq) : returns a random element from the non-empty sequence\n",
    "print(random.choice([1, 2, 3, 4, 5, 6]))\n"
   ]
  },
  {
   "cell_type": "code",
   "execution_count": 77,
   "metadata": {},
   "outputs": [
    {
     "name": "stdout",
     "output_type": "stream",
     "text": [
      "3777\n"
     ]
    }
   ],
   "source": [
    "# otp generator\n",
    "\n",
    "import random\n",
    "print(random.randrange(1111, 9999))"
   ]
  },
  {
   "cell_type": "code",
   "execution_count": 110,
   "metadata": {},
   "outputs": [
    {
     "name": "stdout",
     "output_type": "stream",
     "text": [
      "Reshuffled list:  [3, 4, 1, 5, 2]\n"
     ]
    }
   ],
   "source": [
    "# random.shuffle\n",
    "# random.shuffle() : used to shuffle the elements of a list in place\n",
    "# shuffle() : used to shuffle the elements of a list in place\n",
    "\n",
    "import random\n",
    "list = [1, 2, 3, 4, 5]\n",
    "random.shuffle(list)\n",
    "print(\"Reshuffled list: \", list)"
   ]
  },
  {
   "cell_type": "code",
   "execution_count": 166,
   "metadata": {},
   "outputs": [
    {
     "name": "stdout",
     "output_type": "stream",
     "text": [
      "yash\n"
     ]
    }
   ],
   "source": [
    "# sequence\n",
    "# choice(seq) : returns a random element from the non-empty sequence\n",
    "name = [\"ajlal\", \"amir\", \"ankit\", \"vibhanshu\", \"yash\", \"dheearj\"]\n",
    "\n",
    "print(random.choice(name))"
   ]
  },
  {
   "cell_type": "code",
   "execution_count": 35,
   "metadata": {},
   "outputs": [
    {
     "name": "stdout",
     "output_type": "stream",
     "text": [
      "['vibhanshu', 'vibhanshu', 'ajlal', 'yash', 'ajlal', 'amir', 'vibhanshu', 'ajlal', 'dheearj', 'vibhanshu']\n"
     ]
    }
   ],
   "source": [
    "# sequence\n",
    "# choices(seq) : returns a random element from the non-empty sequence\n",
    "name = [\"ajlal\", \"amir\", \"ankit\", \"vibhanshu\", \"yash\", \"dheearj\"]\n",
    "\n",
    "print(random.choices(name, k=10))"
   ]
  },
  {
   "cell_type": "code",
   "execution_count": 222,
   "metadata": {},
   "outputs": [
    {
     "name": "stdout",
     "output_type": "stream",
     "text": [
      "['vibhanshu', 'amir', 'ajlal', 'amir', 'amir', 'ajlal', 'dheearj', 'amir', 'vibhanshu', 'ajlal', 'yash', 'amir', 'amir', 'ankit', 'ankit']\n"
     ]
    }
   ],
   "source": [
    "# weights : it is possible to have multiple elements with the same probability of being chosen by using the weights keyword argument.\n",
    "\n",
    "name = [\"ajlal\", \"amir\", \"ankit\", \"vibhanshu\", \"yash\", \"dheearj\"]\n",
    "\n",
    "print(random.choices(name,weights=[1,5,1,1,1,1], k = 15))"
   ]
  },
  {
   "cell_type": "code",
   "execution_count": 42,
   "metadata": {},
   "outputs": [
    {
     "name": "stdout",
     "output_type": "stream",
     "text": [
      "['yash', 'amir']\n"
     ]
    }
   ],
   "source": [
    "# sample(seq, k) : returns a k length list of unique elements chosen from the sequence seq\n",
    "import random\n",
    "name = [\"ajlal\", \"amir\", \"ankit\", \"vibhanshu\", \"yash\", \"dheearj\"]\n",
    "out = random.sample(name, k = 2)\n",
    "print(out)"
   ]
  },
  {
   "cell_type": "code",
   "execution_count": 239,
   "metadata": {},
   "outputs": [
    {
     "name": "stdout",
     "output_type": "stream",
     "text": [
      "Before Shuffle:  ['ajlal', 'amir', 'ankit', 'vibhanshu', 'yash', 'dheearj']\n",
      "After Shuffle:  ['vibhanshu', 'amir', 'yash', 'ankit', 'ajlal', 'dheearj']\n"
     ]
    }
   ],
   "source": [
    "#shuffle(): to shuffle the list itmes\n",
    "\n",
    "names = [\"ajlal\", \"amir\", \"ankit\", \"vibhanshu\", \"yash\", \"dheearj\"]\n",
    "print('Before Shuffle: ', names)\n",
    "random.shuffle(names)\n",
    "print('After Shuffle: ', names)"
   ]
  },
  {
   "cell_type": "code",
   "execution_count": 23,
   "metadata": {},
   "outputs": [
    {
     "name": "stdout",
     "output_type": "stream",
     "text": [
      "2\n",
      "2\n"
     ]
    }
   ],
   "source": [
    "import random as r\n",
    "l = [2,4,3,7,8,9]\n",
    "s = r.getstate()\n",
    "m = r.choice(l)\n",
    "print(m)\n",
    "r.setstate(s)\n",
    "n = r.choice(l)\n",
    "print(n)"
   ]
  },
  {
   "cell_type": "code",
   "execution_count": 1,
   "metadata": {},
   "outputs": [
    {
     "name": "stdout",
     "output_type": "stream",
     "text": [
      "0.96326952906155\n"
     ]
    }
   ],
   "source": [
    "import random\n",
    "print(random.random())"
   ]
  },
  {
   "cell_type": "code",
   "execution_count": 52,
   "metadata": {},
   "outputs": [
    {
     "name": "stdout",
     "output_type": "stream",
     "text": [
      "6.451548943347188\n"
     ]
    }
   ],
   "source": [
    "import random\n",
    "# uniform(start, stop)\n",
    "out = random.uniform(1,20)\n",
    "print(out)"
   ]
  },
  {
   "cell_type": "code",
   "execution_count": 63,
   "metadata": {},
   "outputs": [
    {
     "name": "stdout",
     "output_type": "stream",
     "text": [
      "6.843084388583625\n"
     ]
    }
   ],
   "source": [
    "import random\n",
    "# triangular(low, high, mode)\n",
    "out = random.triangular(1,20,6)\n",
    "print(out)"
   ]
  },
  {
   "cell_type": "code",
   "execution_count": 71,
   "metadata": {},
   "outputs": [
    {
     "name": "stdout",
     "output_type": "stream",
     "text": [
      "(3, (1618149816, 215161437, 3757433278, 303498107, 2344965313, 1909603493, 3822144907, 3350483444, 613151912, 1770077521, 1934285806, 786817423, 3913541306, 915114653, 545998655, 149834469, 177282894, 1991681220, 2259734487, 4057026877, 939450913, 222571895, 3684124118, 1325740972, 718331252, 3653028783, 2108272027, 139122876, 3331417456, 2970517675, 4199354507, 4251376509, 1167692089, 2326243356, 2271953329, 1024704653, 3251510184, 1292627715, 1813676231, 1359327908, 2255901677, 1165370166, 2572557723, 2798517004, 3258122543, 3471679894, 3982986059, 4098715970, 1146420586, 1421285287, 953631376, 2348874202, 2204413727, 2631271582, 3187537678, 1307048303, 605570230, 1431905709, 3318307481, 3080370856, 1261553181, 118347891, 70030753, 4240014384, 3820339418, 171002580, 1688352203, 228941802, 1216422748, 4264066657, 2759756365, 2292464907, 1582378711, 1855238749, 3320692822, 1373931970, 301212342, 123073114, 86171489, 2889021449, 4076903325, 2375623716, 1752503737, 3655370041, 4239439570, 2389027471, 164774921, 2715878948, 2054723283, 3791807008, 1208869109, 3626875616, 1665421173, 1086519134, 3563429272, 4071669253, 3598467231, 1653272637, 4170599420, 618714759, 542647310, 571277842, 168340674, 2364250803, 3565291673, 1883821969, 266636056, 1209914331, 126265071, 1807757272, 3497520809, 3966289060, 901456010, 1501008551, 2076312321, 2217114936, 4218859275, 1122697181, 2580126474, 1204654672, 3022874232, 2874346470, 849090763, 4071817768, 3636324780, 3711932936, 601603326, 3182067946, 3652215839, 2967491977, 679854786, 381007105, 4277017613, 3496481061, 1336465950, 4245451083, 1615841808, 879734085, 4007802669, 3874057816, 1860056592, 3806154174, 1820000772, 1660379039, 3786250393, 1553695363, 1242326463, 142188075, 2020991125, 1865898350, 109096491, 2467886565, 877519365, 3794134921, 1676863972, 2348029792, 1401654346, 351092021, 3828115846, 1292597883, 3475232942, 696321177, 3917883191, 99140721, 1105008400, 791452651, 2509726187, 195562007, 852773757, 3883911407, 2938819602, 2575862490, 40108913, 1362128749, 660014234, 2995409016, 593639777, 2361134749, 4264469084, 3519165793, 4267816540, 1887472130, 1204632163, 684385351, 3660808455, 3259120404, 3249829979, 2320100049, 2028214367, 2425617905, 3028898031, 2007913264, 537464956, 1256807366, 564838503, 1497052111, 1065703520, 505544290, 2645819159, 3717853251, 3906637040, 698352800, 3506493240, 497503277, 2458344181, 1906132857, 2768036989, 693651018, 829023341, 3269715395, 1122501084, 1913273175, 1183131212, 2884265658, 3666905526, 4156558742, 1889352689, 4040870563, 2419579403, 2925734417, 2155140632, 1879351972, 1204530290, 3031469914, 4205011269, 1280328037, 3112550434, 2914840325, 718255950, 2319369065, 4042228514, 1091394169, 994268862, 221833672, 1382811208, 2178837831, 2436330736, 2046772460, 3897201640, 1520407511, 3700001773, 1835815677, 1519629921, 693767726, 2689540480, 2468509002, 530032619, 738573213, 4219095995, 3760058945, 3336477164, 3312836641, 3514251265, 616151907, 2227737675, 522985707, 3002950229, 3377972736, 2195085441, 3817272096, 762104144, 496998300, 673691802, 2042513429, 4176151083, 2525156619, 3001342992, 627547114, 3294963701, 2894159993, 198487513, 162243056, 4246447210, 2363546251, 2422121223, 2988534074, 747269440, 2929912150, 1152899129, 262623144, 627953961, 1467453033, 656028820, 1228207748, 1255133758, 2152550585, 1226244037, 2225152049, 784829557, 3183789885, 3352086370, 1048027304, 4014246699, 843813296, 3942506331, 2328036523, 2457004922, 532373200, 1620920168, 591604328, 1288815628, 746930052, 3563172210, 474846824, 2134796407, 2404476203, 2667644022, 3211021593, 1591055481, 2963721571, 455621991, 3621821871, 283775217, 1391227187, 2340273225, 1402570608, 2495812612, 3945191081, 2013566010, 1005742070, 1136244586, 3560123423, 2477173344, 1336815195, 1052588378, 2947377030, 2793368776, 45932929, 3092286173, 415793515, 1184924826, 3962204151, 2078337140, 2664257285, 4089801866, 3705732482, 329827792, 3530692030, 344333977, 1043430325, 3448512227, 2327558437, 1347148422, 466939143, 1999633001, 1745256594, 1949632972, 4116032492, 301422559, 3631452677, 1201775179, 2412162597, 4148983519, 3668186582, 748056027, 519271399, 2466241661, 4130908231, 2827048519, 2285189554, 2391600345, 4052243432, 4031453719, 942284516, 3387182570, 3393680491, 188236647, 1117448270, 4104767480, 2175499542, 1653310258, 215975531, 2412256762, 2975959547, 1845048369, 2575828538, 4262384459, 2377833254, 3289054964, 607996545, 2082406664, 3084751730, 1139380240, 4020265326, 3836713834, 4007560445, 633910956, 1280331590, 4203182835, 3073707925, 1535614171, 1850804196, 2140579122, 4144250082, 1803119190, 150983793, 2721837610, 2954516417, 1589942067, 1452971042, 2423380494, 1659359998, 2995563514, 753407661, 2451890378, 1528812339, 3828308188, 3159513001, 2691827745, 384784717, 3433946976, 2262648238, 129224931, 149946943, 1078388770, 4268389075, 2548648538, 4087563913, 3416701253, 3137037390, 2362703996, 3433901644, 2756324681, 1982701780, 2530829106, 1432550361, 3739872916, 3537127569, 3149072811, 2800977684, 1812621485, 1627953336, 1136709459, 330071221, 2604876048, 3780577485, 730718589, 2041667161, 3731764410, 64515411, 1938948622, 2237449867, 1322457891, 1922438345, 3445952632, 906996506, 569112820, 3856660551, 1453518871, 2224163544, 2329544920, 3755869107, 3595861752, 475170059, 2830176986, 1143706131, 2062636634, 2677875895, 3523085601, 203555376, 824120098, 2070969814, 802945235, 31402691, 937328583, 2816851206, 2473375596, 1633636314, 1959655498, 287524725, 276202606, 3938425998, 2075742829, 3680920218, 205546036, 3358435646, 275010621, 327268776, 2435742687, 2788315139, 2057722124, 3515590913, 3207694476, 1860059819, 1044845733, 4102065594, 2629894653, 3247044201, 1844484365, 2262017986, 3547990580, 953273847, 3285214820, 2461049409, 2082670713, 3544508070, 2744566989, 3678072876, 3923003400, 3060737212, 893963088, 955210591, 1820475185, 386573595, 728963372, 4081558246, 793434820, 1317534336, 3812977491, 2659330755, 1369124017, 3076088012, 460005758, 2670514368, 3141084615, 3166278941, 2835801433, 2985510806, 4039012007, 1458345271, 2729924243, 3013544929, 2415939790, 3284753919, 113483972, 4226630472, 1865187751, 397082753, 2298003464, 3034819532, 1645544948, 245926501, 698183518, 596036111, 2260528263, 528863654, 404809664, 13395340, 2334391649, 597814295, 1180684754, 2074429170, 2185158704, 4270544399, 3615438839, 3525962045, 3017250141, 2643924741, 694281157, 3328215658, 3655162463, 2072185249, 1354774664, 235719500, 3815625720, 3763917702, 124657081, 1201776760, 4167760962, 3153492601, 1113837010, 2532865472, 233833774, 2792265103, 428787724, 2256738164, 1208998276, 316642399, 2040042579, 2990422497, 1686485717, 187909985, 1416511094, 2927253049, 3557553188, 1954181066, 697417912, 3255763814, 2760743574, 1389049966, 1471148772, 3663207795, 164838779, 4125244579, 1010211323, 2569861775, 2449869116, 3578518130, 3575138614, 2560284597, 3933943222, 1488501472, 2632409296, 1564892760, 845791272, 4220128704, 2862006645, 3538704935, 3621849367, 1856551221, 2333668641, 3994281143, 2737089294, 3562484315, 2606148643, 1720027092, 505699347, 224934836, 2064136015, 4229910147, 3135974144, 1425732471, 1553367207, 654040781, 2571779069, 2045943009, 2356279111, 1943350955, 297629513, 2186773292, 3702363544, 1575487575, 265177697, 3523375862, 136), None)\n"
     ]
    }
   ],
   "source": [
    "import random\n",
    "a = [1,2,3,4,5,6,7,8,9,10]\n",
    "s = random.getstate()\n",
    "print(s)"
   ]
  }
 ],
 "metadata": {
  "kernelspec": {
   "display_name": "Python 3",
   "language": "python",
   "name": "python3"
  },
  "language_info": {
   "codemirror_mode": {
    "name": "ipython",
    "version": 3
   },
   "file_extension": ".py",
   "mimetype": "text/x-python",
   "name": "python",
   "nbconvert_exporter": "python",
   "pygments_lexer": "ipython3",
   "version": "3.10.7 (tags/v3.10.7:6cc6b13, Sep  5 2022, 14:08:36) [MSC v.1933 64 bit (AMD64)]"
  },
  "orig_nbformat": 4,
  "vscode": {
   "interpreter": {
    "hash": "30c9f151d170d064f054e7769e6cc33a781cb713a9712292b110ae53e4c3962f"
   }
  }
 },
 "nbformat": 4,
 "nbformat_minor": 2
}
