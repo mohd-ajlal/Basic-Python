{
 "cells": [
  {
   "cell_type": "code",
   "execution_count": 14,
   "metadata": {},
   "outputs": [
    {
     "name": "stdout",
     "output_type": "stream",
     "text": [
      "[1 2 3 4 5 6 7 8 9]\n"
     ]
    }
   ],
   "source": [
    "import numpy as np\n",
    "lt = [1,2,3,4,5,6,7,8,9]\n",
    "out = np.array(lt)\n",
    "print(out)"
   ]
  },
  {
   "cell_type": "code",
   "execution_count": null,
   "metadata": {},
   "outputs": [],
   "source": []
  },
  {
   "cell_type": "code",
   "execution_count": 37,
   "metadata": {},
   "outputs": [
    {
     "name": "stdout",
     "output_type": "stream",
     "text": [
      "[[[ 9 16 21]\n",
      "  [24 25 24]\n",
      "  [21 16  9]]]\n"
     ]
    }
   ],
   "source": [
    "import numpy as np\n",
    "array1=np.array([[1,2,3],[4,5,6],[7,8,9]],ndmin=3)\n",
    "array2=np.array([[9,8,7],[6,5,4],[3,2,1]],ndmin=3)\n",
    "result=np.multiply(array1,array2)\n",
    "print(result)"
   ]
  },
  {
   "cell_type": "code",
   "execution_count": 42,
   "metadata": {},
   "outputs": [
    {
     "name": "stdout",
     "output_type": "stream",
     "text": [
      "[[10 10 10]\n",
      " [10 10 10]\n",
      " [10 10 10]]\n"
     ]
    }
   ],
   "source": [
    "import numpy as np\n",
    "array1=np.array([[1,2,3],[4,5,6],[7,8,9]])\n",
    "array2=np.array([[9,8,7],[6,5,4],[3,2,1]])\n",
    "result=np.add(array1,array2)\n",
    "print(result)"
   ]
  },
  {
   "cell_type": "code",
   "execution_count": 1,
   "metadata": {},
   "outputs": [
    {
     "name": "stdout",
     "output_type": "stream",
     "text": [
      "[[2 4 1]\n",
      " [6 2 1]]\n"
     ]
    }
   ],
   "source": [
    "# array(object, dytpe = None, ndmin)\n",
    "import numpy as np\n",
    "lst = [[2,4,1], [6,2,1]]\n",
    "arr = np.array(lst)\n",
    "print(arr)\n"
   ]
  },
  {
   "cell_type": "code",
   "execution_count": 2,
   "metadata": {},
   "outputs": [
    {
     "name": "stdout",
     "output_type": "stream",
     "text": [
      "[[2 4 1]\n",
      " [6 2 1]]\n",
      "[[2 4 1]\n",
      " [6 2 1]]\n"
     ]
    }
   ],
   "source": [
    "# array(object, dytpe = None, ndmin)\n",
    "import numpy as np\n",
    "lst1 = [[2,4,1], [6,2,1]]\n",
    "lst2 =[[2,4,1], [6,2,1]]\n",
    "arr = np.array(lst1)\n",
    "arr2 = np.array(lst2)\n",
    "\n",
    "print(arr)\n",
    "print(arr2)"
   ]
  },
  {
   "cell_type": "code",
   "execution_count": 3,
   "metadata": {},
   "outputs": [
    {
     "data": {
      "text/plain": [
       "(2, 3)"
      ]
     },
     "execution_count": 3,
     "metadata": {},
     "output_type": "execute_result"
    }
   ],
   "source": [
    "arr.shape"
   ]
  },
  {
   "cell_type": "code",
   "execution_count": 5,
   "metadata": {},
   "outputs": [
    {
     "name": "stdout",
     "output_type": "stream",
     "text": [
      "[[2 4]\n",
      " [1 6]\n",
      " [2 1]]\n"
     ]
    }
   ],
   "source": [
    "arr.shape = 3,2\n",
    "print(arr)"
   ]
  },
  {
   "cell_type": "code",
   "execution_count": 14,
   "metadata": {},
   "outputs": [
    {
     "name": "stdout",
     "output_type": "stream",
     "text": [
      "[[ 4  8  2]\n",
      " [12  4  2]]\n"
     ]
    }
   ],
   "source": [
    "import numpy as np\n",
    "lst1 = [[2,4,1], [6,2,1]]\n",
    "lst2 =[[2,4,1], [6,2,1]]\n",
    "out  = np.add(lst1, lst2)\n",
    "print(out)\n",
    "\n"
   ]
  },
  {
   "cell_type": "code",
   "execution_count": 24,
   "metadata": {},
   "outputs": [
    {
     "name": "stdout",
     "output_type": "stream",
     "text": [
      "matrix 1\n",
      "[[2 4 1]\n",
      " [6 2 1]]\n",
      "matrix 2\n",
      "[[2 4 1]\n",
      " [6 2 1]]\n",
      "Result\n",
      "[[ 4  8  2]\n",
      " [12  4  2]]\n"
     ]
    }
   ],
   "source": [
    "# add two matrix using numpy\n",
    "\n",
    "import numpy as np\n",
    "lst1 = [[2,4,1], [6,2,1]]\n",
    "lst2 =[[2,4,1], [6,2,1]]\n",
    "\n",
    "arr1 = np.array(lst1)\n",
    "arr2 = np.array(lst2)\n",
    "\n",
    "# add two matrix using numpy\n",
    "\n",
    "if arr1.shape ==arr2.shape:\n",
    "    out = np.add(arr1, arr2)\n",
    "\n",
    "    print(\"matrix 1\")\n",
    "    print(arr1)\n",
    "\n",
    "    print(\"matrix 2\")\n",
    "    print(arr2)\n",
    "\n",
    "    print(\"Result\")\n",
    "    print(out)\n",
    "\n",
    "else:\n",
    "    print('Shape is not valid dor operation')\n"
   ]
  },
  {
   "cell_type": "code",
   "execution_count": 27,
   "metadata": {},
   "outputs": [
    {
     "name": "stdout",
     "output_type": "stream",
     "text": [
      "matrix 1\n",
      "[[2 4 1]\n",
      " [6 2 1]]\n",
      "matrix 2\n",
      "[[2 4 1]\n",
      " [6 2 1]\n",
      " [1 4 1]]\n",
      "Result\n",
      "[[29 20  7]\n",
      " [25 32  9]]\n"
     ]
    }
   ],
   "source": [
    "# multiply two matrix using numpy\n",
    "\n",
    "import numpy as np\n",
    "lst1 = [[2,4,1], [6,2,1]]\n",
    "lst2 =[[2,4,1], [6,2,1], [1,4,1]]\n",
    "\n",
    "arr1 = np.array(lst1)\n",
    "arr2 = np.array(lst2)\n",
    "\n",
    "# multiply two matrix using numpy\n",
    "\n",
    "if arr1.shape[1] ==arr2.shape[0]:\n",
    "    out = np.dot(arr1, arr2)\n",
    "\n",
    "    print(\"matrix 1\")\n",
    "    print(arr1)\n",
    "\n",
    "    print(\"matrix 2\")\n",
    "    print(arr2)\n",
    "\n",
    "    print(\"Result\")\n",
    "    print(out)\n",
    "\n",
    "else:\n",
    "    print('Shape is not valid dor operation')"
   ]
  },
  {
   "cell_type": "code",
   "execution_count": 7,
   "metadata": {},
   "outputs": [
    {
     "name": "stdout",
     "output_type": "stream",
     "text": [
      "[[ 9 16 21]\n",
      " [24 25 24]\n",
      " [21 16  9]]\n"
     ]
    }
   ],
   "source": [
    "import numpy as np\n",
    "\n",
    "a = [[1,2,3], [4,5,6], [7,8,9]]\n",
    "b = [[9,8,7], [6,5,4], [3,2,1]]\n",
    "\n",
    "a = np.array(a)\n",
    "b = np.array(b)\n",
    "\n",
    "out = np.multiply(a, b)\n",
    "print(out)"
   ]
  },
  {
   "cell_type": "code",
   "execution_count": 10,
   "metadata": {},
   "outputs": [
    {
     "name": "stdout",
     "output_type": "stream",
     "text": [
      "[[ 30  24  18]\n",
      " [ 84  69  54]\n",
      " [138 114  90]]\n"
     ]
    }
   ],
   "source": [
    "import numpy as np\n",
    "\n",
    "a = [[1,2,3], [4,5,6], [7,8,9]]\n",
    "b = [[9,8,7], [6,5,4], [3,2,1]]\n",
    "\n",
    "a = np.array(a)\n",
    "b = np.array(b)\n",
    "\n",
    "out = np.dot(a, b)\n",
    "print(out)"
   ]
  },
  {
   "cell_type": "code",
   "execution_count": 14,
   "metadata": {},
   "outputs": [
    {
     "name": "stdout",
     "output_type": "stream",
     "text": [
      "30\t24\t18\n",
      "84\t69\t54\n",
      "138\t114\t90\n"
     ]
    }
   ],
   "source": [
    "\n",
    "a = [[1,2,3], [4,5,6], [7,8,9]]\n",
    "b = [[9,8,7], [6,5,4], [3,2,1]]\n",
    "mul = [[0,0,0], [0,0,0], [0,0,0]]\n",
    "\n",
    "for i in range(len(a)):\n",
    "    for j in range(len(b)):\n",
    "        for k in range(len(b)):\n",
    "            mul[i][j] += a[i][k] * b[k][j]\n",
    "for i in mul:\n",
    "    print(*i, sep = '\\t')"
   ]
  },
  {
   "cell_type": "code",
   "execution_count": 11,
   "metadata": {},
   "outputs": [
    {
     "name": "stdout",
     "output_type": "stream",
     "text": [
      "[1, 2, 3, 4, 5, 6, 7, 8, 9]\n"
     ]
    }
   ],
   "source": [
    "import numpy as np\n",
    "\n",
    "# arange()\n",
    "\n",
    "out = list(range(1,10))\n",
    "print(out)"
   ]
  },
  {
   "cell_type": "code",
   "execution_count": 25,
   "metadata": {},
   "outputs": [
    {
     "name": "stdout",
     "output_type": "stream",
     "text": [
      "[1 2 3 4 5 6 7 8 9] <class 'numpy.ndarray'>\n"
     ]
    }
   ],
   "source": [
    "import numpy as np\n",
    "\n",
    "# arange()\n",
    "\n",
    "out = np.arange(1,10)\n",
    "print(out, type(out))"
   ]
  },
  {
   "cell_type": "code",
   "execution_count": 38,
   "metadata": {},
   "outputs": [
    {
     "name": "stdout",
     "output_type": "stream",
     "text": [
      "[1.  1.5 2.  2.5 3.  3.5 4.  4.5 5.  5.5 6.  6.5 7.  7.5 8.  8.5 9.  9.5]\n"
     ]
    }
   ],
   "source": [
    "import numpy as np\n",
    "\n",
    "# arange()\n",
    "\n",
    "out = np.arange(1,10, .5)\n",
    "print(out)"
   ]
  },
  {
   "cell_type": "code",
   "execution_count": 43,
   "metadata": {},
   "outputs": [
    {
     "name": "stdout",
     "output_type": "stream",
     "text": [
      "[[ 1  2  3  4]\n",
      " [ 5  6  7  8]\n",
      " [ 9 10 11 12]]\n"
     ]
    }
   ],
   "source": [
    "import numpy as np\n",
    "\n",
    "# arange()\n",
    "\n",
    "out = np.arange(1,13).reshape(3,4)\n",
    "print(out)"
   ]
  },
  {
   "cell_type": "code",
   "execution_count": 78,
   "metadata": {},
   "outputs": [
    {
     "name": "stdout",
     "output_type": "stream",
     "text": [
      "[ 1.    3.25  5.5   7.75 10.  ]\n"
     ]
    }
   ],
   "source": [
    "import numpy as np\n",
    "\n",
    "# linespace(start, end, width)\n",
    "\n",
    "out = np.linspace(1,10,5)\n",
    "print(out)"
   ]
  },
  {
   "cell_type": "code",
   "execution_count": 79,
   "metadata": {},
   "outputs": [
    {
     "name": "stdout",
     "output_type": "stream",
     "text": [
      "[1.         1.05263158 1.10526316 1.15789474 1.21052632 1.26315789\n",
      " 1.31578947 1.36842105 1.42105263 1.47368421 1.52631579 1.57894737\n",
      " 1.63157895 1.68421053 1.73684211 1.78947368 1.84210526 1.89473684\n",
      " 1.94736842 2.        ]\n"
     ]
    }
   ],
   "source": [
    "import numpy as np\n",
    "\n",
    "# linespace(start, end, width)\n",
    "\n",
    "out = np.linspace(1,2, 20)\n",
    "print(out)"
   ]
  },
  {
   "cell_type": "code",
   "execution_count": 84,
   "metadata": {},
   "outputs": [
    {
     "name": "stdout",
     "output_type": "stream",
     "text": [
      "[[0. 0. 0. 0.]\n",
      " [0. 0. 0. 0.]\n",
      " [0. 0. 0. 0.]]\n"
     ]
    }
   ],
   "source": [
    "out = np.zeros((3,4))\n",
    "\n",
    "print(out)"
   ]
  },
  {
   "cell_type": "code",
   "execution_count": 86,
   "metadata": {},
   "outputs": [
    {
     "name": "stdout",
     "output_type": "stream",
     "text": [
      "[[1. 1. 1. 1.]\n",
      " [1. 1. 1. 1.]\n",
      " [1. 1. 1. 1.]]\n"
     ]
    }
   ],
   "source": [
    "out = np.ones((3,4))\n",
    "\n",
    "print(out)"
   ]
  },
  {
   "cell_type": "code",
   "execution_count": 98,
   "metadata": {},
   "outputs": [
    {
     "name": "stdout",
     "output_type": "stream",
     "text": [
      "[[1. 0. 0. 0. 0. 0.]\n",
      " [0. 1. 0. 0. 0. 0.]\n",
      " [0. 0. 1. 0. 0. 0.]\n",
      " [0. 0. 0. 1. 0. 0.]\n",
      " [0. 0. 0. 0. 1. 0.]\n",
      " [0. 0. 0. 0. 0. 1.]]\n"
     ]
    }
   ],
   "source": [
    "out = np.eye(6,6)\n",
    "\n",
    "print(out)"
   ]
  }
 ],
 "metadata": {
  "kernelspec": {
   "display_name": "Python 3",
   "language": "python",
   "name": "python3"
  },
  "language_info": {
   "codemirror_mode": {
    "name": "ipython",
    "version": 3
   },
   "file_extension": ".py",
   "mimetype": "text/x-python",
   "name": "python",
   "nbconvert_exporter": "python",
   "pygments_lexer": "ipython3",
   "version": "3.10.7"
  },
  "orig_nbformat": 4,
  "vscode": {
   "interpreter": {
    "hash": "30c9f151d170d064f054e7769e6cc33a781cb713a9712292b110ae53e4c3962f"
   }
  }
 },
 "nbformat": 4,
 "nbformat_minor": 2
}
