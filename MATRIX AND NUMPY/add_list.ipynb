{
 "cells": [
  {
   "cell_type": "code",
   "execution_count": null,
   "metadata": {},
   "outputs": [],
   "source": [
    "n = int(input('Enter no of rows: '))\n",
    "l1 = []\n",
    "l2 = []\n",
    "for i in range(n):\n",
    "    m1 = list(map(int, input().split()))\n",
    "    l1.append(m1)\n",
    "print(l1)\n",
    "for i in range(n):\n",
    "    m2 = list(map(int, input().split()))\n",
    "    l2.append(m2)\n",
    "print(l2)\n",
    "add = [[l1[i][j]+ l2[i][j] for j in range(n)] for i in range(n)]\n",
    "print(add)"
   ]
  },
  {
   "cell_type": "code",
   "execution_count": null,
   "metadata": {},
   "outputs": [],
   "source": [
    "n = int(input('Enter no. of rows: '))\n",
    "l1 = []\n",
    "for i in range(n):\n",
    "    m1 = list(map(int, input().split()))\n",
    "    l1.append(m1)\n",
    "l2 = []\n",
    "for i in range(n):\n",
    "    m2 = list(map(int, input().split()))\n",
    "    l2.append(m2)\n",
    "add = [[l1[i][j] + l2[i][j] for j in range(len(l1[0]))] for i in range(len(l1))]\n",
    "print(add)\n"
   ]
  },
  {
   "cell_type": "code",
   "execution_count": null,
   "metadata": {},
   "outputs": [],
   "source": [
    "l1 = eval(input())\n",
    "l2 = eval(input())\n",
    "add = [[l1[i][j]+ l2[i][j] for j in range(len(l1[0]))] for i in range(len(l1))]\n",
    "print(add)"
   ]
  },
  {
   "cell_type": "code",
   "execution_count": null,
   "metadata": {},
   "outputs": [],
   "source": [
    "addition of matrix using numpy\n",
    "import numpy as np\n",
    "n = int(input('Enter no. of rows: '))\n",
    "l1 = []\n",
    "l2 = []\n",
    "for i in range(n):\n",
    "    m1 = list(map(int, input().split()))\n",
    "    l1.append(m1)\n",
    "print(l1)\n",
    "for i in range(n):\n",
    "    m2 = list(map(int, input().split()))\n",
    "    l2.append(m2)\n",
    "print(l2)\n",
    "a = np.add(l1, l2)\n",
    "print(a)\n",
    "for i in range(len(a)):\n",
    "    for j in range(len(a[0])):\n",
    "        print(a[i][j], end=' ')\n",
    "    print()"
   ]
  },
  {
   "cell_type": "code",
   "execution_count": null,
   "metadata": {},
   "outputs": [],
   "source": [
    "import numpy as np\n",
    "n = int(input('Enter no. of rows: '))\n",
    "l1 = []\n",
    "l2 = []\n",
    "for i in range(n):\n",
    "    m1 = list(map(int, input().split()))\n",
    "    l1.append(m1)\n",
    "print(l1)\n",
    "for i in range(n):\n",
    "    m2 = list(map(int, input().split()))\n",
    "    l2.append(m2)\n",
    "print(l2)\n",
    "a = np.array(l1)\n",
    "b = np.array(l2)\n",
    "c = a + b\n",
    "print(c)\n",
    "for i in range(len(c)):\n",
    "    for j in range(len(c[0])):\n",
    "        print(c[i][j], end=' ')\n",
    "    print()\n"
   ]
  },
  {
   "cell_type": "code",
   "execution_count": null,
   "metadata": {},
   "outputs": [],
   "source": [
    "import numpy as np\n",
    "l1 = eval(input())\n",
    "l2 = eval(input())\n",
    "add = np.add(l1, l2)\n",
    "print(add)"
   ]
  },
  {
   "cell_type": "code",
   "execution_count": null,
   "metadata": {},
   "outputs": [],
   "source": [
    "import numpy as np\n",
    "\n",
    "n = int(input('Enter no. of rows: '))\n",
    "l1 = []\n",
    "l2 = []\n",
    "for i in range(n):\n",
    "    m1 = list(map(int, input().split()))\n",
    "    l1.append(m1)\n",
    "for i in range(n):\n",
    "    m2 = list(map(int, input().split()))\n",
    "    l2.append(m2)\n",
    "add = np.add(l1, l2)\n",
    "print(add)\n",
    "for i in range(len(add)):\n",
    "    for j in range(len(add[0])):\n",
    "        print(add[i][j], end = ' ')\n",
    "    print()"
   ]
  }
 ],
 "metadata": {
  "kernelspec": {
   "display_name": "Python 3",
   "language": "python",
   "name": "python3"
  },
  "language_info": {
   "name": "python",
   "version": "3.10.7 (tags/v3.10.7:6cc6b13, Sep  5 2022, 14:08:36) [MSC v.1933 64 bit (AMD64)]"
  },
  "orig_nbformat": 4,
  "vscode": {
   "interpreter": {
    "hash": "30c9f151d170d064f054e7769e6cc33a781cb713a9712292b110ae53e4c3962f"
   }
  }
 },
 "nbformat": 4,
 "nbformat_minor": 2
}
