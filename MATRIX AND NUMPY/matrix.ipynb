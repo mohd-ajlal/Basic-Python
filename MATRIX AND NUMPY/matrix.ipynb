{
 "cells": [
  {
   "cell_type": "code",
   "execution_count": 26,
   "metadata": {},
   "outputs": [],
   "source": [
    "def valid_matrix(ls):\n",
    "    b = len(ls[0])\n",
    "    for i in ls:\n",
    "        if len(i) != b:\n",
    "             return False\n",
    "    else:\n",
    "        return True           \n",
    "        "
   ]
  },
  {
   "cell_type": "code",
   "execution_count": 36,
   "metadata": {},
   "outputs": [
    {
     "name": "stdout",
     "output_type": "stream",
     "text": [
      "True\n"
     ]
    }
   ],
   "source": [
    "ls = [[1,2,3], [3,4, 5], [6,7, 5]]\n",
    "out = valid_matrix(ls)\n",
    "print(out)"
   ]
  },
  {
   "cell_type": "code",
   "execution_count": 39,
   "metadata": {},
   "outputs": [],
   "source": [
    "def valid_matrix(arr):\n",
    "    main_count = len(ls[0])\n",
    "    for i in ls:\n",
    "        count = len(i)\n",
    "        if(main_count != count):\n",
    "            return False\n",
    "    return True\n"
   ]
  },
  {
   "cell_type": "code",
   "execution_count": 37,
   "metadata": {},
   "outputs": [
    {
     "name": "stdout",
     "output_type": "stream",
     "text": [
      "True\n"
     ]
    }
   ],
   "source": [
    "arr = ls\n",
    "out = valid_matrix(arr)\n",
    "print(out)"
   ]
  },
  {
   "cell_type": "code",
   "execution_count": 50,
   "metadata": {},
   "outputs": [],
   "source": [
    "def valid(ls):\n",
    "    b = len(ls[0])\n",
    "    for i in ls:\n",
    "        if len(i) != b:\n",
    "             return False\n",
    "    else:\n",
    "        a = len(ls)\n",
    "        b = len(ls[0])\n",
    "        print(a, \"x\" ,b)\n",
    "        return True           \n"
   ]
  },
  {
   "cell_type": "code",
   "execution_count": 61,
   "metadata": {},
   "outputs": [
    {
     "name": "stdout",
     "output_type": "stream",
     "text": [
      "2 x 3\n",
      "True\n"
     ]
    }
   ],
   "source": [
    "arr = [[1,2,3], [3,4, 5]]\n",
    "out = valid(arr)\n",
    "print(out)"
   ]
  },
  {
   "cell_type": "code",
   "execution_count": 4,
   "metadata": {},
   "outputs": [
    {
     "name": "stdout",
     "output_type": "stream",
     "text": [
      "[1, 2, 3, 4, 5, 6]\n",
      "['2', '3']\n",
      "[[1, 2, 3], [4, 5, 6]]\n",
      "1 2 3\n",
      "4 5 6\n"
     ]
    }
   ],
   "source": [
    "lt = eval(input(\"Enter the list: \"))\n",
    "a = input()\n",
    "b = a.split(\"x\")\n",
    "# print(lt)\n",
    "# print(b)\n",
    "row = int(b[0])\n",
    "col = int(b[1])\n",
    "if (len(lt)== row*col):\n",
    "    lt1 = []\n",
    "    for i in range(0, row):\n",
    "        lt2 = []\n",
    "        for j in range(0, col):\n",
    "            lt2.append(lt[i*col+j])\n",
    "        lt1.append(lt2)\n",
    "    # print(lt1)\n",
    "else:\n",
    "    print(\"Invalid matrix\")\n",
    "for i in lt1:\n",
    "    print(*i, sep=' ')\n"
   ]
  },
  {
   "cell_type": "code",
   "execution_count": 4,
   "metadata": {},
   "outputs": [
    {
     "name": "stdout",
     "output_type": "stream",
     "text": [
      "Matrix 1\n",
      "1  20  2  1\n",
      "1  4  4  1\n",
      "5  2  8  1\n",
      "\n",
      "Matrix 2\n",
      "1\t20\t5\t1\n",
      "1\t4\t4\t2\n",
      "6\t2\t8\t2\n"
     ]
    }
   ],
   "source": [
    "# matrix\n",
    "# 3x4\n",
    "# mathworks software\n",
    "\n",
    "ls1 = [[1,20,2,1],[1,4,4,1],[5,2,8,1]]\n",
    "ls2 = [[1,20,5,1],[1,4,4,2],[6,2,8,2]]\n",
    "print('Matrix 1')\n",
    "for i in ls1:\n",
    "    print(*i, sep = '  ')\n",
    "print('\\nMatrix 2')\n",
    "for i in ls2:\n",
    "    print(*i ,sep='\\t')"
   ]
  },
  {
   "cell_type": "code",
   "execution_count": 5,
   "metadata": {},
   "outputs": [
    {
     "name": "stdout",
     "output_type": "stream",
     "text": [
      "1\n"
     ]
    }
   ],
   "source": [
    "ls = [[[1,3,1], [1,3,1]], [[1,4,1], [1,4,1]]]\n",
    "out = ls[0][0][0]\n",
    "print(out)"
   ]
  },
  {
   "cell_type": "code",
   "execution_count": 53,
   "metadata": {},
   "outputs": [],
   "source": [
    "def disp_matrix(arr):\n",
    "    for i in arr:\n",
    "        print(*i, sep = '\\t')\n",
    "\n",
    "def shape(arr):\n",
    "    return len(arr), len(arr[0])"
   ]
  },
  {
   "cell_type": "code",
   "execution_count": 49,
   "metadata": {},
   "outputs": [],
   "source": [
    "def create_matrix(r, c, ele):\n",
    "    return ([[ele]*c]*r)"
   ]
  },
  {
   "cell_type": "code",
   "execution_count": 50,
   "metadata": {},
   "outputs": [
    {
     "name": "stdout",
     "output_type": "stream",
     "text": [
      "100\t0\t0\n",
      "100\t0\t0\n",
      "100\t0\t0\n"
     ]
    }
   ],
   "source": [
    "out = create_matrix(3,3,0)\n",
    "out[0][0] = 100\n",
    "disp_matrix(out)"
   ]
  },
  {
   "cell_type": "code",
   "execution_count": 30,
   "metadata": {},
   "outputs": [
    {
     "name": "stdout",
     "output_type": "stream",
     "text": [
      "[[0], [0], [0]]\n"
     ]
    }
   ],
   "source": [
    "ls = [[0]]*3\n",
    "\n",
    "print(ls)"
   ]
  },
  {
   "cell_type": "code",
   "execution_count": 31,
   "metadata": {},
   "outputs": [
    {
     "name": "stdout",
     "output_type": "stream",
     "text": [
      "[[0, 100], [0, 100], [0, 100]]\n"
     ]
    }
   ],
   "source": [
    "ls = [[0]]*3\n",
    "ls[0].append(100)\n",
    "print(ls)"
   ]
  },
  {
   "cell_type": "code",
   "execution_count": 33,
   "metadata": {},
   "outputs": [
    {
     "name": "stdout",
     "output_type": "stream",
     "text": [
      "[[0], [0], [0]]\n"
     ]
    }
   ],
   "source": [
    "ls = str([[0]]*3)\n",
    "# ls[0].append(100)\n",
    "print(ls)"
   ]
  },
  {
   "cell_type": "code",
   "execution_count": 34,
   "metadata": {},
   "outputs": [
    {
     "name": "stdout",
     "output_type": "stream",
     "text": [
      "[\n"
     ]
    }
   ],
   "source": [
    "ls = str([[0]]*3)\n",
    "# ls[0].append(100)\n",
    "print(ls[0])"
   ]
  },
  {
   "cell_type": "code",
   "execution_count": 39,
   "metadata": {},
   "outputs": [
    {
     "name": "stdout",
     "output_type": "stream",
     "text": [
      "[[0, 0], [0, 0], [0, 0]]\n"
     ]
    }
   ],
   "source": [
    "ls = str([[0]*2]*3)\n",
    "# ls[0].append(100)\n",
    "print(ls)"
   ]
  },
  {
   "cell_type": "code",
   "execution_count": 43,
   "metadata": {},
   "outputs": [
    {
     "data": {
      "text/plain": [
       "'[[0, 0], [0, 0], [0, 0]]'"
      ]
     },
     "execution_count": 43,
     "metadata": {},
     "output_type": "execute_result"
    }
   ],
   "source": [
    "ls = str([[0]*2]*3)\n",
    "# ls[0].append(100)\n",
    "raw = str(ls)\n",
    "raw"
   ]
  },
  {
   "cell_type": "code",
   "execution_count": 46,
   "metadata": {},
   "outputs": [
    {
     "data": {
      "text/plain": [
       "[[0, 0], [0, 0], [0, 0]]"
      ]
     },
     "execution_count": 46,
     "metadata": {},
     "output_type": "execute_result"
    }
   ],
   "source": [
    "ls = str([[0]*2]*3)\n",
    "# ls[0].append(100)\n",
    "raw = str(ls)\n",
    "eval(raw)"
   ]
  },
  {
   "cell_type": "code",
   "execution_count": null,
   "metadata": {},
   "outputs": [],
   "source": [
    "ls = str([[0]*2]*3)\n",
    "# ls[0].append(100)\n",
    "print(ls)"
   ]
  },
  {
   "cell_type": "code",
   "execution_count": 37,
   "metadata": {},
   "outputs": [
    {
     "name": "stdout",
     "output_type": "stream",
     "text": [
      "[[0, 100], [0], [0]]\n"
     ]
    }
   ],
   "source": [
    "ls = eval(str([[0]]*3))\n",
    "ls[0].append(100)\n",
    "print(ls)"
   ]
  },
  {
   "cell_type": "code",
   "execution_count": 57,
   "metadata": {},
   "outputs": [
    {
     "name": "stdout",
     "output_type": "stream",
     "text": [
      "Matrix 1\n",
      "1\t20\t2\t1\n",
      "1\t4\t4\t1\n",
      "5\t2\t8\t1\n",
      "\n",
      "Matrix 2\n",
      "1\t20\t5\t1\n",
      "1\t4\t4\t2\n",
      "6\t2\t8\t2\n",
      "Addition\n",
      "11\t4\t16\t3\n",
      "11\t4\t16\t3\n",
      "11\t4\t16\t3\n"
     ]
    }
   ],
   "source": [
    "ls1 = [[1,20,2,1],[1,4,4,1],[5,2,8,1]]\n",
    "ls2 = [[1,20,5,1],[1,4,4,2],[6,2,8,2]]\n",
    "print('Matrix 1')\n",
    "disp_matrix(ls1)\n",
    "print('\\nMatrix 2')\n",
    "disp_matrix(ls2)\n",
    "r1 , c1 = shape(ls1)\n",
    "r2 , c2 = shape(ls2)\n",
    "if (r1,c1)== (r2,c2):\n",
    "    out = create_matrix(r1, c1, 0)\n",
    "    for i in range(r1):\n",
    "        for j in range(c1):\n",
    "            out[i][j] = ls1[i][j] + ls2[i][j]\n",
    "    print(\"Addition\")\n",
    "    disp_matrix(out)\n",
    "else:\n",
    "    print('Shape is not valid')\n"
   ]
  },
  {
   "cell_type": "code",
   "execution_count": 51,
   "metadata": {},
   "outputs": [],
   "source": [
    "def create_matrix1(r, c, ele):\n",
    "    return eval(str([[ele]*c]*r))"
   ]
  },
  {
   "cell_type": "code",
   "execution_count": 56,
   "metadata": {},
   "outputs": [
    {
     "name": "stdout",
     "output_type": "stream",
     "text": [
      "100\t0\t0\n",
      "0\t0\t0\n",
      "0\t0\t0\n"
     ]
    }
   ],
   "source": [
    "out = create_matrix1(3,3,0)\n",
    "out[0][0] = 100\n",
    "disp_matrix(out)"
   ]
  },
  {
   "cell_type": "code",
   "execution_count": 58,
   "metadata": {},
   "outputs": [
    {
     "name": "stdout",
     "output_type": "stream",
     "text": [
      "Matrix 1\n",
      "1\t20\t2\t1\n",
      "1\t4\t4\t1\n",
      "5\t2\t8\t1\n",
      "\n",
      "Matrix 2\n",
      "1\t20\t5\t1\n",
      "1\t4\t4\t2\n",
      "6\t2\t8\t2\n",
      "Addition\n",
      "2\t40\t7\t2\n",
      "2\t8\t8\t3\n",
      "11\t4\t16\t3\n"
     ]
    }
   ],
   "source": [
    "ls1 = [[1,20,2,1],[1,4,4,1],[5,2,8,1]]\n",
    "ls2 = [[1,20,5,1],[1,4,4,2],[6,2,8,2]]\n",
    "print('Matrix 1')\n",
    "disp_matrix(ls1)\n",
    "print('\\nMatrix 2')\n",
    "disp_matrix(ls2)\n",
    "r1 , c1 = shape(ls1)\n",
    "r2 , c2 = shape(ls2)\n",
    "if (r1,c1)== (r2,c2):\n",
    "    out = create_matrix1(r1, c1, 0)\n",
    "    for i in range(r1):\n",
    "        for j in range(c1):\n",
    "            out[i][j] = ls1[i][j] + ls2[i][j]\n",
    "    print(\"Addition\")\n",
    "    disp_matrix(out)\n",
    "else:\n",
    "    print('Shape is not valid')"
   ]
  },
  {
   "cell_type": "code",
   "execution_count": null,
   "metadata": {},
   "outputs": [],
   "source": [
    "# wap in python for multiplication of two matrix[2D list]"
   ]
  }
 ],
 "metadata": {
  "kernelspec": {
   "display_name": "Python 3",
   "language": "python",
   "name": "python3"
  },
  "language_info": {
   "codemirror_mode": {
    "name": "ipython",
    "version": 3
   },
   "file_extension": ".py",
   "mimetype": "text/x-python",
   "name": "python",
   "nbconvert_exporter": "python",
   "pygments_lexer": "ipython3",
   "version": "3.10.7"
  },
  "orig_nbformat": 4,
  "vscode": {
   "interpreter": {
    "hash": "30c9f151d170d064f054e7769e6cc33a781cb713a9712292b110ae53e4c3962f"
   }
  }
 },
 "nbformat": 4,
 "nbformat_minor": 2
}
