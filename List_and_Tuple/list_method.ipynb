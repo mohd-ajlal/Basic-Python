{
 "cells": [
  {
   "cell_type": "code",
   "execution_count": 7,
   "metadata": {},
   "outputs": [
    {
     "name": "stdout",
     "output_type": "stream",
     "text": [
      "[2, 4, 5, 6, 7, 8, 65, 78]\n"
     ]
    }
   ],
   "source": [
    "# sort() is use to arrage the list.\n",
    "# by using sort method original list will be updated.\n",
    "\n",
    "list = [2, 7, 6, 5, 4, 8, 65, 78]\n",
    "list.sort()\n",
    "print(list)"
   ]
  },
  {
   "cell_type": "code",
   "execution_count": 9,
   "metadata": {},
   "outputs": [
    {
     "name": "stdout",
     "output_type": "stream",
     "text": [
      "[78, 65, 8, 4, 5, 6, 7, 2]\n"
     ]
    }
   ],
   "source": [
    "# reverse() is use to reverse the list\n",
    "\n",
    "list = [2, 7, 6, 5, 4, 8, 65, 78]\n",
    "list.reverse()\n",
    "print(list)"
   ]
  },
  {
   "cell_type": "code",
   "execution_count": 11,
   "metadata": {},
   "outputs": [
    {
     "name": "stdout",
     "output_type": "stream",
     "text": [
      "[2, 7, 6, 5, 4, 8, 65, 78, 'New element']\n"
     ]
    }
   ],
   "source": [
    "# append() is use to add the element at the end of the list\n",
    "\n",
    "list = [2, 7, 6, 5, 4, 8, 65, 78]\n",
    "list.append('New element')\n",
    "print(list)"
   ]
  },
  {
   "cell_type": "code",
   "execution_count": 12,
   "metadata": {},
   "outputs": [
    {
     "name": "stdout",
     "output_type": "stream",
     "text": [
      "[2, 7, 'New element', 6, 5, 4, 8, 65, 78]\n"
     ]
    }
   ],
   "source": [
    "# insert is use to add the element at the specific position of the list\n",
    "\n",
    "list = [2, 7, 6, 5, 4, 8, 65, 78]\n",
    "list.insert(2, 'New element')\n",
    "print(list)"
   ]
  },
  {
   "cell_type": "code",
   "execution_count": 14,
   "metadata": {},
   "outputs": [
    {
     "name": "stdout",
     "output_type": "stream",
     "text": [
      "[2, 7, 5, 4, 8, 65, 78]\n"
     ]
    }
   ],
   "source": [
    "# pop is use to remove the element by the index from the list \n",
    "\n",
    "list = [2, 7, 6, 5, 4, 8, 65, 78]\n",
    "list.pop(2)\n",
    "print(list)"
   ]
  },
  {
   "cell_type": "code",
   "execution_count": 16,
   "metadata": {},
   "outputs": [
    {
     "name": "stdout",
     "output_type": "stream",
     "text": [
      "[2, 7, 5, 4, 6, 8, 65, 78]\n"
     ]
    }
   ],
   "source": [
    "# remove is use to remove the element by the value from the list\n",
    "# if more tham 1 value is present then remove the first value \n",
    "\n",
    "list = [2, 7, 6, 5, 4, 8, 65, 78] \n",
    "list.remove(6)\n",
    "print(list)"
   ]
  },
  {
   "cell_type": "code",
   "execution_count": 1,
   "metadata": {},
   "outputs": [
    {
     "name": "stdout",
     "output_type": "stream",
     "text": [
      "3\n"
     ]
    }
   ],
   "source": [
    "# count is use to count the number of time the element is present in the list\n",
    "\n",
    "list = [5, 2, 7, 6, 5, 4, 8, 5, 65, 78]\n",
    "a = list.count(5)\n",
    "print(a)"
   ]
  }
 ],
 "metadata": {
  "kernelspec": {
   "display_name": "Python 3.10.7 64-bit",
   "language": "python",
   "name": "python3"
  },
  "language_info": {
   "codemirror_mode": {
    "name": "ipython",
    "version": 3
   },
   "file_extension": ".py",
   "mimetype": "text/x-python",
   "name": "python",
   "nbconvert_exporter": "python",
   "pygments_lexer": "ipython3",
   "version": "3.10.7"
  },
  "orig_nbformat": 4,
  "vscode": {
   "interpreter": {
    "hash": "30c9f151d170d064f054e7769e6cc33a781cb713a9712292b110ae53e4c3962f"
   }
  }
 },
 "nbformat": 4,
 "nbformat_minor": 2
}
