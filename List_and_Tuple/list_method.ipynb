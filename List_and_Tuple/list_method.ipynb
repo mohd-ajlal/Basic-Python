{
 "cells": [
  {
   "cell_type": "code",
   "execution_count": 7,
   "metadata": {},
   "outputs": [
    {
     "name": "stdout",
     "output_type": "stream",
     "text": [
      "[2, 4, 5, 6, 7, 8, 65, 78]\n"
     ]
    }
   ],
   "source": [
    "# sort() is use to arrage the list.\n",
    "# by using sort method original list will be updated.\n",
    "\n",
    "list = [2, 7, 6, 5, 4, 8, 65, 78]\n",
    "list.sort()\n",
    "print(list)"
   ]
  },
  {
   "cell_type": "code",
   "execution_count": 9,
   "metadata": {},
   "outputs": [
    {
     "name": "stdout",
     "output_type": "stream",
     "text": [
      "[78, 65, 8, 4, 5, 6, 7, 2]\n"
     ]
    }
   ],
   "source": [
    "# reverse() is use to reverse the list\n",
    "\n",
    "list = [2, 7, 6, 5, 4, 8, 65, 78]\n",
    "list.reverse()\n",
    "print(list)"
   ]
  },
  {
   "cell_type": "code",
   "execution_count": 11,
   "metadata": {},
   "outputs": [
    {
     "name": "stdout",
     "output_type": "stream",
     "text": [
      "[2, 7, 6, 5, 4, 8, 65, 78, 'New element']\n"
     ]
    }
   ],
   "source": [
    "# append() is use to add the element at the end of the list\n",
    "\n",
    "list = [2, 7, 6, 5, 4, 8, 65, 78]\n",
    "list.append('New element')\n",
    "print(list)"
   ]
  },
  {
   "cell_type": "code",
   "execution_count": 12,
   "metadata": {},
   "outputs": [
    {
     "name": "stdout",
     "output_type": "stream",
     "text": [
      "[2, 7, 'New element', 6, 5, 4, 8, 65, 78]\n"
     ]
    }
   ],
   "source": [
    "# insert is use to add the element at the specific position of the list\n",
    "\n",
    "list = [2, 7, 6, 5, 4, 8, 65, 78]\n",
    "list.insert(2, 'New element')\n",
    "print(list)"
   ]
  },
  {
   "cell_type": "code",
   "execution_count": 14,
   "metadata": {},
   "outputs": [
    {
     "name": "stdout",
     "output_type": "stream",
     "text": [
      "[2, 7, 5, 4, 8, 65, 78]\n"
     ]
    }
   ],
   "source": [
    "# pop is use to remove the element by the index from the list \n",
    "\n",
    "list = [2, 7, 6, 5, 4, 8, 65, 78]\n",
    "list.pop(2)\n",
    "print(list)"
   ]
  },
  {
   "cell_type": "code",
   "execution_count": 16,
   "metadata": {},
   "outputs": [
    {
     "name": "stdout",
     "output_type": "stream",
     "text": [
      "[2, 7, 5, 4, 6, 8, 65, 78]\n"
     ]
    }
   ],
   "source": [
    "# remove is use to remove the element by the value from the list\n",
    "# if more tham 1 value is present then remove the first value \n",
    "\n",
    "list = [2, 7, 6, 5, 4, 8, 65] \n",
    "list.remove(6)\n",
    "print(list)"
   ]
  },
  {
   "cell_type": "code",
   "execution_count": 1,
   "metadata": {},
   "outputs": [
    {
     "name": "stdout",
     "output_type": "stream",
     "text": [
      "3\n"
     ]
    }
   ],
   "source": [
    "# count is use to count the number of time the element is present in the list\n",
    "\n",
    "list = [5, 2, 7, 6, 5, 4, 8, 5, 65]\n",
    "a = list.count(5)\n",
    "print(a)"
   ]
  },
  {
   "cell_type": "code",
   "execution_count": 1,
   "metadata": {},
   "outputs": [
    {
     "name": "stdout",
     "output_type": "stream",
     "text": [
      "[-4, 0, 1, 2, 2]\n"
     ]
    }
   ],
   "source": [
    "# display the array element in ascending order\n",
    "\n",
    "ls = list(map(int, input().split()))\n",
    "ls.sort()\n",
    "print(ls)"
   ]
  },
  {
   "cell_type": "code",
   "execution_count": 4,
   "metadata": {},
   "outputs": [
    {
     "name": "stdout",
     "output_type": "stream",
     "text": [
      "[3, 54, 6, 2, 100, 'hello', [3, 4, 12]]\n"
     ]
    }
   ],
   "source": [
    "# append is use to add the value froom last.\n",
    "\n",
    "ls = [3, 54, 6, 2]\n",
    "ls.append(100)\n",
    "ls.append('hello')\n",
    "ls.append([3,4,12])\n",
    "print(ls)"
   ]
  },
  {
   "cell_type": "code",
   "execution_count": 5,
   "metadata": {},
   "outputs": [
    {
     "name": "stdout",
     "output_type": "stream",
     "text": [
      "[33, 5, 'h', 'e', 'l', 'l', 'o']\n"
     ]
    }
   ],
   "source": [
    "# extend \n",
    "\n",
    "ls = [33, 5]\n",
    "ls.extend('hello')\n",
    "print(ls)"
   ]
  },
  {
   "cell_type": "code",
   "execution_count": 6,
   "metadata": {},
   "outputs": [
    {
     "ename": "TypeError",
     "evalue": "'int' object is not iterable",
     "output_type": "error",
     "traceback": [
      "\u001b[1;31m---------------------------------------------------------------------------\u001b[0m",
      "\u001b[1;31mTypeError\u001b[0m                                 Traceback (most recent call last)",
      "Cell \u001b[1;32mIn [6], line 4\u001b[0m\n\u001b[0;32m      1\u001b[0m \u001b[39m# extend \u001b[39;00m\n\u001b[0;32m      3\u001b[0m ls \u001b[39m=\u001b[39m [\u001b[39m33\u001b[39m, \u001b[39m5\u001b[39m]\n\u001b[1;32m----> 4\u001b[0m ls\u001b[39m.\u001b[39;49mextend(\u001b[39m1000\u001b[39;49m)\n\u001b[0;32m      5\u001b[0m \u001b[39mprint\u001b[39m(ls)\n",
      "\u001b[1;31mTypeError\u001b[0m: 'int' object is not iterable"
     ]
    }
   ],
   "source": [
    "# extend \n",
    "\n",
    "# will show error when we use integer in extend method\n",
    "ls = [33, 5]\n",
    "ls.extend(1000)\n",
    "print(ls)"
   ]
  },
  {
   "cell_type": "code",
   "execution_count": 7,
   "metadata": {},
   "outputs": [
    {
     "name": "stdout",
     "output_type": "stream",
     "text": [
      "[33, 5, 3, 5]\n"
     ]
    }
   ],
   "source": [
    "# extend \n",
    "\n",
    "ls = [33, 5]\n",
    "ls.extend([3, 5])\n",
    "print(ls)"
   ]
  },
  {
   "cell_type": "code",
   "execution_count": 8,
   "metadata": {},
   "outputs": [
    {
     "name": "stdout",
     "output_type": "stream",
     "text": [
      "[1, 4, 6, 2, 100, 300]\n"
     ]
    }
   ],
   "source": [
    "ls = [1,4,6,2]\n",
    "ls2= [100, 300]\n",
    "print(ls+ls2)"
   ]
  },
  {
   "cell_type": "code",
   "execution_count": 10,
   "metadata": {},
   "outputs": [
    {
     "name": "stdout",
     "output_type": "stream",
     "text": [
      "[1, 'hello', 2, 23, 456, 12]\n"
     ]
    }
   ],
   "source": [
    "# insert() \n",
    "\n",
    "ls = [1,2, 23, 456, 12]\n",
    "ls.insert(1, 'hello')\n",
    "print(ls)"
   ]
  },
  {
   "cell_type": "code",
   "execution_count": 15,
   "metadata": {},
   "outputs": [
    {
     "name": "stdout",
     "output_type": "stream",
     "text": [
      "[42, 123, 91]\n"
     ]
    }
   ],
   "source": [
    "# remove\n",
    "\n",
    "ls = [2, 42, 123, 91]\n",
    "ls.remove(2)\n",
    "print(ls)"
   ]
  },
  {
   "cell_type": "code",
   "execution_count": 16,
   "metadata": {},
   "outputs": [
    {
     "name": "stdout",
     "output_type": "stream",
     "text": [
      "[23, 13, 41]\n"
     ]
    }
   ],
   "source": [
    "# pop() -< delete the item frim the givebn character\n",
    "ls = [23, 13 ,32, 41]\n",
    "ls.pop(2)\n",
    "print(ls)"
   ]
  },
  {
   "cell_type": "code",
   "execution_count": 21,
   "metadata": {},
   "outputs": [
    {
     "name": "stdout",
     "output_type": "stream",
     "text": [
      "[23, 13, 41]\n",
      "32 <class 'int'>\n"
     ]
    }
   ],
   "source": [
    "ls = [23, 13 ,32, 41]\n",
    "delete = ls.pop(2)\n",
    "print(ls)\n",
    "print(delete, type(delete))"
   ]
  },
  {
   "cell_type": "code",
   "execution_count": 20,
   "metadata": {},
   "outputs": [
    {
     "name": "stdout",
     "output_type": "stream",
     "text": [
      "[]\n"
     ]
    }
   ],
   "source": [
    "ls = [23, 13 ,32, 41]\n",
    "ls.clear()\n",
    "print(ls)"
   ]
  },
  {
   "cell_type": "code",
   "execution_count": 23,
   "metadata": {},
   "outputs": [
    {
     "name": "stdout",
     "output_type": "stream",
     "text": [
      "[56, 13, 32, 41]\n"
     ]
    }
   ],
   "source": [
    "ls = [23, 13 ,32, 41]\n",
    "ls[0] = 56\n",
    "print(ls)"
   ]
  },
  {
   "cell_type": "code",
   "execution_count": 28,
   "metadata": {},
   "outputs": [
    {
     "name": "stdout",
     "output_type": "stream",
     "text": [
      "[2, 2, 4, 5, 5, 7, 7, 9]\n",
      "[9, 7, 7, 5, 5, 4, 2, 2]\n"
     ]
    }
   ],
   "source": [
    "# sort()\n",
    "\n",
    "ls = [5, 2, 7, 9, 5, 2, 4, 7]\n",
    "ls.sort()\n",
    "print(ls)\n",
    "ls.reverse()\n",
    "print(ls)\n"
   ]
  },
  {
   "cell_type": "code",
   "execution_count": 30,
   "metadata": {},
   "outputs": [
    {
     "name": "stdout",
     "output_type": "stream",
     "text": [
      "20\n"
     ]
    }
   ],
   "source": [
    "# sum of two greatest no. of a list.append\n",
    "\n",
    "\n",
    "ls = list(map(int, input().split()))\n",
    "print(ls)\n",
    "ls.sort()\n",
    "print(ls)\n",
    "print(ls[-1] + ls[-2])"
   ]
  }
 ],
 "metadata": {
  "kernelspec": {
   "display_name": "Python 3.10.7 64-bit",
   "language": "python",
   "name": "python3"
  },
  "language_info": {
   "codemirror_mode": {
    "name": "ipython",
    "version": 3
   },
   "file_extension": ".py",
   "mimetype": "text/x-python",
   "name": "python",
   "nbconvert_exporter": "python",
   "pygments_lexer": "ipython3",
   "version": "3.10.7"
  },
  "orig_nbformat": 4,
  "vscode": {
   "interpreter": {
    "hash": "30c9f151d170d064f054e7769e6cc33a781cb713a9712292b110ae53e4c3962f"
   }
  }
 },
 "nbformat": 4,
 "nbformat_minor": 2
}
