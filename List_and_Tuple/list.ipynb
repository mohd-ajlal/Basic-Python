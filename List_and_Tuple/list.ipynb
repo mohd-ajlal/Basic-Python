{
 "cells": [
  {
   "cell_type": "code",
   "execution_count": 3,
   "metadata": {},
   "outputs": [
    {
     "name": "stdout",
     "output_type": "stream",
     "text": [
      "['name', 43, 'GLA university'] <class 'list'>\n"
     ]
    }
   ],
   "source": [
    "info = ['name', 43, 'GLA university']\n",
    "print(info, type(info))"
   ]
  },
  {
   "cell_type": "code",
   "execution_count": 6,
   "metadata": {},
   "outputs": [
    {
     "name": "stdout",
     "output_type": "stream",
     "text": [
      "name\n",
      "43 <class 'int'>\n"
     ]
    }
   ],
   "source": [
    "info = ['name', 43, 'GLA university']\n",
    "print(info[0])\n",
    "a = info[1]\n",
    "print(a, type(a))"
   ]
  },
  {
   "cell_type": "code",
   "execution_count": 9,
   "metadata": {},
   "outputs": [
    {
     "name": "stdout",
     "output_type": "stream",
     "text": [
      "1\n",
      "2\n",
      "3\n",
      "3\n",
      "6\n"
     ]
    }
   ],
   "source": [
    "info = [1, 2, 3, 3, 6]\n",
    "for i in info:\n",
    "    print(i)"
   ]
  },
  {
   "cell_type": "code",
   "execution_count": 10,
   "metadata": {},
   "outputs": [
    {
     "name": "stdout",
     "output_type": "stream",
     "text": [
      "['Change name', 34, 'GLA University', 'Rakesh']\n"
     ]
    }
   ],
   "source": [
    "info = ['ravi', 34, 'GLA University', 'Rakesh']\n",
    "info[0] = 'Change name'\n",
    "print(info)"
   ]
  },
  {
   "cell_type": "code",
   "execution_count": 12,
   "metadata": {},
   "outputs": [
    {
     "name": "stdout",
     "output_type": "stream",
     "text": [
      "[] <class 'list'>\n"
     ]
    }
   ],
   "source": [
    "# how to initialize the empty list\n",
    "\n",
    "empty_list = []\n",
    "\n",
    "print(empty_list, type(empty_list))"
   ]
  },
  {
   "cell_type": "code",
   "execution_count": 13,
   "metadata": {},
   "outputs": [
    {
     "name": "stdout",
     "output_type": "stream",
     "text": [
      "[] <class 'list'>\n"
     ]
    }
   ],
   "source": [
    "st  = list()\n",
    "\n",
    "print(st, type(st))"
   ]
  },
  {
   "cell_type": "code",
   "execution_count": 17,
   "metadata": {},
   "outputs": [
    {
     "name": "stdout",
     "output_type": "stream",
     "text": [
      "['name']\n"
     ]
    }
   ],
   "source": [
    "# list with single element\n",
    "\n",
    "info = ['name']\n",
    "\n",
    "print(info)"
   ]
  },
  {
   "cell_type": "code",
   "execution_count": 19,
   "metadata": {},
   "outputs": [
    {
     "name": "stdout",
     "output_type": "stream",
     "text": [
      "name <class 'str'>\n"
     ]
    }
   ],
   "source": [
    "# accessing the items -> Indexing\n",
    "\n",
    "info = ['name', 34, 'GLA', 'L']\n",
    "\n",
    "out = info[0]\n",
    "\n",
    "print(out, type(out))"
   ]
  },
  {
   "cell_type": "code",
   "execution_count": 23,
   "metadata": {},
   "outputs": [
    {
     "name": "stdout",
     "output_type": "stream",
     "text": [
      "['name', 34, 'GLA'] <class 'list'>\n"
     ]
    }
   ],
   "source": [
    "# accessing the items -> slicing\n",
    "\n",
    "info = ['name', 34, 'GLA', 'L']\n",
    "\n",
    "out = info[0:3]\n",
    "\n",
    "print(out, type(out))"
   ]
  },
  {
   "cell_type": "code",
   "execution_count": 25,
   "metadata": {},
   "outputs": [
    {
     "name": "stdout",
     "output_type": "stream",
     "text": [
      "[] <class 'list'>\n"
     ]
    }
   ],
   "source": [
    "# accessing the items -> slicing\n",
    "\n",
    "info = ['name', 34, 'GLA', 'L']\n",
    "\n",
    "out = info[10:2]\n",
    "\n",
    "print(out, type(out))"
   ]
  },
  {
   "cell_type": "code",
   "execution_count": 26,
   "metadata": {},
   "outputs": [
    {
     "name": "stdout",
     "output_type": "stream",
     "text": [
      "[] <class 'list'>\n"
     ]
    }
   ],
   "source": [
    "# accessing the items -> slicing\n",
    "\n",
    "info = ['name', 34, 'GLA', 'L']\n",
    "\n",
    "out = info[4:-1:-1]\n",
    "\n",
    "print(out, type(out))"
   ]
  },
  {
   "cell_type": "code",
   "execution_count": 29,
   "metadata": {},
   "outputs": [
    {
     "name": "stdout",
     "output_type": "stream",
     "text": [
      "['L', 'GLA', 34] <class 'list'>\n"
     ]
    }
   ],
   "source": [
    "# accessing the items -> slicing\n",
    "\n",
    "info = ['name', 34, 'GLA', 'L']\n",
    "\n",
    "out = info[3:0:-1]\n",
    "\n",
    "print(out, type(out))"
   ]
  },
  {
   "cell_type": "code",
   "execution_count": 30,
   "metadata": {},
   "outputs": [
    {
     "name": "stdout",
     "output_type": "stream",
     "text": [
      "['L', 'GLA', 34, 'name'] <class 'list'>\n"
     ]
    }
   ],
   "source": [
    "# accessing the items -> slicing\n",
    "\n",
    "info = ['name', 34, 'GLA', 'L']\n",
    "\n",
    "out = info[::-1]\n",
    "\n",
    "print(out, type(out))"
   ]
  },
  {
   "cell_type": "code",
   "execution_count": 32,
   "metadata": {},
   "outputs": [
    {
     "name": "stdout",
     "output_type": "stream",
     "text": [
      "['H', 'e', 'l', 'l', 'o']\n"
     ]
    }
   ],
   "source": [
    "ls = list('Hello')\n",
    "print(ls)"
   ]
  },
  {
   "cell_type": "code",
   "execution_count": 33,
   "metadata": {},
   "outputs": [
    {
     "name": "stdout",
     "output_type": "stream",
     "text": [
      "['[', 'h', 'e', 'l', 'l', 'o', ']']\n"
     ]
    }
   ],
   "source": [
    "ls = list('[hello]')\n",
    "print(ls)"
   ]
  },
  {
   "cell_type": "code",
   "execution_count": 37,
   "metadata": {},
   "outputs": [
    {
     "name": "stdout",
     "output_type": "stream",
     "text": [
      "[1, 3, 1, 41] <class 'list'>\n"
     ]
    }
   ],
   "source": [
    "# how to read list from user\n",
    "\n",
    "data = eval(input('Enter a list in form []: '))\n",
    "\n",
    "print(data, type(data))"
   ]
  },
  {
   "cell_type": "code",
   "execution_count": 38,
   "metadata": {},
   "outputs": [
    {
     "name": "stdout",
     "output_type": "stream",
     "text": [
      "['hell', ' w', 'rld']\n"
     ]
    }
   ],
   "source": [
    "st = 'hello world'\n",
    "out = st.split('o')\n",
    "print(out)"
   ]
  },
  {
   "cell_type": "code",
   "execution_count": 39,
   "metadata": {},
   "outputs": [
    {
     "name": "stdout",
     "output_type": "stream",
     "text": [
      "['26', '719', '82', 'ajlal']\n"
     ]
    }
   ],
   "source": [
    "st = input('Enter a string: ')\n",
    "out = st.split(' ')\n",
    "print(out)\n",
    "\n",
    "# list item will be in the form of string."
   ]
  },
  {
   "cell_type": "code",
   "execution_count": 41,
   "metadata": {},
   "outputs": [
    {
     "name": "stdout",
     "output_type": "stream",
     "text": [
      "['hello', '', '', 'world']\n"
     ]
    }
   ],
   "source": [
    "# using 2 space in a string using split function\n",
    "\n",
    "st = 'hello  world'\n",
    "out = st.split(' ')\n",
    "print(out)"
   ]
  },
  {
   "cell_type": "code",
   "execution_count": 44,
   "metadata": {},
   "outputs": [
    {
     "name": "stdout",
     "output_type": "stream",
     "text": [
      "['hello', 'world.', 'This', 'is', 'list', 'in', 'python']\n"
     ]
    }
   ],
   "source": [
    "st = 'hello world.     This is list in python'\n",
    "out = st.split()\n",
    "print(out)"
   ]
  },
  {
   "cell_type": "code",
   "execution_count": 45,
   "metadata": {},
   "outputs": [
    {
     "name": "stdout",
     "output_type": "stream",
     "text": [
      "['12', '12', '12', '32', '1']\n",
      "[12, 12, 12, 32, 1]\n"
     ]
    }
   ],
   "source": [
    "# changing item of list from string to other\n",
    "\n",
    "st = input('Enter a string: ')\n",
    "out = st.split()\n",
    "print(out)\n",
    "\n",
    "ls = []\n",
    "for i in out:\n",
    "    ls.append(int(i))\n",
    "\n",
    "print(ls)"
   ]
  },
  {
   "cell_type": "code",
   "execution_count": 3,
   "metadata": {},
   "outputs": [
    {
     "name": "stdout",
     "output_type": "stream",
     "text": [
      "2\n"
     ]
    }
   ],
   "source": [
    "lt = [1, 2, 3, 4, 5, 6, 7, 8, 9, 10, 1, 2, 3, 4, 5, 6, 7, 8, 9, 10]\n",
    "a = lt.count(3)\n",
    "print(a)"
   ]
  },
  {
   "cell_type": "code",
   "execution_count": 4,
   "metadata": {},
   "outputs": [
    {
     "name": "stdout",
     "output_type": "stream",
     "text": [
      "20\n"
     ]
    }
   ],
   "source": [
    "lt = [1, 2, 3, 4, 5, 6, 7, 8, 9, 10, 1, 2, 3, 4, 5, 6, 7, 8, 9, 10]\n",
    "a = len(lt)\n",
    "print(a)"
   ]
  },
  {
   "cell_type": "code",
   "execution_count": 47,
   "metadata": {},
   "outputs": [
    {
     "name": "stdout",
     "output_type": "stream",
     "text": [
      "['12', '42', '13', '43']\n",
      "<map object at 0x0000020353B442B0>\n"
     ]
    }
   ],
   "source": [
    "\n",
    "st = input('Enter a string: ')\n",
    "out = st.split()\n",
    "print(out)\n",
    "ls = map(int, out)\n",
    "print(ls)\n"
   ]
  },
  {
   "cell_type": "code",
   "execution_count": 48,
   "metadata": {},
   "outputs": [
    {
     "name": "stdout",
     "output_type": "stream",
     "text": [
      "['5', '64', '64', '64']\n",
      "[5, 64, 64, 64]\n"
     ]
    }
   ],
   "source": [
    "# map function output in form of list.\n",
    "\n",
    "st = input('Enter a number: ')\n",
    "out = st.split()\n",
    "print(out)\n",
    "ls = list(map(int, out))\n",
    "print(ls)"
   ]
  },
  {
   "cell_type": "code",
   "execution_count": 50,
   "metadata": {},
   "outputs": [
    {
     "name": "stdout",
     "output_type": "stream",
     "text": [
      "[12, 32, 13, 15]\n"
     ]
    }
   ],
   "source": [
    "ls = list(map(int, input().split()))\n",
    "print(ls)"
   ]
  },
  {
   "cell_type": "code",
   "execution_count": 4,
   "metadata": {},
   "outputs": [
    {
     "name": "stdout",
     "output_type": "stream",
     "text": [
      "[12, 32, 15, 4]\n"
     ]
    }
   ],
   "source": [
    "ls = list(map(int, input().split(', ')))\n",
    "print(ls)"
   ]
  }
 ],
 "metadata": {
  "kernelspec": {
   "display_name": "Python 3.10.7 64-bit",
   "language": "python",
   "name": "python3"
  },
  "language_info": {
   "codemirror_mode": {
    "name": "ipython",
    "version": 3
   },
   "file_extension": ".py",
   "mimetype": "text/x-python",
   "name": "python",
   "nbconvert_exporter": "python",
   "pygments_lexer": "ipython3",
   "version": "3.10.7"
  },
  "orig_nbformat": 4,
  "vscode": {
   "interpreter": {
    "hash": "30c9f151d170d064f054e7769e6cc33a781cb713a9712292b110ae53e4c3962f"
   }
  }
 },
 "nbformat": 4,
 "nbformat_minor": 2
}
