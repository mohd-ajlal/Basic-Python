{
 "cells": [
  {
   "cell_type": "code",
   "execution_count": null,
   "metadata": {},
   "outputs": [],
   "source": [
    "# list comprehension: to cosize way to create a list\n",
    "\n",
    "# syntax : [expression for i in sequential if filter_condition]"
   ]
  },
  {
   "cell_type": "code",
   "execution_count": 1,
   "metadata": {},
   "outputs": [
    {
     "name": "stdout",
     "output_type": "stream",
     "text": [
      "[2, 5, 7, 12, 1]\n",
      "[4, 7, 9, 14, 3]\n"
     ]
    }
   ],
   "source": [
    "# using user defined functions\n",
    "\n",
    "def apna_fun(x):\n",
    "    return x+2\n",
    "\n",
    "marks = [2,5,7,12,1]\n",
    "\n",
    "# updated_marks = [4, 7, 9, 14, 3]\n",
    "\n",
    "updated_marks = list(map(apna_fun, marks))\n",
    "\n",
    "print(marks)\n",
    "print(updated_marks)"
   ]
  },
  {
   "cell_type": "code",
   "execution_count": 4,
   "metadata": {},
   "outputs": [
    {
     "name": "stdout",
     "output_type": "stream",
     "text": [
      "[2, 5, 7, 12, 1]\n",
      "[4, 7, 9, 14, 3]\n"
     ]
    }
   ],
   "source": [
    "# lambda example\n",
    "marks = [2,5,7,12,1]\n",
    "\n",
    "updated_marks = list(map(lambda x: x+2, marks))\n",
    "\n",
    "print(marks)\n",
    "print(updated_marks)"
   ]
  },
  {
   "cell_type": "code",
   "execution_count": 5,
   "metadata": {},
   "outputs": [
    {
     "name": "stdout",
     "output_type": "stream",
     "text": [
      "[2, 5, 7, 12, 1]\n",
      "['Hi', 'Hi', 'Hi', 'Hi', 'Hi']\n"
     ]
    }
   ],
   "source": [
    "marks = [2,5,7,12,1]\n",
    "\n",
    "# updated_marks = [4, 7, 9, 14, 3]\n",
    "\n",
    "updated_marks = ['Hi' for i in marks]\n",
    "\n",
    "print(marks)\n",
    "print(updated_marks)"
   ]
  },
  {
   "cell_type": "code",
   "execution_count": 6,
   "metadata": {},
   "outputs": [
    {
     "name": "stdout",
     "output_type": "stream",
     "text": [
      "[2, 5, 7, 12, 1]\n",
      "[2, 5, 7, 12, 1]\n"
     ]
    }
   ],
   "source": [
    "marks = [2,5,7,12,1]\n",
    "\n",
    "# updated_marks = [4, 7, 9, 14, 3]\n",
    "\n",
    "updated_marks = [i for i in marks]\n",
    "\n",
    "print(marks)\n",
    "print(updated_marks)"
   ]
  },
  {
   "cell_type": "code",
   "execution_count": 7,
   "metadata": {},
   "outputs": [
    {
     "name": "stdout",
     "output_type": "stream",
     "text": [
      "[2, 5, 7, 12, 1]\n",
      "[4, 7, 9, 14, 3]\n"
     ]
    }
   ],
   "source": [
    "marks = [2,5,7,12,1]\n",
    "\n",
    "# updated_marks = [4, 7, 9, 14, 3]\n",
    "\n",
    "updated_marks = [i+2 for i in marks]\n",
    "\n",
    "print(\"Original Marks: \",marks)\n",
    "print(updated_marks)"
   ]
  },
  {
   "cell_type": "code",
   "execution_count": 11,
   "metadata": {},
   "outputs": [
    {
     "name": "stdout",
     "output_type": "stream",
     "text": [
      "[2, 5, 7, 12, 1]\n",
      "[2.0, 5.0, 7.0, 12.0, 1.0]\n"
     ]
    }
   ],
   "source": [
    "marks = [2,5,7,12,1]\n",
    "\n",
    "# updated_marks = [4, 7, 9, 14, 3]\n",
    "\n",
    "updated_marks = [float(i) for i in marks]\n",
    "\n",
    "print(marks)\n",
    "print(updated_marks)"
   ]
  },
  {
   "cell_type": "code",
   "execution_count": 17,
   "metadata": {},
   "outputs": [
    {
     "name": "stdout",
     "output_type": "stream",
     "text": [
      "[93.2, -40.0, 131.0, 140.0, 208.4]\n"
     ]
    }
   ],
   "source": [
    "# temperature mapping\n",
    "# fe = 1.8 * c + 32\n",
    "\n",
    "# ce = eval(input())\n",
    "ce = [34, -40, 55, 60, 98]\n",
    "\n",
    "fe = [(1.8 * i + 32) for i in ce]\n",
    "\n",
    "print(fe)"
   ]
  },
  {
   "cell_type": "code",
   "execution_count": 25,
   "metadata": {},
   "outputs": [
    {
     "name": "stdout",
     "output_type": "stream",
     "text": [
      "Original list:  [4, -5, 6, 8, 5, -8, 5, -1, -6]\n",
      "Updated list:  [4, 6, 8, -8, -6]\n"
     ]
    }
   ],
   "source": [
    "# list  comprehensions as a filter\n",
    "\n",
    "ls = [4, -5, 6, 8, 5, -8, 5, -1, -6]\n",
    "\n",
    "even_ls = [i for i in ls if i %2 == 0]\n",
    "\n",
    "print(\"Original list: \",ls)\n",
    "print(\"Updated list: \",even_ls)"
   ]
  },
  {
   "cell_type": "code",
   "execution_count": 33,
   "metadata": {},
   "outputs": [
    {
     "name": "stdout",
     "output_type": "stream",
     "text": [
      "Updated list:  [-5, -8, -1, -6, 0]\n"
     ]
    }
   ],
   "source": [
    "ls = [4, -5, 6, 8, 5, -8, 5, -1, -6, 0]\n",
    "\n",
    "even_ls = [i for i in ls if i <= 0]\n",
    "\n",
    "print(\"Updated list: \",even_ls)"
   ]
  }
 ],
 "metadata": {
  "kernelspec": {
   "display_name": "Python 3",
   "language": "python",
   "name": "python3"
  },
  "language_info": {
   "codemirror_mode": {
    "name": "ipython",
    "version": 3
   },
   "file_extension": ".py",
   "mimetype": "text/x-python",
   "name": "python",
   "nbconvert_exporter": "python",
   "pygments_lexer": "ipython3",
   "version": "3.10.7 (tags/v3.10.7:6cc6b13, Sep  5 2022, 14:08:36) [MSC v.1933 64 bit (AMD64)]"
  },
  "orig_nbformat": 4,
  "vscode": {
   "interpreter": {
    "hash": "30c9f151d170d064f054e7769e6cc33a781cb713a9712292b110ae53e4c3962f"
   }
  }
 },
 "nbformat": 4,
 "nbformat_minor": 2
}
