{
 "cells": [
  {
   "cell_type": "code",
   "execution_count": null,
   "metadata": {},
   "outputs": [],
   "source": [
    "# string: Sequence of characters\n",
    "\n",
    "# string is immutable type\n",
    "\n",
    "# it is ordered quantity\n",
    "\n",
    "\n",
    "str = 'Hello'"
   ]
  },
  {
   "cell_type": "code",
   "execution_count": 2,
   "metadata": {},
   "outputs": [
    {
     "data": {
      "text/plain": [
       "''"
      ]
     },
     "execution_count": 2,
     "metadata": {},
     "output_type": "execute_result"
    }
   ],
   "source": [
    "# initializing a string\n",
    "\n",
    "st = '' # empty string\n",
    "\n",
    "st = str() # class call (constructor)\n",
    "st"
   ]
  },
  {
   "cell_type": "code",
   "execution_count": 3,
   "metadata": {},
   "outputs": [
    {
     "name": "stdout",
     "output_type": "stream",
     "text": [
      "hello python <class 'str'>\n"
     ]
    }
   ],
   "source": [
    "st = 'hello python'\n",
    "print(st, type(st))"
   ]
  },
  {
   "cell_type": "code",
   "execution_count": 8,
   "metadata": {},
   "outputs": [
    {
     "name": "stdout",
     "output_type": "stream",
     "text": [
      "hello ' p\"ython\n"
     ]
    }
   ],
   "source": [
    "st = \"hello ' p\\\"ython\"\n",
    "print(st)"
   ]
  },
  {
   "cell_type": "code",
   "execution_count": 11,
   "metadata": {},
   "outputs": [
    {
     "name": "stdout",
     "output_type": "stream",
     "text": [
      " hello\n",
      "world\n"
     ]
    }
   ],
   "source": [
    "st = ''' hello\n",
    "world'''\n",
    "\n",
    "print(st)"
   ]
  },
  {
   "cell_type": "code",
   "execution_count": 12,
   "metadata": {},
   "outputs": [
    {
     "name": "stdout",
     "output_type": "stream",
     "text": [
      "e\n"
     ]
    }
   ],
   "source": [
    "# accessing the element from string\n",
    "# 1. indexing: get the element from position.\n",
    "# 2. slicing range:\n"
   ]
  },
  {
   "cell_type": "code",
   "execution_count": null,
   "metadata": {},
   "outputs": [],
   "source": [
    "st = 'hello python'\n",
    "out = st[1]\n",
    "print(out)\n"
   ]
  },
  {
   "cell_type": "code",
   "execution_count": null,
   "metadata": {},
   "outputs": [],
   "source": [
    "# reverse indexing\n",
    "\n",
    "st = 'hello python'\n",
    "out = st[-1]\n",
    "print(out)"
   ]
  },
  {
   "cell_type": "code",
   "execution_count": 14,
   "metadata": {},
   "outputs": [
    {
     "name": "stdout",
     "output_type": "stream",
     "text": [
      "hello\n"
     ]
    }
   ],
   "source": [
    "# slicing: get the subsequence from the seequence with range\n",
    "# format = variable_name[start:stop:step]\n",
    "\n",
    "st = 'hello python'\n",
    "out = st[0:5]\n",
    "print(out)"
   ]
  },
  {
   "cell_type": "code",
   "execution_count": 15,
   "metadata": {},
   "outputs": [
    {
     "name": "stdout",
     "output_type": "stream",
     "text": [
      "hello\n"
     ]
    }
   ],
   "source": [
    "st = 'hello python'\n",
    "out = st[:5]\n",
    "print(out)"
   ]
  },
  {
   "cell_type": "code",
   "execution_count": 16,
   "metadata": {},
   "outputs": [
    {
     "name": "stdout",
     "output_type": "stream",
     "text": [
      "lo python\n"
     ]
    }
   ],
   "source": [
    "st = 'hello python'\n",
    "out = st[3:]\n",
    "print(out)"
   ]
  },
  {
   "cell_type": "code",
   "execution_count": 17,
   "metadata": {},
   "outputs": [
    {
     "name": "stdout",
     "output_type": "stream",
     "text": [
      "el yh\n"
     ]
    }
   ],
   "source": [
    "st = 'hello python'\n",
    "out = st[1:11:2]\n",
    "print(out)"
   ]
  },
  {
   "cell_type": "code",
   "execution_count": 19,
   "metadata": {},
   "outputs": [
    {
     "name": "stdout",
     "output_type": "stream",
     "text": [
      "llo pyt\n"
     ]
    }
   ],
   "source": [
    "st = 'hello python'\n",
    "out = st[2:9]\n",
    "print(out)"
   ]
  },
  {
   "cell_type": "code",
   "execution_count": 24,
   "metadata": {},
   "outputs": [
    {
     "name": "stdout",
     "output_type": "stream",
     "text": [
      "ohtyp o\n"
     ]
    }
   ],
   "source": [
    "st = 'hello python'\n",
    "out = st[-2:-9]\n",
    "print(out)"
   ]
  },
  {
   "cell_type": "code",
   "execution_count": 21,
   "metadata": {},
   "outputs": [
    {
     "name": "stdout",
     "output_type": "stream",
     "text": [
      "\n"
     ]
    }
   ],
   "source": [
    "st = 'hello python'\n",
    "out = st[10:1]\n",
    "print(out)\n",
    "\n",
    "# empty"
   ]
  },
  {
   "cell_type": "code",
   "execution_count": 25,
   "metadata": {},
   "outputs": [
    {
     "name": "stdout",
     "output_type": "stream",
     "text": [
      "l\n"
     ]
    }
   ],
   "source": [
    "st = 'hello python'\n",
    "out = st[2:-9]\n",
    "print(out)"
   ]
  },
  {
   "cell_type": "code",
   "execution_count": 29,
   "metadata": {},
   "outputs": [
    {
     "name": "stdout",
     "output_type": "stream",
     "text": [
      "hello python\n"
     ]
    }
   ],
   "source": [
    "st = 'hello python'\n",
    "out = st[ : : ]\n",
    "print(out)"
   ]
  },
  {
   "cell_type": "code",
   "execution_count": 32,
   "metadata": {},
   "outputs": [
    {
     "name": "stdout",
     "output_type": "stream",
     "text": [
      "It is palindrome\n"
     ]
    }
   ],
   "source": [
    "# wap in python to check given string or no. is palindrome or not.\n",
    "\n",
    "st = input(\"Enter a string: \")\n",
    "\n",
    "out = st[::-1]\n",
    "if st == out:\n",
    "    print(\"It is palindrome\")\n",
    "else:\n",
    "    print(\"It is not palindrome\")"
   ]
  },
  {
   "cell_type": "code",
   "execution_count": 1,
   "metadata": {},
   "outputs": [
    {
     "name": "stdout",
     "output_type": "stream",
     "text": [
      "5\n"
     ]
    }
   ],
   "source": [
    "st = 'hello'\n",
    "len = len(st)\n",
    "print(len)"
   ]
  },
  {
   "cell_type": "code",
   "execution_count": null,
   "metadata": {},
   "outputs": [],
   "source": [
    "# method in python string"
   ]
  },
  {
   "cell_type": "code",
   "execution_count": 3,
   "metadata": {},
   "outputs": [
    {
     "name": "stdout",
     "output_type": "stream",
     "text": [
      "2\n"
     ]
    }
   ],
   "source": [
    "# frequency of given character in a string\n",
    "\n",
    "st = 'hello'\n",
    "\n",
    "count = st.count(\"l\")\n",
    "print(count)"
   ]
  },
  {
   "cell_type": "code",
   "execution_count": 10,
   "metadata": {},
   "outputs": [
    {
     "name": "stdout",
     "output_type": "stream",
     "text": [
      "Hello world\n"
     ]
    }
   ],
   "source": [
    "# capitalize is use to make first letter of the string in upper case.\n",
    "\n",
    "st = 'hello world'\n",
    "\n",
    "s = st.capitalize()\n",
    "\n",
    "print(s)\n"
   ]
  },
  {
   "cell_type": "code",
   "execution_count": 12,
   "metadata": {},
   "outputs": [
    {
     "name": "stdout",
     "output_type": "stream",
     "text": [
      "1Hello\n"
     ]
    }
   ],
   "source": [
    "# if there is any digit before eny text then it will give no upper case character.\n",
    "\n",
    "st = '1hello'\n",
    "s = st.capitalize()\n",
    "print(s)"
   ]
  },
  {
   "cell_type": "code",
   "execution_count": 16,
   "metadata": {},
   "outputs": [
    {
     "name": "stdout",
     "output_type": "stream",
     "text": [
      "Hello World 5G\n"
     ]
    }
   ],
   "source": [
    "# it will convert all the first character in upper case\n",
    "\n",
    "st = 'hello world 5g'\n",
    "s = st.title()\n",
    "print(s)"
   ]
  },
  {
   "cell_type": "code",
   "execution_count": 17,
   "metadata": {},
   "outputs": [
    {
     "name": "stdout",
     "output_type": "stream",
     "text": [
      "1Hello #Hello\n"
     ]
    }
   ],
   "source": [
    "st = '1hello #hello'\n",
    "s = st.title()\n",
    "print(s)"
   ]
  },
  {
   "cell_type": "code",
   "execution_count": 18,
   "metadata": {},
   "outputs": [
    {
     "name": "stdout",
     "output_type": "stream",
     "text": [
      "HELLO\n"
     ]
    }
   ],
   "source": [
    "# upper -> convert all the characters of the string in upper case.\n",
    "\n",
    "st = 'hello'\n",
    "s = st.upper()\n",
    "print(s)"
   ]
  },
  {
   "cell_type": "code",
   "execution_count": 19,
   "metadata": {},
   "outputs": [
    {
     "name": "stdout",
     "output_type": "stream",
     "text": [
      "hello world\n"
     ]
    }
   ],
   "source": [
    "# lower -> convert all the characters of string in lower case.\n",
    "\n",
    "st = 'HELLO world'\n",
    "s = st.lower()\n",
    "print(s)"
   ]
  },
  {
   "cell_type": "code",
   "execution_count": 22,
   "metadata": {},
   "outputs": [
    {
     "name": "stdout",
     "output_type": "stream",
     "text": [
      "hello world\n"
     ]
    }
   ],
   "source": [
    "# casefold -> convert all the characters of the string either in ascii or unicode it will convert in lowercase.\n",
    "\n",
    "st = 'hello WORLD'\n",
    "s = st.casefold()\n",
    "print(s)"
   ]
  },
  {
   "cell_type": "code",
   "execution_count": 24,
   "metadata": {},
   "outputs": [
    {
     "name": "stdout",
     "output_type": "stream",
     "text": [
      "your name is not kush.\n"
     ]
    }
   ],
   "source": [
    "name = input(\"Enter something: \")\n",
    "if name == 'kush':\n",
    "    print('Congrats', name)\n",
    "else:\n",
    "    print('your name is not kush.')"
   ]
  },
  {
   "cell_type": "code",
   "execution_count": 10,
   "metadata": {},
   "outputs": [
    {
     "name": "stdout",
     "output_type": "stream",
     "text": [
      "it is a character\n"
     ]
    }
   ],
   "source": [
    "# wap in python to check given character that can be alphabet, digit, special character\n",
    "\n",
    "#  character from 97 to\n",
    "\n",
    "st = ord(input(\"Enter something: \"))\n",
    "\n",
    "\n",
    "if 48 <= st and st<= 57:\n",
    "    print('it is a digit')\n",
    "\n",
    "elif 65 <= st and st<= 90:\n",
    "    print('it is character')\n",
    "\n",
    "elif (97 <= st and st<= 122):\n",
    "    print('it is a character')\n",
    "\n",
    "else:\n",
    "    print('it is special character')\n"
   ]
  },
  {
   "cell_type": "code",
   "execution_count": 7,
   "metadata": {},
   "outputs": [
    {
     "ename": "TypeError",
     "evalue": "'<=' not supported between instances of 'str' and 'builtin_function_or_method'",
     "output_type": "error",
     "traceback": [
      "\u001b[1;31m---------------------------------------------------------------------------\u001b[0m",
      "\u001b[1;31mTypeError\u001b[0m                                 Traceback (most recent call last)",
      "Cell \u001b[1;32mIn [7], line 2\u001b[0m\n\u001b[0;32m      1\u001b[0m ch \u001b[39m=\u001b[39m \u001b[39minput\u001b[39m()\u001b[39m.\u001b[39mlower\n\u001b[1;32m----> 2\u001b[0m \u001b[39mif\u001b[39;00m \u001b[39m'\u001b[39m\u001b[39ma\u001b[39m\u001b[39m'\u001b[39m \u001b[39m<\u001b[39m\u001b[39m=\u001b[39m ch \u001b[39m<\u001b[39m\u001b[39m=\u001b[39m \u001b[39m'\u001b[39m\u001b[39mz\u001b[39m\u001b[39m'\u001b[39m:\n\u001b[0;32m      3\u001b[0m     \u001b[39mprint\u001b[39m(\u001b[39m'\u001b[39m\u001b[39mit is character\u001b[39m\u001b[39m'\u001b[39m)\n\u001b[0;32m      4\u001b[0m \u001b[39melif\u001b[39;00m \u001b[39m0\u001b[39m\u001b[39m<\u001b[39m\u001b[39m=\u001b[39m ch \u001b[39m<\u001b[39m\u001b[39m=\u001b[39m \u001b[39m9\u001b[39m:\n",
      "\u001b[1;31mTypeError\u001b[0m: '<=' not supported between instances of 'str' and 'builtin_function_or_method'"
     ]
    }
   ],
   "source": [
    "ch = input().lower\n",
    "if 'a' <= ch <= 'z':\n",
    "    print('it is character')\n",
    "elif '0'<= ch <= '9':\n",
    "    print('it is integer')\n",
    "else:\n",
    "    print('it is special character')"
   ]
  },
  {
   "cell_type": "code",
   "execution_count": 34,
   "metadata": {},
   "outputs": [
    {
     "name": "stdout",
     "output_type": "stream",
     "text": [
      "    hello world     \n"
     ]
    }
   ],
   "source": [
    "# 20 is the total character in the string\n",
    "\n",
    "st = 'hello world'\n",
    "out = st.center(20)\n",
    "print(out)"
   ]
  },
  {
   "cell_type": "code",
   "execution_count": 36,
   "metadata": {},
   "outputs": [
    {
     "name": "stdout",
     "output_type": "stream",
     "text": [
      "****hello world*****\n"
     ]
    }
   ],
   "source": [
    "st = 'hello world'\n",
    "out = st.center(20, \"*\")\n",
    "print(out)"
   ]
  },
  {
   "cell_type": "code",
   "execution_count": 2,
   "metadata": {},
   "outputs": [
    {
     "name": "stdout",
     "output_type": "stream",
     "text": [
      "hello world\n"
     ]
    }
   ],
   "source": [
    "# center only works if we give width of string more than the size of string.\n",
    "\n",
    "st = 'hello world'\n",
    "out = st.center(5)\n",
    "print(out)"
   ]
  },
  {
   "cell_type": "code",
   "execution_count": 38,
   "metadata": {},
   "outputs": [
    {
     "name": "stdout",
     "output_type": "stream",
     "text": [
      "*********hello world\n"
     ]
    }
   ],
   "source": [
    "# just is use when the given string is at right side and fill the character in left side.\n",
    "\n",
    "st = 'hello world'\n",
    "out = st.rjust(20, \"*\")\n",
    "print(out)"
   ]
  },
  {
   "cell_type": "code",
   "execution_count": 39,
   "metadata": {},
   "outputs": [
    {
     "name": "stdout",
     "output_type": "stream",
     "text": [
      "hello world*********\n"
     ]
    }
   ],
   "source": [
    "# just is use when the given string is at left side and fill the character in right side.\n",
    "\n",
    "st = 'hello world'\n",
    "out = st.ljust(20, \"*\")\n",
    "print(out)"
   ]
  },
  {
   "cell_type": "code",
   "execution_count": 41,
   "metadata": {},
   "outputs": [
    {
     "name": "stdout",
     "output_type": "stream",
     "text": [
      "000000000hello world\n"
     ]
    }
   ],
   "source": [
    "# zfill\n",
    "\n",
    "st = 'hello world'\n",
    "out = st.zfill(20)\n",
    "print(out)"
   ]
  },
  {
   "cell_type": "code",
   "execution_count": 43,
   "metadata": {},
   "outputs": [
    {
     "name": "stdout",
     "output_type": "stream",
     "text": [
      "+0000000-hello world\n"
     ]
    }
   ],
   "source": [
    "# zfill\n",
    "\n",
    "st = '+hello world'\n",
    "out = st.zfill(20)\n",
    "print(out)"
   ]
  },
  {
   "cell_type": "code",
   "execution_count": 45,
   "metadata": {},
   "outputs": [
    {
     "name": "stdout",
     "output_type": "stream",
     "text": [
      "+0000000/hello world\n"
     ]
    }
   ],
   "source": [
    "# zfill\n",
    "\n",
    "st = '+/hello world'\n",
    "out = st.zfill(20)\n",
    "print(out)"
   ]
  },
  {
   "cell_type": "code",
   "execution_count": 47,
   "metadata": {},
   "outputs": [
    {
     "name": "stdout",
     "output_type": "stream",
     "text": [
      "False\n"
     ]
    }
   ],
   "source": [
    "st = 'hello world'\n",
    "out = st.isupper()\n",
    "print(out)"
   ]
  },
  {
   "cell_type": "code",
   "execution_count": 48,
   "metadata": {},
   "outputs": [
    {
     "name": "stdout",
     "output_type": "stream",
     "text": [
      "True\n"
     ]
    }
   ],
   "source": [
    "st = 'hello world'\n",
    "out = st.islower()\n",
    "print(out)"
   ]
  },
  {
   "cell_type": "code",
   "execution_count": 49,
   "metadata": {},
   "outputs": [
    {
     "name": "stdout",
     "output_type": "stream",
     "text": [
      "False\n"
     ]
    }
   ],
   "source": [
    "st = 'hello world'\n",
    "out = st.isalpha()\n",
    "print(out)"
   ]
  },
  {
   "cell_type": "code",
   "execution_count": 52,
   "metadata": {},
   "outputs": [
    {
     "name": "stdout",
     "output_type": "stream",
     "text": [
      "True\n"
     ]
    }
   ],
   "source": [
    "st = \"6542\"\n",
    "out = st.isnumeric()\n",
    "print(out)"
   ]
  },
  {
   "cell_type": "code",
   "execution_count": 54,
   "metadata": {},
   "outputs": [
    {
     "name": "stdout",
     "output_type": "stream",
     "text": [
      "True\n"
     ]
    }
   ],
   "source": [
    "st = 'Hello World'\n",
    "out = st.istitle()\n",
    "print(out)"
   ]
  },
  {
   "cell_type": "code",
   "execution_count": 55,
   "metadata": {},
   "outputs": [
    {
     "name": "stdout",
     "output_type": "stream",
     "text": [
      "False\n"
     ]
    }
   ],
   "source": [
    "st = 'hello world'\n",
    "out = st.isalnum()\n",
    "print(out)"
   ]
  },
  {
   "cell_type": "code",
   "execution_count": 4,
   "metadata": {},
   "outputs": [],
   "source": [
    "#  name of the method in a string which returns integer only\n",
    "# count\n",
    "# index\n",
    "\n"
   ]
  },
  {
   "cell_type": "code",
   "execution_count": 8,
   "metadata": {},
   "outputs": [
    {
     "name": "stdout",
     "output_type": "stream",
     "text": [
      "3\n"
     ]
    }
   ],
   "source": [
    "st = 'hello world'\n",
    "out = st.count(\"l\")\n",
    "print(out)"
   ]
  },
  {
   "cell_type": "code",
   "execution_count": 9,
   "metadata": {},
   "outputs": [
    {
     "name": "stdout",
     "output_type": "stream",
     "text": [
      "1\n"
     ]
    }
   ],
   "source": [
    "# it will count from index 6 to 12\n",
    "\n",
    "st = 'hello python programming'\n",
    "\n",
    "out = st.count('o', 6, 12)\n",
    "print(out)"
   ]
  },
  {
   "cell_type": "code",
   "execution_count": 11,
   "metadata": {},
   "outputs": [
    {
     "name": "stdout",
     "output_type": "stream",
     "text": [
      "4\n"
     ]
    }
   ],
   "source": [
    "# index(): return the position of index of the first match\n",
    "\n",
    "st = 'hello world'\n",
    "\n",
    "out = st.index('o')\n",
    "print(out)"
   ]
  },
  {
   "cell_type": "code",
   "execution_count": 17,
   "metadata": {},
   "outputs": [
    {
     "name": "stdout",
     "output_type": "stream",
     "text": [
      "10\n"
     ]
    }
   ],
   "source": [
    "# will start conting of index from given index and give first occurance.\n",
    "\n",
    "st = 'hello python progarmming.'\n",
    "\n",
    "out = st.index('o', 6)\n",
    "print(out)"
   ]
  },
  {
   "cell_type": "code",
   "execution_count": 21,
   "metadata": {},
   "outputs": [
    {
     "name": "stdout",
     "output_type": "stream",
     "text": [
      "15\n"
     ]
    }
   ],
   "source": [
    "# rindex():\n",
    "\n",
    "st = 'hello python programming'\n",
    "out = st.rindex('o')\n",
    "print(out)"
   ]
  },
  {
   "cell_type": "code",
   "execution_count": 22,
   "metadata": {},
   "outputs": [
    {
     "name": "stdout",
     "output_type": "stream",
     "text": [
      "4\n"
     ]
    }
   ],
   "source": [
    "st = 'hello python programming'\n",
    "out = st.find('o')\n",
    "print(out)"
   ]
  },
  {
   "cell_type": "code",
   "execution_count": 23,
   "metadata": {},
   "outputs": [
    {
     "name": "stdout",
     "output_type": "stream",
     "text": [
      "-1\n"
     ]
    }
   ],
   "source": [
    "# if we dont find any index it will return -1\n",
    "\n",
    "st = 'hello python programming'\n",
    "out = st.find('z')\n",
    "print(out)"
   ]
  },
  {
   "cell_type": "code",
   "execution_count": 2,
   "metadata": {},
   "outputs": [
    {
     "name": "stdout",
     "output_type": "stream",
     "text": [
      "heLLO pYTHON pROGRAMMING\n"
     ]
    }
   ],
   "source": [
    "# swapcase() is use to convert all the upper case character in lower case and lower case character in upper case.\n",
    "\n",
    "st = 'HEllo Python Programming'\n",
    "out = st.swapcase()\n",
    "print(out)"
   ]
  },
  {
   "cell_type": "code",
   "execution_count": 5,
   "metadata": {},
   "outputs": [
    {
     "name": "stdout",
     "output_type": "stream",
     "text": [
      "[' ', ' ', 'E', 'H', 'P', 'P', 'a', 'g', 'g', 'h', 'i', 'l', 'l', 'm', 'm', 'n', 'n', 'o', 'o', 'o', 'r', 'r', 't', 'y']\n"
     ]
    }
   ],
   "source": [
    "# sorted() in string is use to convert all character of string in sorted order in form of list.\n",
    "\n",
    "st = 'HEllo Python Programming'\n",
    "out = sorted(st)\n",
    "print(out)"
   ]
  },
  {
   "cell_type": "code",
   "execution_count": 5,
   "metadata": {},
   "outputs": [],
   "source": [
    "my_str = input('Enter a string: ')\n",
    "a = my_str[0] * len(my_str)\n",
    "print(a)"
   ]
  }
 ],
 "metadata": {
  "kernelspec": {
   "display_name": "Python 3.10.7 64-bit",
   "language": "python",
   "name": "python3"
  },
  "language_info": {
   "codemirror_mode": {
    "name": "ipython",
    "version": 3
   },
   "file_extension": ".py",
   "mimetype": "text/x-python",
   "name": "python",
   "nbconvert_exporter": "python",
   "pygments_lexer": "ipython3",
   "version": "3.10.7"
  },
  "orig_nbformat": 4,
  "vscode": {
   "interpreter": {
    "hash": "30c9f151d170d064f054e7769e6cc33a781cb713a9712292b110ae53e4c3962f"
   }
  }
 },
 "nbformat": 4,
 "nbformat_minor": 2
}
