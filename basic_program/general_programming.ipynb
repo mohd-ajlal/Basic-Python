{
 "cells": [
  {
   "cell_type": "code",
   "execution_count": 1,
   "metadata": {},
   "outputs": [],
   "source": [
    "# sequential Programming\n",
    "# 1 Addition of two no\n",
    "# type of multiple type of output\n",
    "# using of eval"
   ]
  },
  {
   "cell_type": "code",
   "execution_count": 2,
   "metadata": {},
   "outputs": [
    {
     "name": "stdout",
     "output_type": "stream",
     "text": [
      "Sum of 50 and 20 is 70\n",
      "sum fo 50 and 20 is  70\n",
      "Sum of 50 and 20  is 70\n",
      "The sum of 50 and 20 is 70\n"
     ]
    }
   ],
   "source": [
    "# input section\n",
    "a = eval(input(\"Enter first no: \"))\n",
    "b = eval(input(\"Enter second no.: \"))\n",
    "\n",
    "# logical section\n",
    "sum = a + b\n",
    "# display section\n",
    "# type of output from multiple type\n",
    "tp = \"sum fo %d and %d is % d\"\n",
    "# or\n",
    "ab = \"sum of %d and %d is % d\"%(a, b, sum)\n",
    "# or\n",
    "format = \"Sum of {} and {} is {}\".format(a, b, sum)\n",
    "print(format)\n",
    "\n",
    "print(tp%(a, b, sum))\n",
    "# or\n",
    "print(\"Sum of\",a, 'and', b ,' is', sum)\n",
    "# or\n",
    "print(f\"The sum of {a} and {b} is {sum}\")\n"
   ]
  },
  {
   "cell_type": "code",
   "execution_count": 3,
   "metadata": {},
   "outputs": [],
   "source": [
    "# hypo\n",
    "\n",
    "base = eval(input())"
   ]
  },
  {
   "cell_type": "code",
   "execution_count": 4,
   "metadata": {},
   "outputs": [
    {
     "name": "stdout",
     "output_type": "stream",
     "text": [
      "12\n",
      "<class 'int'>\n"
     ]
    }
   ],
   "source": [
    "sum = eval('5 + 7')\n",
    "print(sum)\n",
    "print(type(sum))"
   ]
  },
  {
   "cell_type": "code",
   "execution_count": 5,
   "metadata": {},
   "outputs": [
    {
     "name": "stdout",
     "output_type": "stream",
     "text": [
      "10\n"
     ]
    }
   ],
   "source": [
    "# eval is use to remove single quote\n",
    "\n",
    "ks = 'hello'\n",
    "hello = 10\n",
    "out = hello\n",
    "print(out)"
   ]
  },
  {
   "cell_type": "code",
   "execution_count": 6,
   "metadata": {},
   "outputs": [
    {
     "name": "stdout",
     "output_type": "stream",
     "text": [
      "45 <class 'int'>\n"
     ]
    }
   ],
   "source": [
    "#standard input/output\n",
    "\n",
    "# input(prompt): use to get the data from user via keyboard\n",
    "\n",
    "# The default data type of function input is string\n",
    "\n",
    "data = eval(input())\n",
    "print(data, type(data))"
   ]
  },
  {
   "cell_type": "code",
   "execution_count": 7,
   "metadata": {},
   "outputs": [
    {
     "name": "stdout",
     "output_type": "stream",
     "text": [
      "39 <class 'int'>\n"
     ]
    }
   ],
   "source": [
    "a = '34 + 5'\n",
    "a = eval(a)\n",
    "print(a, type(a))"
   ]
  },
  {
   "cell_type": "code",
   "execution_count": 8,
   "metadata": {},
   "outputs": [
    {
     "data": {
      "text/plain": [
       "' print(data_format): Use to display the data on consule or on screen\\n'"
      ]
     },
     "execution_count": 8,
     "metadata": {},
     "output_type": "execute_result"
    }
   ],
   "source": [
    "# standard output\n",
    "''' print(data_format): Use to display the data on consule or on screen\n",
    "'''"
   ]
  },
  {
   "cell_type": "code",
   "execution_count": 9,
   "metadata": {},
   "outputs": [
    {
     "name": "stdout",
     "output_type": "stream",
     "text": [
      "value of a is 323\n"
     ]
    }
   ],
   "source": [
    "a = 323\n",
    "# st = 'value of a is %d'\n",
    "print(\"value of a is\", a)"
   ]
  },
  {
   "cell_type": "code",
   "execution_count": 2,
   "metadata": {},
   "outputs": [
    {
     "name": "stdout",
     "output_type": "stream",
     "text": [
      "sum of\t34\tand\t3\tis\t37\n"
     ]
    }
   ],
   "source": [
    "a = 34\n",
    "\n",
    "b= 3\n",
    "\n",
    "out = a + b\n",
    "print('sum of',a,'and', b, 'is', out, sep='\\t')"
   ]
  },
  {
   "cell_type": "code",
   "execution_count": 11,
   "metadata": {},
   "outputs": [
    {
     "name": "stdout",
     "output_type": "stream",
     "text": [
      "Sum of 34 and 3 is 37\n"
     ]
    }
   ],
   "source": [
    "# Using % format\n",
    "\n",
    "a = 34\n",
    "\n",
    "b= 3\n",
    "\n",
    "out = a + b\n",
    "\n",
    "tmp = 'Sum of %d and %d is %d'%(a, b, out)\n",
    "print(tmp) "
   ]
  },
  {
   "cell_type": "code",
   "execution_count": 12,
   "metadata": {},
   "outputs": [
    {
     "name": "stdout",
     "output_type": "stream",
     "text": [
      "Sum of 34 and 3 is 37\n"
     ]
    }
   ],
   "source": [
    "# Using method .format\n",
    "\n",
    "a = 34\n",
    "\n",
    "b= 3    \n",
    "\n",
    "out = a + b\n",
    "\n",
    "tmp = 'Sum of {} and {} is {}' .format(a, b, out) \n",
    "print(tmp) "
   ]
  },
  {
   "cell_type": "code",
   "execution_count": 13,
   "metadata": {},
   "outputs": [
    {
     "name": "stdout",
     "output_type": "stream",
     "text": [
      "Sum of 34 and 3 is 37\n"
     ]
    }
   ],
   "source": [
    "# Using f tag string\n",
    "\n",
    "a = 34\n",
    "\n",
    "b= 3    \n",
    "\n",
    "out = a + b\n",
    "\n",
    "tmp = f'Sum of {a} and {b} is {out}' \n",
    "print(tmp) "
   ]
  },
  {
   "cell_type": "code",
   "execution_count": 7,
   "metadata": {},
   "outputs": [
    {
     "name": "stdout",
     "output_type": "stream",
     "text": [
      "Hello\n",
      "python programming\n",
      "Hello*python programming\n"
     ]
    }
   ],
   "source": [
    "# there is end in all print statement and it contains \\n and we can also modify it\n",
    "\n",
    "# we use end and sep in print statement\n",
    "\n",
    "print(\"Hello\")\n",
    "print(\"python programming\") \n",
    "\n",
    "print(\"Hello\", end='*')\n",
    "print(\"python programming\")"
   ]
  },
  {
   "cell_type": "code",
   "execution_count": 3,
   "metadata": {},
   "outputs": [
    {
     "name": "stdout",
     "output_type": "stream",
     "text": [
      "a is 10, b is 20, c is 30\n"
     ]
    }
   ],
   "source": [
    "# Multiple inputs at a time\n",
    "\n",
    "a , b, c = map(int, input(\"Enter value:\").split())\n",
    "print(f\"a is {a}, b is {b}, c is {c}\")"
   ]
  },
  {
   "cell_type": "code",
   "execution_count": null,
   "metadata": {},
   "outputs": [],
   "source": [
    "# programming flow in\n",
    "'''\n",
    "1. sequential\n",
    "2. selection\n",
    "3. repetiton\n",
    "'''"
   ]
  },
  {
   "cell_type": "code",
   "execution_count": 12,
   "metadata": {},
   "outputs": [
    {
     "name": "stdout",
     "output_type": "stream",
     "text": [
      "start\n",
      "Stop\n"
     ]
    }
   ],
   "source": [
    "# python if statement example\n",
    "\n",
    "print(\"start\")\n",
    "a = 23\n",
    "if a % 2 == 0:\n",
    "    print(\"Even\")\n",
    "print(\"Stop\")"
   ]
  },
  {
   "cell_type": "code",
   "execution_count": 11,
   "metadata": {},
   "outputs": [
    {
     "name": "stdout",
     "output_type": "stream",
     "text": [
      "The number 24 is Even\n"
     ]
    }
   ],
   "source": [
    "# python if-else statement example\n",
    "\n",
    "a = int(input(\"Enter a number: \"))\n",
    "if a % 2 == 0:\n",
    "\n",
    "    print(f\"The number {a} is Even\")\n",
    "else:\n",
    "    print(f\"The number {a} is Odd\")"
   ]
  },
  {
   "cell_type": "code",
   "execution_count": 16,
   "metadata": {},
   "outputs": [
    {
     "name": "stdout",
     "output_type": "stream",
     "text": [
      "Number is negative\n"
     ]
    }
   ],
   "source": [
    "num = int(input(\"Enter a number: \"))\n",
    "\n",
    "if num > 0 :\n",
    "    print(\"Number is positive\")\n",
    "elif num  <0 :\n",
    "    print(\"Number is negative\")\n",
    "else :\n",
    "    print(\"Number is zero\")"
   ]
  },
  {
   "cell_type": "code",
   "execution_count": 3,
   "metadata": {},
   "outputs": [
    {
     "name": "stdout",
     "output_type": "stream",
     "text": [
      "22\n"
     ]
    }
   ],
   "source": [
    "a = 22\n",
    "b = 5\n",
    "out = a if a > b else b\n",
    "\n",
    "print(out)"
   ]
  },
  {
   "cell_type": "code",
   "execution_count": 5,
   "metadata": {},
   "outputs": [
    {
     "name": "stdout",
     "output_type": "stream",
     "text": [
      "0\n"
     ]
    }
   ],
   "source": [
    "a = -10\n",
    "b = -3\n",
    "out = a if a > b else 0 if b < 0 else b\n",
    "\n",
    "print(out)"
   ]
  },
  {
   "cell_type": "code",
   "execution_count": 8,
   "metadata": {},
   "outputs": [
    {
     "name": "stdout",
     "output_type": "stream",
     "text": [
      "<class 'str'>\n"
     ]
    }
   ],
   "source": [
    "a = input(\"enter something: \")\n",
    "print(type(a))"
   ]
  },
  {
   "cell_type": "code",
   "execution_count": 4,
   "metadata": {},
   "outputs": [
    {
     "name": "stdout",
     "output_type": "stream",
     "text": [
      "2\n"
     ]
    }
   ],
   "source": [
    "print(-7%3)"
   ]
  },
  {
   "cell_type": "code",
   "execution_count": 20,
   "metadata": {},
   "outputs": [
    {
     "name": "stdout",
     "output_type": "stream",
     "text": [
      "0\n",
      "-1\n",
      "-1\n",
      "-1\n",
      "-4\n",
      "-1\n",
      "-3\n",
      "-5\n",
      "-7\n",
      "-9\n",
      "0\n"
     ]
    }
   ],
   "source": [
    "print(11%-1)\n",
    "print(11%-2)\n",
    "print(11%-3)\n",
    "print(11%-4)\n",
    "print(11%-5)\n",
    "print(11%-6)\n",
    "print(11%-7)\n",
    "print(11%-8)\n",
    "print(11%-9)\n",
    "print(11%-10)\n",
    "print(11%-11)"
   ]
  },
  {
   "cell_type": "code",
   "execution_count": 28,
   "metadata": {},
   "outputs": [
    {
     "name": "stdout",
     "output_type": "stream",
     "text": [
      "Hello, World\n"
     ]
    }
   ],
   "source": [
    "print('Hello', end  = ', ')\n",
    "print('World')"
   ]
  },
  {
   "cell_type": "code",
   "execution_count": 29,
   "metadata": {},
   "outputs": [
    {
     "name": "stdout",
     "output_type": "stream",
     "text": [
      "a is not equal to b\n"
     ]
    }
   ],
   "source": [
    "a = 5\n",
    "\n",
    "b = 10\n",
    "\n",
    "if a == b:\n",
    "    print(\"a is equal to b\")\n",
    "\n",
    "else:\n",
    "    print(\"a is not equal to b\")"
   ]
  },
  {
   "cell_type": "code",
   "execution_count": 2,
   "metadata": {},
   "outputs": [
    {
     "name": "stdout",
     "output_type": "stream",
     "text": [
      "4\n"
     ]
    }
   ],
   "source": [
    "a = 1234\n",
    "n = str(a)\n",
    "print(len(n))\n"
   ]
  }
 ],
 "metadata": {
  "kernelspec": {
   "display_name": "Python 3.10.7 64-bit",
   "language": "python",
   "name": "python3"
  },
  "language_info": {
   "codemirror_mode": {
    "name": "ipython",
    "version": 3
   },
   "file_extension": ".py",
   "mimetype": "text/x-python",
   "name": "python",
   "nbconvert_exporter": "python",
   "pygments_lexer": "ipython3",
   "version": "3.10.7"
  },
  "orig_nbformat": 4,
  "vscode": {
   "interpreter": {
    "hash": "30c9f151d170d064f054e7769e6cc33a781cb713a9712292b110ae53e4c3962f"
   }
  }
 },
 "nbformat": 4,
 "nbformat_minor": 2
}
