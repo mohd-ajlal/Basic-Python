{
 "cells": [
  {
   "cell_type": "code",
   "execution_count": null,
   "metadata": {},
   "outputs": [],
   "source": [
    "# dictionary methods"
   ]
  },
  {
   "cell_type": "code",
   "execution_count": 2,
   "metadata": {},
   "outputs": [
    {
     "name": "stdout",
     "output_type": "stream",
     "text": [
      "John\n"
     ]
    }
   ],
   "source": [
    "# get() method\n",
    "# get() method returns the value of the item with the specified key.\n",
    "# If the key does not exist, get() returns None.\n",
    "# If you want to specify a default value to return if the key does not exist, use the second parameter of the get() method.\n",
    "# The syntax of get() method is:\n",
    "# dict.get(key, default_value)\n",
    "\n",
    "info = {'name': 'John', \n",
    "    'age': 25, \n",
    "    'batch': 'B.Tech', \n",
    "    'branch': 'CSE',\n",
    "    'specialization': 'AI'}\n",
    "\n",
    "print(info.get('name', 'Not Found'))"
   ]
  },
  {
   "cell_type": "code",
   "execution_count": 62,
   "metadata": {},
   "outputs": [
    {
     "name": "stdout",
     "output_type": "stream",
     "text": [
      "dict_values(['John', 25, 'B.Tech', 'CSE'])\n",
      "['John', 25, 'B.Tech', 'CSE']\n"
     ]
    }
   ],
   "source": [
    "# values() method\n",
    "# values() method returns a list of all the values in the dictionary.\n",
    "# The syntax of values() method is:\n",
    "# dict.values()\n",
    "\n",
    "info = {'name': 'John', \n",
    "    'age': 25, \n",
    "    'batch': 'B.Tech', \n",
    "    'branch': 'CSE'}\n",
    "\n",
    "out = info.values()\n",
    "print(out)\n",
    "\n",
    "print(list(out))"
   ]
  },
  {
   "cell_type": "code",
   "execution_count": 21,
   "metadata": {},
   "outputs": [
    {
     "name": "stdout",
     "output_type": "stream",
     "text": [
      "dict_keys(['name', 'age', 'batch', 'branch']) <class 'dict_keys'>\n",
      "['name', 'age', 'batch', 'branch']\n"
     ]
    }
   ],
   "source": [
    "# keys() method\n",
    "# keys() method returns a list of all the keys in the dictionary.\n",
    "# The syntax of keys() method is:\n",
    "# dict.keys()\n",
    "\n",
    "out = info.keys()\n",
    "print(out, type(out))\n",
    "print(list(out))"
   ]
  },
  {
   "cell_type": "code",
   "execution_count": 28,
   "metadata": {},
   "outputs": [
    {
     "name": "stdout",
     "output_type": "stream",
     "text": [
      "[(0, 'Zero'), (1, 'One'), (2, 'Two'), (3, 'Three'), (4, 'Four'), (5, 'Five')] <class 'list'>\n",
      "{0: 'Zero', 1: 'One', 2: 'Two', 3: 'Three', 4: 'Four', 5: 'Five'}\n"
     ]
    }
   ],
   "source": [
    "dct = [(0, 'Zero'), (1, 'One'), (2, 'Two'), (3, 'Three'), (4, 'Four'), (5, 'Five') ]\n",
    "print(dct, type(dct))\n",
    "print(dict(dct))"
   ]
  },
  {
   "cell_type": "code",
   "execution_count": 41,
   "metadata": {},
   "outputs": [
    {
     "name": "stdout",
     "output_type": "stream",
     "text": [
      "[(0, 'Zero'), (1, 'One'), (2, 'Two'), (3, 'Three'), (4, 'Four'), (5, 'Five'), 'ab'] <class 'list'>\n",
      "{0: 'Zero', 1: 'One', 2: 'Two', 3: 'Three', 4: 'Four', 5: 'Five', 'a': 'b'}\n"
     ]
    }
   ],
   "source": [
    "dct = [(0, 'Zero'), (1, 'One'), (2, 'Two'), (3, 'Three'), (4, 'Four'), (5, 'Five') , 'ab']\n",
    "print(dct, type(dct))\n",
    "print(dict(dct))"
   ]
  },
  {
   "cell_type": "code",
   "execution_count": 2,
   "metadata": {},
   "outputs": [
    {
     "name": "stdout",
     "output_type": "stream",
     "text": [
      "Three\n"
     ]
    }
   ],
   "source": [
    "dm = {0: 'Zero', 1: 'One', 2: 'Two', 3: 'Three', 4: 'Four', 5: 'Five', 'a': 'b'}\n",
    "\n",
    "i = 3\n",
    "print(dm[i])"
   ]
  },
  {
   "cell_type": "code",
   "execution_count": 55,
   "metadata": {},
   "outputs": [
    {
     "ename": "KeyError",
     "evalue": "'2'",
     "output_type": "error",
     "traceback": [
      "\u001b[1;31m---------------------------------------------------------------------------\u001b[0m",
      "\u001b[1;31mKeyError\u001b[0m                                  Traceback (most recent call last)",
      "Cell \u001b[1;32mIn [55], line 4\u001b[0m\n\u001b[0;32m      2\u001b[0m num \u001b[39m=\u001b[39m \u001b[39m2\u001b[39m\n\u001b[0;32m      3\u001b[0m \u001b[39mfor\u001b[39;00m i \u001b[39min\u001b[39;00m \u001b[39mstr\u001b[39m(num):\n\u001b[1;32m----> 4\u001b[0m     \u001b[39mprint\u001b[39m(dm[i], end\u001b[39m=\u001b[39m\u001b[39m'\u001b[39m\u001b[39m \u001b[39m\u001b[39m'\u001b[39m)\n",
      "\u001b[1;31mKeyError\u001b[0m: '2'"
     ]
    }
   ],
   "source": [
    "dm = {0: 'Zero', 1: 'One', 2: 'Two', 3: 'Three', 4: 'Four', 5: 'Five'}\n",
    "num = 2\n",
    "for i in str(num):\n",
    "    print(dm[i], end=' ')"
   ]
  },
  {
   "cell_type": "code",
   "execution_count": 51,
   "metadata": {},
   "outputs": [
    {
     "name": "stdout",
     "output_type": "stream",
     "text": [
      "Two Two One One Three Three "
     ]
    }
   ],
   "source": [
    "dm = {0: 'Zero', 1: 'One', 2: 'Two', 3: 'Three', 4: 'Four', 5: 'Five'}\n",
    "num = int(input('Enter a number: '))\n",
    "for i in str(num):\n",
    "    print(dm.get(int(i)), end=' ')"
   ]
  },
  {
   "cell_type": "code",
   "execution_count": 56,
   "metadata": {},
   "outputs": [
    {
     "name": "stdout",
     "output_type": "stream",
     "text": [
      "[(0, 'Zero'), (1, 'One'), (2, 'Two'), (3, 'Three'), (4, 'Four'), (5, 'Five'), 'abc'] <class 'list'>\n"
     ]
    },
    {
     "ename": "ValueError",
     "evalue": "dictionary update sequence element #6 has length 3; 2 is required",
     "output_type": "error",
     "traceback": [
      "\u001b[1;31m---------------------------------------------------------------------------\u001b[0m",
      "\u001b[1;31mValueError\u001b[0m                                Traceback (most recent call last)",
      "Cell \u001b[1;32mIn [56], line 3\u001b[0m\n\u001b[0;32m      1\u001b[0m dct \u001b[39m=\u001b[39m [(\u001b[39m0\u001b[39m, \u001b[39m'\u001b[39m\u001b[39mZero\u001b[39m\u001b[39m'\u001b[39m), (\u001b[39m1\u001b[39m, \u001b[39m'\u001b[39m\u001b[39mOne\u001b[39m\u001b[39m'\u001b[39m), (\u001b[39m2\u001b[39m, \u001b[39m'\u001b[39m\u001b[39mTwo\u001b[39m\u001b[39m'\u001b[39m), (\u001b[39m3\u001b[39m, \u001b[39m'\u001b[39m\u001b[39mThree\u001b[39m\u001b[39m'\u001b[39m), (\u001b[39m4\u001b[39m, \u001b[39m'\u001b[39m\u001b[39mFour\u001b[39m\u001b[39m'\u001b[39m), (\u001b[39m5\u001b[39m, \u001b[39m'\u001b[39m\u001b[39mFive\u001b[39m\u001b[39m'\u001b[39m) , \u001b[39m'\u001b[39m\u001b[39mabc\u001b[39m\u001b[39m'\u001b[39m]\n\u001b[0;32m      2\u001b[0m \u001b[39mprint\u001b[39m(dct, \u001b[39mtype\u001b[39m(dct))\n\u001b[1;32m----> 3\u001b[0m \u001b[39mprint\u001b[39m(\u001b[39mdict\u001b[39;49m(dct))\n",
      "\u001b[1;31mValueError\u001b[0m: dictionary update sequence element #6 has length 3; 2 is required"
     ]
    }
   ],
   "source": [
    "dct = [(0, 'Zero'), (1, 'One'), (2, 'Two'), (3, 'Three'), (4, 'Four'), (5, 'Five') , 'abc']\n",
    "print(dct, type(dct))\n",
    "print(dict(dct))"
   ]
  },
  {
   "cell_type": "code",
   "execution_count": 35,
   "metadata": {},
   "outputs": [
    {
     "name": "stdout",
     "output_type": "stream",
     "text": [
      "dict_items([('name', 'John'), ('age', 25), ('batch', 'B.Tech'), ('branch', 'CSE')])\n"
     ]
    }
   ],
   "source": [
    "# items() method\n",
    "# items() method returns a list containing a tuple for each key value pair.\n",
    "# The syntax of items() method is:\n",
    "# dict.items()\n",
    "\n",
    "print(info.items())"
   ]
  },
  {
   "cell_type": "code",
   "execution_count": 70,
   "metadata": {},
   "outputs": [
    {
     "name": "stdout",
     "output_type": "stream",
     "text": [
      "Before:  {'name': 'John', 'age': 25, 'batch': 'B.Tech', 'branch': 'CSE'}\n",
      "After:  {}\n"
     ]
    }
   ],
   "source": [
    "# clear() method\n",
    "# clear() method removes all the items from the dictionary.\n",
    "# The syntax of clear() method is:\n",
    "# dict.clear()\n",
    "info = {'name': 'John', \n",
    "    'age': 25, \n",
    "    'batch': 'B.Tech', \n",
    "    'branch': 'CSE'}\n",
    "print('Before: ', info)\n",
    "info.clear()\n",
    "print('After: ',info)"
   ]
  },
  {
   "cell_type": "code",
   "execution_count": 73,
   "metadata": {},
   "outputs": [
    {
     "name": "stdout",
     "output_type": "stream",
     "text": [
      "Deleted Value:  B.Tech\n",
      "{'name': 'John', 'age': 25, 'branch': 'CSE'}\n"
     ]
    }
   ],
   "source": [
    "# pop() method\n",
    "# pop() method removes the item with the specified key name.\n",
    "# The pop() method returns the value of the item that is removed.\n",
    "# The syntax of pop() method is:\n",
    "# dict.pop(key)\n",
    "info = {'name': 'John', \n",
    "    'age': 25, \n",
    "    'batch': 'B.Tech', \n",
    "    'branch': 'CSE'}\n",
    "out = info.pop('batch')\n",
    "print(\"Deleted Value: \", out)\n",
    "print(info)"
   ]
  },
  {
   "cell_type": "code",
   "execution_count": 75,
   "metadata": {},
   "outputs": [
    {
     "ename": "KeyError",
     "evalue": "'Address'",
     "output_type": "error",
     "traceback": [
      "\u001b[1;31m---------------------------------------------------------------------------\u001b[0m",
      "\u001b[1;31mKeyError\u001b[0m                                  Traceback (most recent call last)",
      "Cell \u001b[1;32mIn [75], line 5\u001b[0m\n\u001b[0;32m      1\u001b[0m info \u001b[39m=\u001b[39m {\u001b[39m'\u001b[39m\u001b[39mname\u001b[39m\u001b[39m'\u001b[39m: \u001b[39m'\u001b[39m\u001b[39mJohn\u001b[39m\u001b[39m'\u001b[39m, \n\u001b[0;32m      2\u001b[0m     \u001b[39m'\u001b[39m\u001b[39mage\u001b[39m\u001b[39m'\u001b[39m: \u001b[39m25\u001b[39m, \n\u001b[0;32m      3\u001b[0m     \u001b[39m'\u001b[39m\u001b[39mbatch\u001b[39m\u001b[39m'\u001b[39m: \u001b[39m'\u001b[39m\u001b[39mB.Tech\u001b[39m\u001b[39m'\u001b[39m, \n\u001b[0;32m      4\u001b[0m     \u001b[39m'\u001b[39m\u001b[39mbranch\u001b[39m\u001b[39m'\u001b[39m: \u001b[39m'\u001b[39m\u001b[39mCSE\u001b[39m\u001b[39m'\u001b[39m}\n\u001b[1;32m----> 5\u001b[0m out \u001b[39m=\u001b[39m info\u001b[39m.\u001b[39;49mpop(\u001b[39m'\u001b[39;49m\u001b[39mAddress\u001b[39;49m\u001b[39m'\u001b[39;49m)\n\u001b[0;32m      6\u001b[0m \u001b[39mprint\u001b[39m(\u001b[39m\"\u001b[39m\u001b[39mDeleted Value: \u001b[39m\u001b[39m\"\u001b[39m, out)\n\u001b[0;32m      7\u001b[0m \u001b[39mprint\u001b[39m(info)\n",
      "\u001b[1;31mKeyError\u001b[0m: 'Address'"
     ]
    }
   ],
   "source": [
    "info = {'name': 'John', \n",
    "    'age': 25, \n",
    "    'batch': 'B.Tech', \n",
    "    'branch': 'CSE'}\n",
    "out = info.pop('Address')\n",
    "print(\"Deleted Value: \", out)\n",
    "print(info)"
   ]
  },
  {
   "cell_type": "code",
   "execution_count": 76,
   "metadata": {},
   "outputs": [
    {
     "name": "stdout",
     "output_type": "stream",
     "text": [
      "Deleted Value:  Not Found\n",
      "{'name': 'John', 'age': 25, 'batch': 'B.Tech', 'branch': 'CSE'}\n"
     ]
    }
   ],
   "source": [
    "# if key is not present in dictionary then it will throw an error\n",
    "# to avoid this error we can use pop() method with second parameter\n",
    "# pop(key, default_value)\n",
    "\n",
    "info = {'name': 'John', \n",
    "    'age': 25, \n",
    "    'batch': 'B.Tech', \n",
    "    'branch': 'CSE'}\n",
    "out = info.pop('Address', 'Not Found')\n",
    "print(\"Deleted Value: \", out)\n",
    "print(info)"
   ]
  },
  {
   "cell_type": "code",
   "execution_count": 88,
   "metadata": {},
   "outputs": [
    {
     "name": "stdout",
     "output_type": "stream",
     "text": [
      "Deleted Value:  ('branch', 'CSE')\n",
      "{'name': 'John', 'age': 25, 'batch': 'B.Tech'}\n"
     ]
    }
   ],
   "source": [
    "# popitem() method\n",
    "# popitem() method removes the last inserted item.\n",
    "# The syntax of popitem() method is:\n",
    "# dict.popitem()\n",
    "\n",
    "\n",
    "info = {'name': 'John', \n",
    "    'age': 25, \n",
    "    'batch': 'B.Tech', \n",
    "    'branch': 'CSE'}\n",
    "out = info.popitem()\n",
    "print(\"Deleted Value: \", out)\n",
    "print(info)"
   ]
  },
  {
   "cell_type": "code",
   "execution_count": 94,
   "metadata": {},
   "outputs": [
    {
     "name": "stdout",
     "output_type": "stream",
     "text": [
      "{'name': 'Ajlal', 'age': 19, 'batch': 'B.Tech', 'branch': 'CSE'}\n"
     ]
    }
   ],
   "source": [
    "# update() method\n",
    "# update() method updates the dictionary with the items from the given argument.\n",
    "# The syntax of update() method is:\n",
    "# dict.update(dict2)\n",
    "info = {'name': 'John', \n",
    "    'age': 25, \n",
    "    'batch': 'B.Tech', \n",
    "    'branch': 'CSE'}\n",
    "\n",
    "info.update({'name': 'Ajlal', 'age': 19})\n",
    "print(info)"
   ]
  },
  {
   "cell_type": "code",
   "execution_count": 95,
   "metadata": {},
   "outputs": [
    {
     "name": "stdout",
     "output_type": "stream",
     "text": [
      "{'name': 'Not Found', 'age': 'Not Found', 'batch': 'Not Found', 'branch': 'Not Found'}\n"
     ]
    }
   ],
   "source": [
    "# fromkeys() method\n",
    "# fromkeys() method returns a dictionary with the specified keys and value.\n",
    "# The syntax of fromkeys() method is:\n",
    "# dict.fromkeys(keys, value)\n",
    "keys = ['name', 'age', 'batch', 'branch']\n",
    "info = dict.fromkeys(keys, 'Not Found')\n",
    "print(info)"
   ]
  },
  {
   "cell_type": "code",
   "execution_count": 96,
   "metadata": {},
   "outputs": [
    {
     "name": "stdout",
     "output_type": "stream",
     "text": [
      "John\n",
      "{'name': 'John', 'age': 25, 'batch': 'B.Tech', 'branch': 'CSE'}\n"
     ]
    }
   ],
   "source": [
    "# setdefault() method\n",
    "# setdefault() method returns the value of the item with the specified key.\n",
    "# If the key does not exist, insert the key, with the specified value.\n",
    "# The syntax of setdefault() method is:\n",
    "# dict.setdefault(key, value)\n",
    "info = {'name': 'John', \n",
    "    'age': 25, \n",
    "    'batch': 'B.Tech', \n",
    "    'branch': 'CSE'}\n",
    "\n",
    "out = info.setdefault('name', 'Not Found')\n",
    "print(out)\n",
    "print(info)"
   ]
  },
  {
   "cell_type": "code",
   "execution_count": 97,
   "metadata": {},
   "outputs": [
    {
     "name": "stdout",
     "output_type": "stream",
     "text": [
      "Not Found\n",
      "{'name': 'John', 'age': 25, 'batch': 'B.Tech', 'branch': 'CSE', 'Adress': 'Not Found'}\n"
     ]
    }
   ],
   "source": [
    "info = {'name': 'John', \n",
    "    'age': 25, \n",
    "    'batch': 'B.Tech', \n",
    "    'branch': 'CSE'}\n",
    "\n",
    "out = info.setdefault('Adress', 'Not Found')\n",
    "print(out)\n",
    "print(info)"
   ]
  },
  {
   "cell_type": "code",
   "execution_count": 3,
   "metadata": {},
   "outputs": [
    {
     "data": {
      "text/plain": [
       "'\\nerrpr in python:\\n1. syntax error\\n2. logical error\\n3. exception error\\n'"
      ]
     },
     "execution_count": 3,
     "metadata": {},
     "output_type": "execute_result"
    }
   ],
   "source": [
    "# exception handling\n",
    "\n",
    "'''\n",
    "errpr in python:\n",
    "1. syntax error\n",
    "2. logical error\n",
    "3. exception error\n",
    "'''"
   ]
  },
  {
   "cell_type": "code",
   "execution_count": null,
   "metadata": {},
   "outputs": [],
   "source": [
    "# exception handling\n",
    "'''\n",
    "1. ArithmeticError\n",
    "2. ZeroDivisionError\n",
    "3. ValueError\n",
    "4. keyError\n",
    "5. IndexError\n",
    "6. TypeError\n",
    "7. NameError\n",
    "8. FileNotFoundError\n",
    "'''"
   ]
  },
  {
   "cell_type": "code",
   "execution_count": null,
   "metadata": {},
   "outputs": [],
   "source": [
    "# some builtin functions\n",
    "\n",
    "'''\n",
    "1. input()\n",
    "2. print()\n",
    "3. len()\n",
    "4. max()\n",
    "5. sorted()\n",
    "6. list()\n",
    "7. dict()\n",
    "8. set()\n",
    "9. tuple()\n",
    "10. int()\n",
    "11. str()\n",
    "12. float()\n",
    "13. bool()\n",
    "14. range()\n",
    "'''"
   ]
  },
  {
   "cell_type": "code",
   "execution_count": 16,
   "metadata": {},
   "outputs": [
    {
     "name": "stdout",
     "output_type": "stream",
     "text": [
      "True\n"
     ]
    }
   ],
   "source": [
    "a = 10\n",
    "print(bool(-1))"
   ]
  },
  {
   "cell_type": "code",
   "execution_count": null,
   "metadata": {},
   "outputs": [],
   "source": [
    "# list comprehension is a consine way to create a list\n",
    "# syntax: [expression for item in iterable if condition == True]\n",
    "\n",
    "# dictionary comprehension is a consine and elegant way to create a dictionary\n",
    "# syntax: {key: value for (key, value) in iterable}\n"
   ]
  },
  {
   "cell_type": "code",
   "execution_count": 23,
   "metadata": {},
   "outputs": [
    {
     "name": "stdout",
     "output_type": "stream",
     "text": [
      "-1\n"
     ]
    }
   ],
   "source": [
    "st = 'ajlal'\n",
    "print(st.rfind('q'))"
   ]
  }
 ],
 "metadata": {
  "kernelspec": {
   "display_name": "Python 3",
   "language": "python",
   "name": "python3"
  },
  "language_info": {
   "codemirror_mode": {
    "name": "ipython",
    "version": 3
   },
   "file_extension": ".py",
   "mimetype": "text/x-python",
   "name": "python",
   "nbconvert_exporter": "python",
   "pygments_lexer": "ipython3",
   "version": "3.10.7"
  },
  "orig_nbformat": 4,
  "vscode": {
   "interpreter": {
    "hash": "30c9f151d170d064f054e7769e6cc33a781cb713a9712292b110ae53e4c3962f"
   }
  }
 },
 "nbformat": 4,
 "nbformat_minor": 2
}
