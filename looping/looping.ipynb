{
 "cells": [
  {
   "cell_type": "code",
   "execution_count": 4,
   "metadata": {},
   "outputs": [
    {
     "name": "stdout",
     "output_type": "stream",
     "text": [
      "Hello\n",
      "Hello\n",
      "Hello\n",
      "Hello\n",
      "Hello\n",
      "Hello\n",
      "Hello\n",
      "Hello\n",
      "Hello\n",
      "Hello\n"
     ]
    }
   ],
   "source": [
    "seq = '1234567890'\n",
    "for i in seq:\n",
    "    print('Hello')"
   ]
  },
  {
   "cell_type": "code",
   "execution_count": 5,
   "metadata": {},
   "outputs": [
    {
     "name": "stdout",
     "output_type": "stream",
     "text": [
      "Hello\n",
      "Hello\n",
      "Hello\n"
     ]
    }
   ],
   "source": [
    "seq = [12 ,32,13]\n",
    "for i in seq:\n",
    "    print('Hello')"
   ]
  },
  {
   "cell_type": "code",
   "execution_count": 6,
   "metadata": {},
   "outputs": [
    {
     "name": "stdout",
     "output_type": "stream",
     "text": [
      "566\n"
     ]
    }
   ],
   "source": [
    "# sum of the array\n",
    "\n",
    "seq = [5, 23, 123, 123, 23, 123, 23, 123]\n",
    "\n",
    "s = 0\n",
    "\n",
    "for i in seq:\n",
    "    s += i\n",
    "\n",
    "print(s)"
   ]
  },
  {
   "cell_type": "code",
   "execution_count": 10,
   "metadata": {},
   "outputs": [
    {
     "name": "stdout",
     "output_type": "stream",
     "text": [
      "[0, 1, 2, 3, 4, 5, 6, 7, 8, 9]\n"
     ]
    }
   ],
   "source": [
    "# function range\n",
    "# range(start,stop,step)\n",
    "\n",
    "out = range(10)\n",
    "print(list(out))"
   ]
  },
  {
   "cell_type": "code",
   "execution_count": null,
   "metadata": {},
   "outputs": [],
   "source": [
    "# function range\n",
    "# range(start,stop,step)\n",
    "\n",
    "out = range(1, 5)\n",
    "print(list(out))"
   ]
  },
  {
   "cell_type": "code",
   "execution_count": null,
   "metadata": {},
   "outputs": [],
   "source": [
    "# function range\n",
    "# range(start,stop,step)\n",
    "\n",
    "out = range(1, 5, 2)\n",
    "print(list(out))"
   ]
  },
  {
   "cell_type": "code",
   "execution_count": 12,
   "metadata": {},
   "outputs": [
    {
     "name": "stdout",
     "output_type": "stream",
     "text": [
      "[]\n"
     ]
    }
   ],
   "source": [
    "# function range\n",
    "# range(start,stop,step)\n",
    "\n",
    "out = range(10, 5)\n",
    "print(list(out))"
   ]
  },
  {
   "cell_type": "code",
   "execution_count": 11,
   "metadata": {},
   "outputs": [
    {
     "name": "stdout",
     "output_type": "stream",
     "text": [
      "[-10, -9, -8, -7, -6]\n"
     ]
    }
   ],
   "source": [
    "# function range\n",
    "# range(start,stop,step)\n",
    "\n",
    "out = range(-10, -5)\n",
    "print(list(out))"
   ]
  },
  {
   "cell_type": "code",
   "execution_count": 13,
   "metadata": {},
   "outputs": [
    {
     "name": "stdout",
     "output_type": "stream",
     "text": [
      "[1]\n"
     ]
    }
   ],
   "source": [
    "# function range\n",
    "# range(start,stop,step)\n",
    "\n",
    "out = range(1, 5, 100)\n",
    "print(list(out))"
   ]
  },
  {
   "cell_type": "code",
   "execution_count": 14,
   "metadata": {},
   "outputs": [
    {
     "name": "stdout",
     "output_type": "stream",
     "text": [
      "[5, 4, 3, 2]\n"
     ]
    }
   ],
   "source": [
    "# function range\n",
    "# range(start,stop,step)\n",
    "\n",
    "out = range(5, 1, -1)\n",
    "print(list(out))"
   ]
  },
  {
   "cell_type": "code",
   "execution_count": 22,
   "metadata": {},
   "outputs": [
    {
     "name": "stdout",
     "output_type": "stream",
     "text": [
      "15\n"
     ]
    }
   ],
   "source": [
    "# wap to find natural sum\n",
    "\n",
    "num = 5\n",
    "s = 0\n",
    "for i in range(1, num + 1):\n",
    "    s += i\n",
    "print(s)"
   ]
  },
  {
   "cell_type": "code",
   "execution_count": 23,
   "metadata": {},
   "outputs": [
    {
     "name": "stdout",
     "output_type": "stream",
     "text": [
      "120\n"
     ]
    }
   ],
   "source": [
    "# wap to find factorial\n",
    "\n",
    "num = 5\n",
    "s = 1\n",
    "for i in range(1, num + 1):\n",
    "    s *= i\n",
    "print(s)"
   ]
  },
  {
   "cell_type": "code",
   "execution_count": 2,
   "metadata": {},
   "outputs": [
    {
     "name": "stdout",
     "output_type": "stream",
     "text": [
      "1 2 3 4 6 12 "
     ]
    }
   ],
   "source": [
    "# wap in python to find factor of given number\n",
    "\n",
    "num =  12\n",
    "for i in range(1, num+1):\n",
    "    if num %i == 0:\n",
    "        print(i, end=' ')"
   ]
  },
  {
   "cell_type": "code",
   "execution_count": 4,
   "metadata": {},
   "outputs": [
    {
     "name": "stdout",
     "output_type": "stream",
     "text": [
      "2\n"
     ]
    }
   ],
   "source": [
    "# wap in python to find the how many divisor of a number\n",
    "\n",
    "num =  19\n",
    "k = 0\n",
    "for i in range(1, num+1):\n",
    "    if num %i == 0:\n",
    "        k += 1\n",
    "print(k)"
   ]
  },
  {
   "cell_type": "code",
   "execution_count": 5,
   "metadata": {},
   "outputs": [
    {
     "name": "stdout",
     "output_type": "stream",
     "text": [
      "It is a prime number\n"
     ]
    }
   ],
   "source": [
    "# wap in python to find prime no. of given no.\n",
    "\n",
    "\n",
    "num =  19\n",
    "k = 0\n",
    "for i in range(1, num+1):\n",
    "    if num %i == 0:\n",
    "        k += 1\n",
    "if k == 2:\n",
    "    print(\"It is a prime number\")\n",
    "else:\n",
    "    print(\"It is not a prime number\")"
   ]
  },
  {
   "cell_type": "code",
   "execution_count": 20,
   "metadata": {},
   "outputs": [
    {
     "name": "stdout",
     "output_type": "stream",
     "text": [
      "20\n"
     ]
    }
   ],
   "source": [
    "# wap in python to find addition of all the divisor\n",
    "\n",
    "num =  19\n",
    "s = 0\n",
    "for i in range(1, num+1):\n",
    "    if num %i == 0:\n",
    "        s+=i\n",
    "\n",
    "print(s)\n",
    "\n"
   ]
  },
  {
   "cell_type": "code",
   "execution_count": 21,
   "metadata": {},
   "outputs": [
    {
     "name": "stdout",
     "output_type": "stream",
     "text": [
      "1\n"
     ]
    }
   ],
   "source": [
    "# wap in python to find addition of all the divisor excluding itself\n",
    "\n",
    "num =  19\n",
    "s = 0\n",
    "for i in range(1, num):\n",
    "    if num %i == 0:\n",
    "        s+=i\n",
    "\n",
    "print(s)"
   ]
  },
  {
   "cell_type": "code",
   "execution_count": 24,
   "metadata": {},
   "outputs": [
    {
     "name": "stdout",
     "output_type": "stream",
     "text": [
      "It is a perfect no.\n"
     ]
    }
   ],
   "source": [
    "# wap in python to find whether a no. is perfect or not.\n",
    "# what is a perfect No.?\n",
    "# a no which is equal to the sum of divisor\n",
    "\n",
    "num =  6\n",
    "s = 0\n",
    "for i in range(1, num):\n",
    "    if num %i == 0:\n",
    "        s+=i\n",
    "if num == s:\n",
    "    print(\"It is a perfect no.\")\n",
    "else:\n",
    "    print(\"It is not a perfect no.\")"
   ]
  },
  {
   "cell_type": "code",
   "execution_count": 6,
   "metadata": {},
   "outputs": [
    {
     "name": "stdout",
     "output_type": "stream",
     "text": [
      "7\n"
     ]
    }
   ],
   "source": [
    "# while loop\n",
    "\n",
    "# wap in python to count no. of digit in a given no.\n",
    "\n",
    "num = 3456789\n",
    "count  = 0\n",
    "while num != 0:\n",
    "    num //=10\n",
    "    count+=1\n",
    "\n",
    "print(count)\n"
   ]
  },
  {
   "cell_type": "code",
   "execution_count": 2,
   "metadata": {},
   "outputs": [
    {
     "name": "stdout",
     "output_type": "stream",
     "text": [
      "356"
     ]
    }
   ],
   "source": [
    "# wap in python to reverse the digit of the given no. by displaying the last no.\n",
    "\n",
    "num = int(input(\"enter a no: \"))\n",
    "\n",
    "while num!=0:\n",
    "    ld = num % 10\n",
    "    num //=10\n",
    "    print(s, end = \"\")\n"
   ]
  },
  {
   "cell_type": "code",
   "execution_count": 14,
   "metadata": {},
   "outputs": [
    {
     "name": "stdout",
     "output_type": "stream",
     "text": [
      "321\n"
     ]
    }
   ],
   "source": [
    "# wap in python to reverse the digit of the given no.\n",
    "\n",
    "num = int(input(\"enter a no: \"))\n",
    "rev = 0\n",
    "while num!=0:\n",
    "    ld = num % 10\n",
    "    num //=10\n",
    "    rev = rev * 10 + ld\n",
    "print(rev)"
   ]
  },
  {
   "cell_type": "code",
   "execution_count": 21,
   "metadata": {},
   "outputs": [
    {
     "name": "stdout",
     "output_type": "stream",
     "text": [
      "It is palindrome\n"
     ]
    }
   ],
   "source": [
    "# wap in python to check given no. is palindrome or not\n",
    "\n",
    "# palindrome is a no. when number and it reverse is same\n",
    "\n",
    "num = int(input(\"enter a no: \"))\n",
    "number = num\n",
    "rev = 0\n",
    "while num!=0:\n",
    "    ld = num % 10\n",
    "    num //=10\n",
    "    rev = rev * 10 + ld\n",
    "if rev == number:\n",
    "    print(\"It is palindrome\")\n",
    "else:\n",
    "    print(\"No. is not palindrome\")"
   ]
  },
  {
   "cell_type": "code",
   "execution_count": 40,
   "metadata": {},
   "outputs": [
    {
     "name": "stdout",
     "output_type": "stream",
     "text": [
      "No. is not armstrong no.\n"
     ]
    }
   ],
   "source": [
    "# WAP in python to find armstrong no.\n",
    "\n",
    "# 153 = 1**3 + 5**3 + 3**3\n",
    "\n",
    "num = int(input(\"enter a no: \"))\n",
    "number = num\n",
    "a = 0\n",
    "while num!=0:\n",
    "    ld = num % 10\n",
    "    num //=10\n",
    "    abc = ld**3\n",
    "    a = a + abc\n",
    "if number == a:\n",
    "    print(\"It is armstrong no.\")\n",
    "else:\n",
    "    print(\"No. is not armstrong no.\")"
   ]
  },
  {
   "cell_type": "code",
   "execution_count": 25,
   "metadata": {},
   "outputs": [
    {
     "name": "stdout",
     "output_type": "stream",
     "text": [
      "2\n"
     ]
    }
   ],
   "source": [
    "# break/continue\n",
    "\n",
    "seq = [2, 4, 5]\n",
    "for i in seq:\n",
    "    print(i)\n",
    "    break"
   ]
  },
  {
   "cell_type": "code",
   "execution_count": 32,
   "metadata": {},
   "outputs": [
    {
     "name": "stdout",
     "output_type": "stream",
     "text": [
      "2\n",
      "4\n",
      "50\n",
      "Else block\n"
     ]
    }
   ],
   "source": [
    "seq = [2, 4, 50]\n",
    "for i in seq:\n",
    "    print(i)\n",
    "    if i ==5:\n",
    "        break\n",
    "else:\n",
    "        print('Else block')"
   ]
  },
  {
   "cell_type": "code",
   "execution_count": 1,
   "metadata": {},
   "outputs": [
    {
     "name": "stdout",
     "output_type": "stream",
     "text": [
      "0 1 2 3 4 5 6 7 8 9 \n",
      "Loop Completed\n"
     ]
    }
   ],
   "source": [
    "\n",
    "\n",
    "# else part of for loop\n",
    "for i in range(10):\n",
    "    if i > 50:\n",
    "        break\n",
    "    print(i, end=' ')\n",
    "else:\n",
    "    print('\\nLoop Completed')    \n",
    "\n"
   ]
  }
 ],
 "metadata": {
  "kernelspec": {
   "display_name": "Python 3.10.7 64-bit",
   "language": "python",
   "name": "python3"
  },
  "language_info": {
   "codemirror_mode": {
    "name": "ipython",
    "version": 3
   },
   "file_extension": ".py",
   "mimetype": "text/x-python",
   "name": "python",
   "nbconvert_exporter": "python",
   "pygments_lexer": "ipython3",
   "version": "3.10.7"
  },
  "orig_nbformat": 4,
  "vscode": {
   "interpreter": {
    "hash": "30c9f151d170d064f054e7769e6cc33a781cb713a9712292b110ae53e4c3962f"
   }
  }
 },
 "nbformat": 4,
 "nbformat_minor": 2
}
