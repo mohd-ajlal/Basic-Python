{
 "cells": [
  {
   "cell_type": "code",
   "execution_count": 26,
   "metadata": {},
   "outputs": [],
   "source": [
    "def valid_matrix(ls):\n",
    "    b = len(ls[0])\n",
    "    for i in ls:\n",
    "        if len(i) != b:\n",
    "             return False\n",
    "    else:\n",
    "        return True           \n",
    "        "
   ]
  },
  {
   "cell_type": "code",
   "execution_count": 36,
   "metadata": {},
   "outputs": [
    {
     "name": "stdout",
     "output_type": "stream",
     "text": [
      "True\n"
     ]
    }
   ],
   "source": [
    "ls = [[1,2,3], [3,4, 5], [6,7, 5]]\n",
    "out = valid_matrix(ls)\n",
    "print(out)"
   ]
  },
  {
   "cell_type": "code",
   "execution_count": 39,
   "metadata": {},
   "outputs": [],
   "source": [
    "def valid_matrix(arr):\n",
    "    main_count = len(ls[0])\n",
    "    for i in ls:\n",
    "        count = len(i)\n",
    "        if(main_count != count):\n",
    "            return False\n",
    "    return True\n"
   ]
  },
  {
   "cell_type": "code",
   "execution_count": 37,
   "metadata": {},
   "outputs": [
    {
     "name": "stdout",
     "output_type": "stream",
     "text": [
      "True\n"
     ]
    }
   ],
   "source": [
    "arr = ls\n",
    "out = valid_matrix(arr)\n",
    "print(out)"
   ]
  },
  {
   "cell_type": "code",
   "execution_count": 50,
   "metadata": {},
   "outputs": [],
   "source": [
    "def valid(ls):\n",
    "    b = len(ls[0])\n",
    "    for i in ls:\n",
    "        if len(i) != b:\n",
    "             return False\n",
    "    else:\n",
    "        a = len(ls)\n",
    "        b = len(ls[0])\n",
    "        print(a, \"x\" ,b)\n",
    "        return True           \n"
   ]
  },
  {
   "cell_type": "code",
   "execution_count": 61,
   "metadata": {},
   "outputs": [
    {
     "name": "stdout",
     "output_type": "stream",
     "text": [
      "2 x 3\n",
      "True\n"
     ]
    }
   ],
   "source": [
    "arr = [[1,2,3], [3,4, 5]]\n",
    "out = valid(arr)\n",
    "print(out)"
   ]
  }
 ],
 "metadata": {
  "kernelspec": {
   "display_name": "Python 3",
   "language": "python",
   "name": "python3"
  },
  "language_info": {
   "codemirror_mode": {
    "name": "ipython",
    "version": 3
   },
   "file_extension": ".py",
   "mimetype": "text/x-python",
   "name": "python",
   "nbconvert_exporter": "python",
   "pygments_lexer": "ipython3",
   "version": "3.10.7"
  },
  "orig_nbformat": 4,
  "vscode": {
   "interpreter": {
    "hash": "30c9f151d170d064f054e7769e6cc33a781cb713a9712292b110ae53e4c3962f"
   }
  }
 },
 "nbformat": 4,
 "nbformat_minor": 2
}
