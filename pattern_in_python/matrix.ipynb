{
 "cells": [
  {
   "cell_type": "code",
   "execution_count": 26,
   "metadata": {},
   "outputs": [],
   "source": [
    "def valid_matrix(ls):\n",
    "    b = len(ls[0])\n",
    "    for i in ls:\n",
    "        if len(i) != b:\n",
    "             return False\n",
    "    else:\n",
    "        return True           \n",
    "        "
   ]
  },
  {
   "cell_type": "code",
   "execution_count": 36,
   "metadata": {},
   "outputs": [
    {
     "name": "stdout",
     "output_type": "stream",
     "text": [
      "True\n"
     ]
    }
   ],
   "source": [
    "ls = [[1,2,3], [3,4, 5], [6,7, 5]]\n",
    "out = valid_matrix(ls)\n",
    "print(out)"
   ]
  },
  {
   "cell_type": "code",
   "execution_count": 39,
   "metadata": {},
   "outputs": [],
   "source": [
    "def valid_matrix(arr):\n",
    "    main_count = len(ls[0])\n",
    "    for i in ls:\n",
    "        count = len(i)\n",
    "        if(main_count != count):\n",
    "            return False\n",
    "    return True\n"
   ]
  },
  {
   "cell_type": "code",
   "execution_count": 37,
   "metadata": {},
   "outputs": [
    {
     "name": "stdout",
     "output_type": "stream",
     "text": [
      "True\n"
     ]
    }
   ],
   "source": [
    "arr = ls\n",
    "out = valid_matrix(arr)\n",
    "print(out)"
   ]
  },
  {
   "cell_type": "code",
   "execution_count": 50,
   "metadata": {},
   "outputs": [],
   "source": [
    "def valid(ls):\n",
    "    b = len(ls[0])\n",
    "    for i in ls:\n",
    "        if len(i) != b:\n",
    "             return False\n",
    "    else:\n",
    "        a = len(ls)\n",
    "        b = len(ls[0])\n",
    "        print(a, \"x\" ,b)\n",
    "        return True           \n"
   ]
  },
  {
   "cell_type": "code",
   "execution_count": 61,
   "metadata": {},
   "outputs": [
    {
     "name": "stdout",
     "output_type": "stream",
     "text": [
      "2 x 3\n",
      "True\n"
     ]
    }
   ],
   "source": [
    "arr = [[1,2,3], [3,4, 5]]\n",
    "out = valid(arr)\n",
    "print(out)"
   ]
  },
  {
   "cell_type": "code",
   "execution_count": 4,
   "metadata": {},
   "outputs": [
    {
     "name": "stdout",
     "output_type": "stream",
     "text": [
      "[1, 2, 3, 4, 5, 6]\n",
      "['2', '3']\n",
      "[[1, 2, 3], [4, 5, 6]]\n",
      "1 2 3\n",
      "4 5 6\n"
     ]
    }
   ],
   "source": [
    "lt = eval(input(\"Enter the list: \"))\n",
    "a = input()\n",
    "b = a.split(\"x\")\n",
    "# print(lt)\n",
    "# print(b)\n",
    "row = int(b[0])\n",
    "col = int(b[1])\n",
    "if (len(lt)== row*col):\n",
    "    lt1 = []\n",
    "    for i in range(0, row):\n",
    "        lt2 = []\n",
    "        for j in range(0, col):\n",
    "            lt2.append(lt[i*col+j])\n",
    "        lt1.append(lt2)\n",
    "    # print(lt1)\n",
    "else:\n",
    "    print(\"Invalid matrix\")\n",
    "for i in lt1:\n",
    "    print(*i, sep=' ')\n"
   ]
  }
 ],
 "metadata": {
  "kernelspec": {
   "display_name": "Python 3",
   "language": "python",
   "name": "python3"
  },
  "language_info": {
   "codemirror_mode": {
    "name": "ipython",
    "version": 3
   },
   "file_extension": ".py",
   "mimetype": "text/x-python",
   "name": "python",
   "nbconvert_exporter": "python",
   "pygments_lexer": "ipython3",
   "version": "3.10.7 (tags/v3.10.7:6cc6b13, Sep  5 2022, 14:08:36) [MSC v.1933 64 bit (AMD64)]"
  },
  "orig_nbformat": 4,
  "vscode": {
   "interpreter": {
    "hash": "30c9f151d170d064f054e7769e6cc33a781cb713a9712292b110ae53e4c3962f"
   }
  }
 },
 "nbformat": 4,
 "nbformat_minor": 2
}
