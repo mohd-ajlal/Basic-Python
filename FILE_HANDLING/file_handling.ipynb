{
 "cells": [
  {
   "cell_type": "code",
   "execution_count": 1,
   "metadata": {},
   "outputs": [
    {
     "data": {
      "text/plain": [
       "'\\n1. Open the file\\n2. do the operation (read/write)\\n3. Close the file\\n'"
      ]
     },
     "execution_count": 1,
     "metadata": {},
     "output_type": "execute_result"
    }
   ],
   "source": [
    "# file handling: Reading and writing operation with local file\n",
    "\n",
    "'''\n",
    "1. Open the file\n",
    "2. do the operation (read/write)\n",
    "3. Close the file\n",
    "'''\n",
    "\n",
    "\n",
    "'''\n",
    "file_object = open(filename, mode) # default mode 'r'  r -> read\n",
    "'''"
   ]
  },
  {
   "cell_type": "code",
   "execution_count": 19,
   "metadata": {},
   "outputs": [],
   "source": [
    "f = open('sample.txt', 'w')\n",
    "\n",
    "print(\"Hello world\", file=f)\n",
    "print(\"Python Programming\", file = f)\n",
    "f.close()"
   ]
  },
  {
   "cell_type": "code",
   "execution_count": 12,
   "metadata": {},
   "outputs": [
    {
     "name": "stdout",
     "output_type": "stream",
     "text": [
      "\\ 1\n"
     ]
    }
   ],
   "source": [
    "st = '\\\\'\n",
    "print(st, len(st))"
   ]
  },
  {
   "cell_type": "code",
   "execution_count": 18,
   "metadata": {},
   "outputs": [
    {
     "name": "stdout",
     "output_type": "stream",
     "text": [
      "hello\n",
      "world\n"
     ]
    }
   ],
   "source": [
    "st = 'hello\\nworld'\n",
    "print(st)"
   ]
  },
  {
   "cell_type": "code",
   "execution_count": 17,
   "metadata": {},
   "outputs": [
    {
     "name": "stdout",
     "output_type": "stream",
     "text": [
      "hello\\nworld\n"
     ]
    }
   ],
   "source": [
    "st = 'hello\\\\nworld'\n",
    "print(st)"
   ]
  },
  {
   "cell_type": "code",
   "execution_count": 16,
   "metadata": {},
   "outputs": [
    {
     "name": "stdout",
     "output_type": "stream",
     "text": [
      "hello\\nworld\n"
     ]
    }
   ],
   "source": [
    "st = r'hello\\nworld'\n",
    "print(st)"
   ]
  },
  {
   "cell_type": "code",
   "execution_count": 21,
   "metadata": {},
   "outputs": [],
   "source": [
    "f = open(r'D:\\Python\\Basic Python\\FILE_HANDLING\\demo.txt', 'w')\n",
    "\n",
    "print(\"Hello world\", file=f)\n",
    "print(\"Python Programming\", file = f)\n",
    "f.close()"
   ]
  },
  {
   "cell_type": "code",
   "execution_count": null,
   "metadata": {},
   "outputs": [],
   "source": [
    "# function in file handling with file_object\n",
    "\n",
    "'''\n",
    "Writing operation w/w+/a/a+r+\n",
    "1. write()\n",
    "2. writelines()\n",
    "\n",
    "Reading operation\n",
    "1. read()\n",
    "2. readline()\n",
    "3. readlines()\n",
    "\n",
    "'''"
   ]
  },
  {
   "cell_type": "code",
   "execution_count": 25,
   "metadata": {},
   "outputs": [],
   "source": [
    "# write(): use to write the string data into a file\n",
    "# note: write function do not have any new line char which is executed after the operation like print\n",
    "\n",
    "f = open('info.txt', 'w')\n",
    "\n",
    "f.write(\"Hello World \")\n",
    "f.write(\"python \\n programming\")\n",
    "\n",
    "a = 33\n",
    "b = 44 \n",
    "c = a + b\n",
    "f.write(f\"\\nSum of two no. is {c}\")\n",
    "f.close()"
   ]
  },
  {
   "cell_type": "code",
   "execution_count": 29,
   "metadata": {},
   "outputs": [],
   "source": [
    "# writelines() : to write the list of strings(lines)\n",
    "\n",
    "ls = ['hello python\\n', 'progamming\\n', 'section\\n', 'L IIOT']\n",
    "\n",
    "f = open('writelines.txt', 'w')\n",
    "f.writelines(ls)\n",
    "\n",
    "\n",
    "f.close()"
   ]
  },
  {
   "cell_type": "code",
   "execution_count": 30,
   "metadata": {},
   "outputs": [
    {
     "name": "stdout",
     "output_type": "stream",
     "text": [
      "hello python\n",
      "progamming\n",
      "section\n",
      "L IIOT\n"
     ]
    }
   ],
   "source": [
    "# read(): Use to read the entire text of the file in the form of string\n",
    "\n",
    "f = open('writelines.txt', 'r')\n",
    "\n",
    "data = f.read()\n",
    "print(data)\n",
    "\n",
    "f.close()"
   ]
  },
  {
   "cell_type": "code",
   "execution_count": 31,
   "metadata": {},
   "outputs": [
    {
     "name": "stdout",
     "output_type": "stream",
     "text": [
      "hel\n"
     ]
    }
   ],
   "source": [
    "f = open('writelines.txt', 'r')\n",
    "\n",
    "data = f.read(3)\n",
    "print(data)\n",
    "\n",
    "f.close()"
   ]
  },
  {
   "cell_type": "code",
   "execution_count": 35,
   "metadata": {},
   "outputs": [
    {
     "name": "stdout",
     "output_type": "stream",
     "text": [
      "hel\n",
      "lo py\n"
     ]
    }
   ],
   "source": [
    "f = open('writelines.txt', 'r')\n",
    "\n",
    "data = f.read(3)\n",
    "data2 = f.read(5)\n",
    "print(data)\n",
    "print(data2)\n",
    "\n",
    "f.close()"
   ]
  },
  {
   "cell_type": "code",
   "execution_count": null,
   "metadata": {},
   "outputs": [],
   "source": []
  },
  {
   "cell_type": "code",
   "execution_count": 38,
   "metadata": {},
   "outputs": [
    {
     "name": "stdout",
     "output_type": "stream",
     "text": [
      "hello python\n",
      "\n",
      "['progamming\\n']\n"
     ]
    }
   ],
   "source": [
    "f = open('writelines.txt', 'r')\n",
    "\n",
    "data = f.readline()\n",
    "data2 = f.readlines(2)\n",
    "print(data)\n",
    "print(data2)\n",
    "\n",
    "f.close()"
   ]
  },
  {
   "cell_type": "code",
   "execution_count": 40,
   "metadata": {},
   "outputs": [
    {
     "name": "stdout",
     "output_type": "stream",
     "text": [
      "hello python\n",
      "\n",
      "progamming\n",
      "\n"
     ]
    }
   ],
   "source": [
    "# readline(): Read the current line\n",
    "\n",
    "f = open('writelines.txt', 'r')\n",
    "\n",
    "data = f.readline()\n",
    "data2 = f.readline()\n",
    "print(data)\n",
    "print(data2)\n",
    "\n",
    "f.close()"
   ]
  },
  {
   "cell_type": "code",
   "execution_count": 41,
   "metadata": {},
   "outputs": [
    {
     "name": "stdout",
     "output_type": "stream",
     "text": [
      "hel\n",
      "lo python\n",
      "\n"
     ]
    }
   ],
   "source": [
    "f = open('writelines.txt', 'r')\n",
    "\n",
    "data = f.readline(3)\n",
    "data2 = f.readline()\n",
    "print(data)\n",
    "print(data2)\n",
    "\n",
    "f.close()"
   ]
  },
  {
   "cell_type": "code",
   "execution_count": 43,
   "metadata": {},
   "outputs": [
    {
     "name": "stdout",
     "output_type": "stream",
     "text": [
      "hello python\n",
      "\n"
     ]
    }
   ],
   "source": [
    "f = open('writelines.txt', 'r')\n",
    "\n",
    "data = f.readline(110)\n",
    "# data2 = f.readline()\n",
    "print(data)\n",
    "# print(data2)\n",
    "\n",
    "f.close()"
   ]
  },
  {
   "cell_type": "code",
   "execution_count": 46,
   "metadata": {},
   "outputs": [
    {
     "name": "stdout",
     "output_type": "stream",
     "text": [
      "hello python\n",
      "\n",
      "\n"
     ]
    }
   ],
   "source": [
    "f = open('writelines.txt', 'r')\n",
    "\n",
    "data = f.readline(12)\n",
    "data2 = f.readline()\n",
    "print(data)\n",
    "print(data2)\n",
    "\n",
    "f.close()"
   ]
  },
  {
   "cell_type": "code",
   "execution_count": 47,
   "metadata": {},
   "outputs": [
    {
     "name": "stdout",
     "output_type": "stream",
     "text": [
      "hello python\n",
      "\n",
      "progamming\n",
      "\n"
     ]
    }
   ],
   "source": [
    "f = open('writelines.txt', 'r')\n",
    "\n",
    "data = f.readline(13)\n",
    "data2 = f.readline()\n",
    "print(data)\n",
    "print(data2)\n",
    "\n",
    "f.close()"
   ]
  },
  {
   "cell_type": "code",
   "execution_count": 25,
   "metadata": {},
   "outputs": [
    {
     "name": "stdout",
     "output_type": "stream",
     "text": [
      "Hello world\n",
      "Python Programming\n"
     ]
    }
   ],
   "source": [
    "# reading already exist file\n",
    "# read(): to rwad the netire text from the file object in the form of string\n",
    "# How to create the file object for reading a file name sample.txt.\n",
    "\n",
    "'''\n",
    "open the file()\n",
    "write()/read()\n",
    "close the file\n",
    "\n",
    "open(filename, mode = 'r')\n",
    "'''\n",
    "\n",
    "f = open('sample.txt') # default 'r'\n",
    "data = f.read()\n",
    "print(data)\n",
    "f.close()"
   ]
  },
  {
   "cell_type": "code",
   "execution_count": 9,
   "metadata": {},
   "outputs": [],
   "source": [
    "# file.closed -> tells true or false if file is close or not"
   ]
  },
  {
   "cell_type": "code",
   "execution_count": 23,
   "metadata": {},
   "outputs": [
    {
     "name": "stdout",
     "output_type": "stream",
     "text": [
      "File open successfully!\n",
      "Hello world\n",
      "Python Programming\n",
      "File Successfully saved!\n"
     ]
    }
   ],
   "source": [
    "f = open('sample.txt') # default 'r'\n",
    "if not f.closed:\n",
    "    print(\"File open successfully!\")\n",
    "    data = f.read()\n",
    "    print(data)\n",
    "    f.close()\n",
    "    if f.closed:\n",
    "        print('File Successfully saved!')\n",
    "    else:\n",
    "        print('File not saved')\n",
    "else:\n",
    "    print('File not opened')"
   ]
  },
  {
   "cell_type": "code",
   "execution_count": 22,
   "metadata": {},
   "outputs": [
    {
     "name": "stdout",
     "output_type": "stream",
     "text": [
      "Hello world\n",
      "Python Programming\n",
      "\n",
      "True\n"
     ]
    }
   ],
   "source": [
    "# file will automatically close\n",
    "# file.closed -> tells true or false if file is close or not\n",
    "with open('sample.txt') as f:\n",
    "    data = f.read()\n",
    "    print(data)\n",
    "print(f.closed)"
   ]
  },
  {
   "cell_type": "code",
   "execution_count": 28,
   "metadata": {},
   "outputs": [
    {
     "name": "stdout",
     "output_type": "stream",
     "text": [
      "Hel\n",
      "lo wo\n"
     ]
    }
   ],
   "source": [
    "f = open('Sample.txt')\n",
    "data = f.read(3)\n",
    "print(data)\n",
    "data = f.read(5)\n",
    "print(data)\n",
    "f.close()"
   ]
  },
  {
   "cell_type": "code",
   "execution_count": 29,
   "metadata": {},
   "outputs": [
    {
     "name": "stdout",
     "output_type": "stream",
     "text": [
      "22\n"
     ]
    }
   ],
   "source": [
    "st = 'hello python 1213 Q2!@'\n",
    "out = len(st)\n",
    "print(out)"
   ]
  },
  {
   "cell_type": "code",
   "execution_count": 32,
   "metadata": {},
   "outputs": [
    {
     "name": "stdout",
     "output_type": "stream",
     "text": [
      "30\n"
     ]
    }
   ],
   "source": [
    "# WAP in python to count the no. of characters in a given file.\n",
    "\n",
    "f = open('sample.txt')\n",
    "data = f.read()\n",
    "print(len(data))\n",
    "f.close()"
   ]
  },
  {
   "cell_type": "code",
   "execution_count": 57,
   "metadata": {},
   "outputs": [
    {
     "name": "stdout",
     "output_type": "stream",
     "text": [
      "['Hello', 'world', 'Python', 'Programming']\n",
      "4\n"
     ]
    }
   ],
   "source": [
    "# wap in python to read the words in a file named sample.txt\n",
    "\n",
    "f = open('sample.txt')\n",
    "data = f.read()\n",
    "lt = data.split()\n",
    "print(lt)\n",
    "print(len(lt))\n",
    "f.close()"
   ]
  },
  {
   "cell_type": "code",
   "execution_count": 1,
   "metadata": {},
   "outputs": [
    {
     "name": "stdout",
     "output_type": "stream",
     "text": [
      "['Hello', 'world', 'mynameisajlal', 'Python', 'ProgrammingPython', 'This', 'is', 'the', 'appended', 'text.']\n",
      "['is', 'the', 'This', 'Hello', 'world', 'text.', 'Python', 'appended', 'mynameisajlal', 'ProgrammingPython']\n",
      "ProgrammingPython\n"
     ]
    }
   ],
   "source": [
    "# wap in python to read the words in a file named sample.txt and display largest word\n",
    "\n",
    "f = open('sample.txt')\n",
    "data = f.read()\n",
    "lt = data.split()\n",
    "print(lt)\n",
    "lt.sort(key= len)\n",
    "print(lt)\n",
    "print(lt[-1])\n",
    "f.close()\n",
    "\n"
   ]
  },
  {
   "cell_type": "code",
   "execution_count": 75,
   "metadata": {},
   "outputs": [
    {
     "name": "stdout",
     "output_type": "stream",
     "text": [
      "ajlal\n"
     ]
    }
   ],
   "source": [
    "lt = ['ajlal', 'ajju', 'max']\n",
    "\n",
    "out = max(lt, key = len)\n",
    "print(out)"
   ]
  },
  {
   "cell_type": "code",
   "execution_count": 2,
   "metadata": {},
   "outputs": [
    {
     "name": "stdout",
     "output_type": "stream",
     "text": [
      "ProgrammingPython\n"
     ]
    }
   ],
   "source": [
    "# wap in python to read the words in a file named sample.txt and display largest word\n",
    "f = open('sample.txt')\n",
    "data = f.read()\n",
    "lt = data.split()\n",
    "out = max(lt, key = len)\n",
    "print(out)\n",
    "f.close()"
   ]
  },
  {
   "cell_type": "code",
   "execution_count": 84,
   "metadata": {},
   "outputs": [
    {
     "name": "stdout",
     "output_type": "stream",
     "text": [
      "ajlal\n",
      "maths\n",
      "field\n"
     ]
    }
   ],
   "source": [
    "lt = ['ajlal', 'maths', 'ajju', 'field', 'pro']\n",
    "out = max(lt, key = len)\n",
    "for i in lt:\n",
    "    if len(i) == len(out):\n",
    "        print(i)"
   ]
  },
  {
   "cell_type": "code",
   "execution_count": 87,
   "metadata": {},
   "outputs": [
    {
     "name": "stdout",
     "output_type": "stream",
     "text": [
      "Hello world\n",
      "\n",
      "mynameisajlal\n",
      "\n"
     ]
    }
   ],
   "source": [
    "# readline(): read the current line only\n",
    "\n",
    "f = open('sample.txt')\n",
    "data = f.readline()\n",
    "data2 = f.readline()\n",
    "print(data)\n",
    "print(data2)\n",
    "f.close() "
   ]
  },
  {
   "cell_type": "code",
   "execution_count": 88,
   "metadata": {},
   "outputs": [
    {
     "name": "stdout",
     "output_type": "stream",
     "text": [
      "Hel\n"
     ]
    }
   ],
   "source": [
    "# readline(): read the current line only\n",
    "\n",
    "f = open('sample.txt')\n",
    "data = f.readline(3)\n",
    "# data2 = f.readline()\n",
    "print(data)\n",
    "# print(data2)\n",
    "f.close() "
   ]
  },
  {
   "cell_type": "code",
   "execution_count": 89,
   "metadata": {},
   "outputs": [
    {
     "name": "stdout",
     "output_type": "stream",
     "text": [
      "Hel\n",
      "lo world\n",
      "\n"
     ]
    }
   ],
   "source": [
    "# readline(): read the current line only\n",
    "\n",
    "f = open('sample.txt')\n",
    "data = f.readline(3)\n",
    "data2 = f.readline()\n",
    "print(data)\n",
    "print(data2)\n",
    "f.close() "
   ]
  },
  {
   "cell_type": "code",
   "execution_count": 95,
   "metadata": {},
   "outputs": [
    {
     "name": "stdout",
     "output_type": "stream",
     "text": [
      "Hello world\n",
      "\n",
      "\n"
     ]
    }
   ],
   "source": [
    "# readline(): read the current line only\n",
    "\n",
    "f = open('sample.txt')\n",
    "data = f.readline(11)\n",
    "data2 = f.readline()\n",
    "print(data)\n",
    "print(data2)\n",
    "f.close() "
   ]
  },
  {
   "cell_type": "code",
   "execution_count": 96,
   "metadata": {},
   "outputs": [
    {
     "name": "stdout",
     "output_type": "stream",
     "text": [
      "Hello world\n",
      "\n",
      "mynameisajlal\n",
      "\n"
     ]
    }
   ],
   "source": [
    "f = open('sample.txt')\n",
    "data = f.readline(12)\n",
    "data2 = f.readline()\n",
    "print(data)\n",
    "print(data2)\n",
    "f.close() "
   ]
  },
  {
   "cell_type": "code",
   "execution_count": 103,
   "metadata": {},
   "outputs": [
    {
     "name": "stdout",
     "output_type": "stream",
     "text": [
      "Hello world\n",
      "\n",
      "mynameisajlal\n",
      "\n"
     ]
    }
   ],
   "source": [
    "f = open('sample.txt')\n",
    "data = f.readline(14)\n",
    "data2 = f.readline()\n",
    "print(data)\n",
    "print(data2)\n",
    "f.close()"
   ]
  },
  {
   "cell_type": "code",
   "execution_count": null,
   "metadata": {},
   "outputs": [],
   "source": [
    "# wap in python top display the longest line in a given file"
   ]
  },
  {
   "cell_type": "code",
   "execution_count": 1,
   "metadata": {},
   "outputs": [
    {
     "name": "stdout",
     "output_type": "stream",
     "text": [
      "['Hello world\\n', 'mynameisajlal\\n', 'Python Programming']\n"
     ]
    }
   ],
   "source": [
    "# readlines(): read the entire text of the file in the form of a list\n",
    "\n",
    "f = open('sample.txt', 'r')\n",
    "data = f.readlines()\n",
    "print(data)\n",
    "f.close()"
   ]
  },
  {
   "cell_type": "code",
   "execution_count": 8,
   "metadata": {},
   "outputs": [
    {
     "name": "stdout",
     "output_type": "stream",
     "text": [
      "['Hello world\\n']\n"
     ]
    }
   ],
   "source": [
    "f = open('sample.txt', 'r')\n",
    "data = f.readlines(1)\n",
    "print(data)\n",
    "f.close()"
   ]
  },
  {
   "cell_type": "code",
   "execution_count": 13,
   "metadata": {},
   "outputs": [
    {
     "name": "stdout",
     "output_type": "stream",
     "text": [
      "['Hello world\\n']\n"
     ]
    }
   ],
   "source": [
    "f = open('sample.txt', 'r')\n",
    "data = f.readlines(10)\n",
    "print(data)\n",
    "f.close()"
   ]
  },
  {
   "cell_type": "code",
   "execution_count": 14,
   "metadata": {},
   "outputs": [
    {
     "name": "stdout",
     "output_type": "stream",
     "text": [
      "['Hello world\\n', 'mynameisajlal\\n']\n"
     ]
    }
   ],
   "source": [
    "f = open('sample.txt', 'r')\n",
    "data = f.readlines(14)\n",
    "print(data)\n",
    "f.close()"
   ]
  },
  {
   "cell_type": "code",
   "execution_count": 19,
   "metadata": {},
   "outputs": [
    {
     "name": "stdout",
     "output_type": "stream",
     "text": [
      "Hello World python \n",
      "\n"
     ]
    }
   ],
   "source": [
    "f = open('info.txt')\n",
    "data = f.readlines()\n",
    "out = max(data, key = len)\n",
    "print(out)"
   ]
  },
  {
   "cell_type": "code",
   "execution_count": 2,
   "metadata": {},
   "outputs": [
    {
     "name": "stdout",
     "output_type": "stream",
     "text": [
      "Hello world\n",
      "mynameisajlal\n",
      "Python ProgrammingPython\n"
     ]
    }
   ],
   "source": [
    "# r+ : read amd write data\n",
    "\n",
    "f = open('sample.txt', 'r+')\n",
    "data = f.read()\n",
    "print(data)\n",
    "f.close()"
   ]
  },
  {
   "cell_type": "code",
   "execution_count": 21,
   "metadata": {},
   "outputs": [
    {
     "name": "stdout",
     "output_type": "stream",
     "text": [
      "Hello world\n",
      "mynameisajlal\n",
      "Python Programming\n"
     ]
    }
   ],
   "source": [
    "f = open('sample.txt', 'r+')\n",
    "data = f.read()\n",
    "print(data)\n",
    "f.write('Python')\n",
    "f.close()"
   ]
  },
  {
   "cell_type": "code",
   "execution_count": 30,
   "metadata": {},
   "outputs": [
    {
     "name": "stdout",
     "output_type": "stream",
     "text": [
      "5\n",
      "5\n"
     ]
    }
   ],
   "source": [
    "f = open('sample.txt', 'r+')\n",
    "data = f.write('Hello')\n",
    "print(data)\n",
    "# f.write('Python')\n",
    "print(data)\n",
    "f.close()"
   ]
  },
  {
   "cell_type": "code",
   "execution_count": null,
   "metadata": {},
   "outputs": [],
   "source": [
    "# f.seek(position, SEEK_END) : use to set the cursor location within the file.\n",
    "\n",
    "\n",
    "# f.tell() : return the current cursor location in a file."
   ]
  },
  {
   "cell_type": "code",
   "execution_count": 31,
   "metadata": {},
   "outputs": [
    {
     "name": "stdout",
     "output_type": "stream",
     "text": [
      "Cursor  0\n"
     ]
    }
   ],
   "source": [
    "f = open(\"sample.txt\", \"r+\")\n",
    "print('Cursor ', f.tell())\n",
    "f.close()"
   ]
  },
  {
   "cell_type": "code",
   "execution_count": 32,
   "metadata": {},
   "outputs": [
    {
     "name": "stdout",
     "output_type": "stream",
     "text": [
      "Cursor  52\n"
     ]
    }
   ],
   "source": [
    "\n",
    "\n",
    "f = open(\"sample.txt\", \"r+\")\n",
    "f.seek(0,2)\n",
    "\n",
    "# 0: beginning\n",
    "# 1: current\n",
    "# zxt\n",
    "print('Cursor ', f.tell())\n",
    "f.close()"
   ]
  },
  {
   "cell_type": "code",
   "execution_count": null,
   "metadata": {},
   "outputs": [],
   "source": [
    "f = open(\"sample.txt\", \"r+\")\n",
    "f.seek(0,2)\n",
    "\n",
    "# 0: beginning\n",
    "# 1: current\n",
    "# zxt\n",
    "print('Cursor ', f.tell())\n",
    "f.close()"
   ]
  },
  {
   "cell_type": "code",
   "execution_count": 35,
   "metadata": {},
   "outputs": [
    {
     "name": "stdout",
     "output_type": "stream",
     "text": [
      "Cursor  47\n"
     ]
    }
   ],
   "source": [
    "f = open(\"sample.txt\", \"r+b\")\n",
    "f.seek(-5, 2)\n",
    "\n",
    "# 0: beginning\n",
    "# 1: current\n",
    "# zxt\n",
    "print('Cursor ', f.tell())\n",
    "f.close()"
   ]
  },
  {
   "cell_type": "code",
   "execution_count": 37,
   "metadata": {},
   "outputs": [
    {
     "name": "stdout",
     "output_type": "stream",
     "text": [
      "Cursor  10\n"
     ]
    }
   ],
   "source": [
    "f = open(\"sample.txt\", \"r+b\")\n",
    "data = f.read(10)\n",
    "\n",
    "# 0: beginning\n",
    "# 1: current\n",
    "# zxt\n",
    "\n",
    "print('Cursor ', f.tell())\n",
    "f.seek(-5, 2)\n",
    "f.close()"
   ]
  },
  {
   "cell_type": "code",
   "execution_count": 40,
   "metadata": {},
   "outputs": [
    {
     "name": "stdout",
     "output_type": "stream",
     "text": [
      "b'hello world'\n"
     ]
    }
   ],
   "source": [
    "# byte string\n",
    "\n",
    "st = b'hello world'\n",
    "print(st)\n"
   ]
  },
  {
   "cell_type": "code",
   "execution_count": 41,
   "metadata": {},
   "outputs": [
    {
     "name": "stdout",
     "output_type": "stream",
     "text": [
      "101\n"
     ]
    }
   ],
   "source": [
    "st = b'hello world'\n",
    "print(st[1])"
   ]
  },
  {
   "cell_type": "code",
   "execution_count": 45,
   "metadata": {},
   "outputs": [
    {
     "name": "stdout",
     "output_type": "stream",
     "text": [
      "️\n"
     ]
    }
   ],
   "source": [
    "st = 'hello world❤️'\n",
    "out = st.encode('utf-8')\n",
    "print(data)"
   ]
  },
  {
   "cell_type": "code",
   "execution_count": 4,
   "metadata": {},
   "outputs": [
    {
     "ename": "SyntaxError",
     "evalue": "bytes can only contain ASCII literal characters (3893160378.py, line 1)",
     "output_type": "error",
     "traceback": [
      "\u001b[1;36m  Cell \u001b[1;32mIn [4], line 1\u001b[1;36m\u001b[0m\n\u001b[1;33m    st = b'hello world❤️'\u001b[0m\n\u001b[1;37m                         ^\u001b[0m\n\u001b[1;31mSyntaxError\u001b[0m\u001b[1;31m:\u001b[0m bytes can only contain ASCII literal characters\n"
     ]
    }
   ],
   "source": [
    "st = b'hello world❤️'\n",
    "out = st.decode('utf-8')\n",
    "print(data)"
   ]
  },
  {
   "cell_type": "code",
   "execution_count": null,
   "metadata": {},
   "outputs": [],
   "source": [
    "st = b'I  U'\n",
    "st.decode()\n",
    "print(out)"
   ]
  },
  {
   "cell_type": "code",
   "execution_count": 4,
   "metadata": {},
   "outputs": [
    {
     "name": "stdout",
     "output_type": "stream",
     "text": [
      "Hello world\n",
      "mynameisajlal\n",
      "Python ProgrammingPython\n"
     ]
    }
   ],
   "source": [
    "f = open('sample.txt')\n",
    "data = f.read()\n",
    "print(data)\n",
    "f.close()"
   ]
  }
 ],
 "metadata": {
  "kernelspec": {
   "display_name": "Python 3",
   "language": "python",
   "name": "python3"
  },
  "language_info": {
   "codemirror_mode": {
    "name": "ipython",
    "version": 3
   },
   "file_extension": ".py",
   "mimetype": "text/x-python",
   "name": "python",
   "nbconvert_exporter": "python",
   "pygments_lexer": "ipython3",
   "version": "3.10.7 (tags/v3.10.7:6cc6b13, Sep  5 2022, 14:08:36) [MSC v.1933 64 bit (AMD64)]"
  },
  "orig_nbformat": 4,
  "vscode": {
   "interpreter": {
    "hash": "30c9f151d170d064f054e7769e6cc33a781cb713a9712292b110ae53e4c3962f"
   }
  }
 },
 "nbformat": 4,
 "nbformat_minor": 2
}
