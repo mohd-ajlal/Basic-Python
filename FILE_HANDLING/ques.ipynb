{
 "cells": [
  {
   "cell_type": "code",
   "execution_count": 2,
   "metadata": {},
   "outputs": [
    {
     "name": "stdout",
     "output_type": "stream",
     "text": [
      "Hello world\n",
      "mynameisajlal\n",
      "Python ProgrammingPython\n"
     ]
    }
   ],
   "source": [
    "# Write a Python program to read an entire text file.\n",
    "\n",
    "f = open('sample.txt')\n",
    "data = f.read()\n",
    "print(data)\n",
    "f.close()"
   ]
  },
  {
   "cell_type": "code",
   "execution_count": 5,
   "metadata": {},
   "outputs": [
    {
     "name": "stdout",
     "output_type": "stream",
     "text": [
      "Hello world\n",
      "mynameisajlal\n",
      "Python ProgrammingPython"
     ]
    }
   ],
   "source": [
    "# Write a Python program to read first n lines of a file.\n",
    "\n",
    "n = int(input(\"Enter the number of lines to be read: \"))\n",
    "f = open('sample.txt')\n",
    "for i in range(n):\n",
    "    print(f.readline(), end='')"
   ]
  },
  {
   "cell_type": "code",
   "execution_count": 8,
   "metadata": {},
   "outputs": [],
   "source": [
    "# Write a Python program to append text to a file and display the text.\n",
    "\n",
    "f = open('sample.txt', 'a')\n",
    "f.write(\"\\nThis is the appended text.\")\n",
    "f.close()"
   ]
  }
 ],
 "metadata": {
  "kernelspec": {
   "display_name": "Python 3",
   "language": "python",
   "name": "python3"
  },
  "language_info": {
   "codemirror_mode": {
    "name": "ipython",
    "version": 3
   },
   "file_extension": ".py",
   "mimetype": "text/x-python",
   "name": "python",
   "nbconvert_exporter": "python",
   "pygments_lexer": "ipython3",
   "version": "3.10.7 (tags/v3.10.7:6cc6b13, Sep  5 2022, 14:08:36) [MSC v.1933 64 bit (AMD64)]"
  },
  "orig_nbformat": 4,
  "vscode": {
   "interpreter": {
    "hash": "30c9f151d170d064f054e7769e6cc33a781cb713a9712292b110ae53e4c3962f"
   }
  }
 },
 "nbformat": 4,
 "nbformat_minor": 2
}
